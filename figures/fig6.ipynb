{
 "cells": [
  {
   "cell_type": "code",
   "execution_count": 1,
   "metadata": {},
   "outputs": [],
   "source": [
    "import os\n",
    "import sys\n",
    "import gzip\n",
    "import math\n",
    "import random\n",
    "import numpy as np\n",
    "import matplotlib.pyplot as plt\n",
    "from mpl_toolkits.axes_grid1.inset_locator import inset_axes\n",
    "from matplotlib import gridspec\n",
    "import seaborn as sns\n",
    "%matplotlib inline"
   ]
  },
  {
   "cell_type": "code",
   "execution_count": 2,
   "metadata": {},
   "outputs": [],
   "source": [
    "import matplotlib.font_manager\n",
    "matplotlib.font_manager.findSystemFonts(fontpaths=None, fontext='ttf');\n",
    "\n",
    "font = matplotlib.font_manager.FontProperties(fname='/System/Library/Fonts/Supplemental/Avenir.ttf')"
   ]
  },
  {
   "cell_type": "code",
   "execution_count": 3,
   "metadata": {},
   "outputs": [],
   "source": [
    "plt.rcParams.update({'text.usetex': True,\n",
    "                        'font.family': \"sans-serif\",\n",
    "                        'text.latex.preamble': r\"\\usepackage{amsmath}\"})"
   ]
  },
  {
   "cell_type": "code",
   "execution_count": 4,
   "metadata": {},
   "outputs": [],
   "source": [
    "N = 1e6\n",
    "regime = 'r'\n",
    "rs = np.load('../simulations/out/%s_rs.npy' % regime) # loading R values"
   ]
  },
  {
   "cell_type": "code",
   "execution_count": 5,
   "metadata": {},
   "outputs": [
    {
     "data": {
      "text/plain": [
       "[5.623413251903491e-06, 0.0005623413251903491, 0.05623413251903491]"
      ]
     },
     "execution_count": 5,
     "metadata": {},
     "output_type": "execute_result"
    }
   ],
   "source": [
    "[rs[4], rs[12], rs[20]]"
   ]
  },
  {
   "cell_type": "code",
   "execution_count": null,
   "metadata": {},
   "outputs": [],
   "source": [
    "# need to first process raw trajectories – this takes some time! \n",
    "# consider skipping this step and loading processed trajectories instead if they exist\n",
    "\n",
    "'''\n",
    "param_idx = 20\n",
    "\n",
    "filename = os.path.join('../simulations/out', 'output_%s_%d.txt.gz' % (regime,param_idx))\n",
    "file = gzip.GzipFile(filename,\"r\")\n",
    "f11s = []\n",
    "f10s = []\n",
    "f01s = []\n",
    "\n",
    "for line in file:\n",
    "\n",
    "    if line.startswith(b'//'):\n",
    "        continue\n",
    "    items = line.split()\n",
    "\n",
    "    f11 = float(items[0])\n",
    "    f10 = float(items[1])\n",
    "    f01 = float(items[2])\n",
    "\n",
    "    f11s.append(f11)\n",
    "    f10s.append(f10)\n",
    "    f01s.append(f01)\n",
    "\n",
    "file.close()\n",
    "\n",
    "f11s = np.array(f11s)\n",
    "f10s = np.array(f10s)\n",
    "f01s = np.array(f01s)\n",
    "f00s = 1 - f11s - f10s - f01s\n",
    "fAs = f11s + f10s\n",
    "fBs = f11s + f01s\n",
    "\n",
    "all_fs = np.stack((f11s, f10s, f01s), axis=-1)\n",
    "np.save(os.path.join('../simulations/out', 'fs_%s_%d'%(regime,param_idx)), all_fs)\n",
    "'''\n"
   ]
  },
  {
   "cell_type": "code",
   "execution_count": 14,
   "metadata": {},
   "outputs": [
    {
     "name": "stdout",
     "output_type": "stream",
     "text": [
      "165.29391695962315 0.12146572624111539 0.996904109588097\n",
      "532.2969832256114 1.259644568426382 0.9963852866447509\n",
      "1652.9391695962317 12.146572624111538 0.9986130212506347\n",
      "5322.969832256114 125.96445684263821 0.9993487118882479\n"
     ]
    }
   ],
   "source": [
    "# alternatively, can load already processed trajectories\n",
    "# feel free to skip this step too\n",
    "\n",
    "# large NRf_0 first:\n",
    "param_idx = 20\n",
    "r = rs[param_idx]\n",
    "\n",
    "all_fs = np.load(os.path.join('../simulations/out', 'fs_%s_%d.npy'%(regime,param_idx)))\n",
    "f11s = all_fs[:, 0]\n",
    "f10s = all_fs[:, 1]\n",
    "f01s = all_fs[:, 2]\n",
    "f00s = 1-f11s-f10s-f01s\n",
    "fAs = f11s+f10s\n",
    "fBs = f11s+f01s\n",
    "\n",
    "# freq ranges\n",
    "f_lims = [(0.0012, 0.0018), (0.004, 0.0056), (0.04, 0.056)]\n",
    "\n",
    "for i, (f_min, f_max) in enumerate(f_lims):\n",
    "    rho = 2 * N * r * np.sqrt(f_min * f_max)\n",
    "    nrf2 = N * r * f_min * f_max\n",
    "    mask = (fAs >= f_min) & (fAs <= f_max) & (fBs >= f_min) & (fBs <= f_max)\n",
    "    lambdas = (f11s[mask]*f10s[mask]*f01s[mask]*f00s[mask]) / np.square(fAs[mask] * fBs[mask]*(1-fAs[mask])*(1-fBs[mask]))\n",
    "    print(rho, nrf2, lambdas.mean())\n",
    "    #np.save('../simulations/out/lambda2_distr_rho=' + '{:.3f}'.format(rho) + '_nrf0^2=' + '{:.3f}'.format(nrf2), lambdas)\n"
   ]
  },
  {
   "cell_type": "code",
   "execution_count": 10,
   "metadata": {},
   "outputs": [],
   "source": [
    "# downloading lambda distributions\n",
    "lambda2_large_rho_large_nrff = np.load('../simulations/out/lambda2_distr_rho=5322.970_nrf0^2=125.964.npy')\n",
    "lambda2_large_rho_nrff_1 = np.load('../simulations/out/lambda2_distr_rho=532.297_nrf0^2=1.260.npy')"
   ]
  },
  {
   "cell_type": "code",
   "execution_count": 41,
   "metadata": {},
   "outputs": [
    {
     "data": {
      "image/png": "[encoded data removed]",
      "text/plain": [
       "<Figure size 600x500 with 1 Axes>"
      ]
     },
     "metadata": {},
     "output_type": "display_data"
    }
   ],
   "source": [
    "# trying a different color scheme\n",
    "# comparing simulations w/ numerics:\n",
    "\n",
    "matplotlib.rcParams['axes.linewidth'] = 1\n",
    "\n",
    "rhos = np.logspace(-4.5, 4.5, int(1e2))\n",
    "\n",
    "fig = plt.figure(figsize=(6,5))\n",
    "\n",
    "cmap = matplotlib.cm.ScalarMappable(norm=matplotlib.colors.Normalize(vmin=1, vmax=3),cmap=sns.color_palette(\"crest\", as_cmap=True))\n",
    "grey = '#b9b9b9' \n",
    "w = 1.25 # linewidth\n",
    "\n",
    "sns.kdeplot(lambda2_large_rho_nrff_1, bw_adjust=5, fill=True, alpha=0.7, linewidth=0, \n",
    "            color=matplotlib.colors.rgb2hex(cmap.to_rgba(1)), zorder=1, label=r\"$NRf_0^2 \\sim 1$\")\n",
    "sns.kdeplot(lambda2_large_rho_large_nrff, bw_adjust=5, fill=True, alpha=1, linewidth=0, \n",
    "            color=matplotlib.colors.rgb2hex(cmap.to_rgba(2)), zorder=2, label=r\"$NRf_0^2 \\gg 1$\")\n",
    "\n",
    "plt.yscale('log')\n",
    "plt.minorticks_off()\n",
    "plt.tick_params(axis='both', labelsize=14)\n",
    "\n",
    "plt.xticks([0, 1, 2, 3, 4, 5], \n",
    "           [r\"$0$\", r\"$1$\", r\"$2$\", r\"$3$\", r\"$4$\", r\"$5$\"])\n",
    "plt.yticks([1e-4, 1e-2, 1e0, 1e2], \n",
    "           ['$10^{-4}$', '$10^{-2}$', '$10^{0}$', '$10^{2}$'])\n",
    "\n",
    "plt.xlim(0, 5)\n",
    "plt.ylim(1e-4,1e2)\n",
    "\n",
    "plt.ylabel(r\"$\\text{probability density}$\", fontsize=14, labelpad=10);\n",
    "plt.xlabel(r\"$\\Lambda\\vert_{f_A, f_B \\sim f_0}$\", fontsize=16, labelpad=8);  \n",
    "\n",
    "plt.legend(frameon=False, fontsize=12, loc='upper right', handletextpad=1);\n",
    "\n",
    "#plt.savefig('fig6_v1.png',dpi=600,bbox_inches='tight') "
   ]
  },
  {
   "cell_type": "code",
   "execution_count": null,
   "metadata": {},
   "outputs": [],
   "source": []
  }
 ],
 "metadata": {
  "kernelspec": {
   "display_name": "Python 3 (ipykernel)",
   "language": "python",
   "name": "python3"
  },
  "language_info": {
   "codemirror_mode": {
    "name": "ipython",
    "version": 3
   },
   "file_extension": ".py",
   "mimetype": "text/x-python",
   "name": "python",
   "nbconvert_exporter": "python",
   "pygments_lexer": "ipython3",
   "version": "3.8.3"
  }
 },
 "nbformat": 4,
 "nbformat_minor": 4
}
