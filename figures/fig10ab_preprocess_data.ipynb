{
 "cells": [
  {
   "cell_type": "code",
   "execution_count": 1,
   "id": "d4921d32-af16-4f60-a898-74d4768f239d",
   "metadata": {},
   "outputs": [],
   "source": [
    "import sys\n",
    "import os\n",
    "sys.path.append('/share/software/user/open/py-matplotlib/3.7.1_py39/lib/python3.9/site-packages')\n",
    "sys.path.append('/share/software/user/open/py-numpy/1.24.2_py39/lib/python3.9/site-packages')\n",
    "sys.path.append('/share/software/user/open/py-pandas/2.0.1_py39/lib/python3.9/site-packages')\n",
    "import numpy as np\n",
    "import matplotlib.pyplot as plt\n",
    "import matplotlib\n",
    "import pandas as pd"
   ]
  },
  {
   "cell_type": "code",
   "execution_count": 2,
   "id": "7cc2fc2b-2453-46cc-bc1b-cd0fd0167294",
   "metadata": {},
   "outputs": [],
   "source": [
    "cache_path = '/scratch/groups/bhgood/uhgg/pairwise_stats/LE/syn/MGYG-HGUT-02492/full_cache'\n",
    "stat_path = '/scratch/groups/bhgood/uhgg/pairwise_stats/LE/syn/MGYG-HGUT-02492/'"
   ]
  },
  {
   "cell_type": "code",
   "execution_count": 5,
   "id": "c635b181-5efe-40c1-9ea7-a4c2436a62d0",
   "metadata": {},
   "outputs": [
    {
     "name": "stdout",
     "output_type": "stream",
     "text": [
      "CPU times: user 1h 3min 46s, sys: 1min 30s, total: 1h 5min 17s\n",
      "Wall time: 1h 5min 27s\n"
     ]
    }
   ],
   "source": [
    "%%time\n",
    "# first bootstrapping the frequency scan\n",
    "\n",
    "B = 1000 # num of bootstrap samples\n",
    "num_ells = 3\n",
    "num_f0s = len(np.load(os.path.join(stat_path, 'f_scan_f0s_{}.npy'.format(0))))\n",
    "bootstrap_res = np.zeros((num_ells, num_f0s, B))\n",
    "\n",
    "for ell_idx in range(num_ells):\n",
    "    f0s = np.load(os.path.join(stat_path, 'f_scan_f0s_{}.npy'.format(ell_idx)))\n",
    "    num_f0s = len(f0s)\n",
    "    for f_idx in range(num_f0s):\n",
    "        numers = np.load(os.path.join(cache_path, 'f_scan_stats_numer_full_{}_{}.npy'.format(ell_idx, f_idx)))\n",
    "        denoms = np.load(os.path.join(cache_path, 'f_scan_stats_denom_full_{}_{}.npy'.format(ell_idx, f_idx)))\n",
    "        for b in range(B):\n",
    "            sampled_idxs = np.random.choice(np.arange(len(numers)), len(numers))\n",
    "            sampled_numers = numers[sampled_idxs]\n",
    "            sampled_denoms = denoms[sampled_idxs]\n",
    "            sampled_LE = sampled_numers.mean() / sampled_denoms.mean()\n",
    "            bootstrap_res[ell_idx, f_idx, b] = sampled_LE"
   ]
  },
  {
   "cell_type": "code",
   "execution_count": 6,
   "id": "fef788ff-8cb5-4074-884c-30bfe1fcced4",
   "metadata": {},
   "outputs": [],
   "source": [
    "# saving the bootstrap res\n",
    "np.save('fig10b_bootstrap', bootstrap_res)"
   ]
  },
  {
   "cell_type": "code",
   "execution_count": 38,
   "id": "62f8106d-5ecf-4ea7-b29c-95a9551cde58",
   "metadata": {},
   "outputs": [],
   "source": [
    "# computing the confidence intervals\n",
    "\n",
    "bootstrap_res = np.load('fig10b_bootstrap.npy')\n",
    "bootstrap_mean = bootstrap_res.mean(axis=2)\n",
    "# calculate CI on log scale\n",
    "log_bootstrap = np.log10(bootstrap_res)\n",
    "\n",
    "confidence_level = 0.99\n",
    "lower_percentile = (1.0 - confidence_level) / 2.0 * 100\n",
    "upper_percentile = (1.0 + confidence_level) / 2.0 * 100\n",
    "\n",
    "confidence_interval = np.percentile(bootstrap_res, [lower_percentile, upper_percentile], axis=2)\n",
    "ci_lower = confidence_interval[0]\n",
    "ci_upper = confidence_interval[1]\n",
    "\n",
    "np.save('fig10b_ci', confidence_interval)"
   ]
  },
  {
   "cell_type": "code",
   "execution_count": 4,
   "id": "7edc5e47-c58b-4d55-99bf-05941ef8a895",
   "metadata": {
    "collapsed": true,
    "jupyter": {
     "outputs_hidden": true
    }
   },
   "outputs": [
    {
     "name": "stdout",
     "output_type": "stream",
     "text": [
      "0 0\n",
      "0 20\n",
      "0 40\n",
      "0 60\n",
      "0 80\n",
      "0 100\n",
      "0 120\n",
      "0 140\n",
      "0 160\n",
      "0 180\n",
      "0 200\n",
      "1 0\n",
      "1 20\n",
      "1 40\n",
      "1 60\n",
      "1 80\n",
      "1 100\n",
      "1 120\n",
      "1 140\n",
      "1 160\n",
      "1 180\n",
      "1 200\n",
      "2 0\n",
      "2 20\n",
      "2 40\n",
      "2 60\n",
      "2 80\n",
      "2 100\n",
      "2 120\n",
      "2 140\n",
      "2 160\n",
      "2 180\n",
      "2 200\n",
      "3 0\n",
      "3 20\n",
      "3 40\n",
      "3 60\n",
      "3 80\n",
      "3 100\n",
      "3 120\n",
      "3 140\n",
      "3 160\n",
      "3 180\n",
      "3 200\n",
      "4 0\n",
      "4 20\n",
      "4 40\n",
      "4 60\n",
      "4 80\n",
      "4 100\n",
      "4 120\n",
      "4 140\n",
      "4 160\n",
      "4 180\n",
      "4 200\n",
      "5 0\n",
      "5 20\n",
      "5 40\n",
      "5 60\n",
      "5 80\n",
      "5 100\n",
      "5 120\n",
      "5 140\n",
      "5 160\n",
      "5 180\n",
      "5 200\n",
      "CPU times: user 4min 59s, sys: 17.2 s, total: 5min 16s\n",
      "Wall time: 5min 34s\n"
     ]
    }
   ],
   "source": [
    "%%time\n",
    "# then bootstrapping the ell scan\n",
    "\n",
    "B = 1000 # num of bootstrap samples\n",
    "num_f0s = 6\n",
    "num_ells = len(np.load(os.path.join(stat_path, 'ell_scan_ells_{}.npy'.format(0))))\n",
    "bootstrap_res = np.zeros((num_f0s, num_ells, B))\n",
    "    \n",
    "for f_idx in range(num_f0s):\n",
    "    ells = np.load(os.path.join(stat_path, 'ell_scan_ells_{}.npy'.format(f_idx)))\n",
    "    for ell_idx in range(num_ells):\n",
    "        if ell_idx%20==0:\n",
    "            print(f_idx, ell_idx)\n",
    "        numers = np.load(os.path.join(cache_path, 'ell_scan_stats_numer_full_{}_{}.npy'.format(f_idx, ell_idx)))\n",
    "        denoms = np.load(os.path.join(cache_path, 'ell_scan_stats_denom_full_{}_{}.npy'.format(f_idx, ell_idx)))\n",
    "        for b in range(B):\n",
    "            sampled_idxs = np.random.choice(np.arange(len(numers)), len(numers))\n",
    "            sampled_numers = numers[sampled_idxs]\n",
    "            sampled_denoms = denoms[sampled_idxs]\n",
    "            sampled_LE = sampled_numers.mean() / sampled_denoms.mean()\n",
    "            bootstrap_res[f_idx, ell_idx, b] = sampled_LE"
   ]
  },
  {
   "cell_type": "code",
   "execution_count": null,
   "id": "3d00b1c0-4eac-4718-a396-858714ac38a3",
   "metadata": {},
   "outputs": [],
   "source": [
    "np.save('fig10a_bootstrap', bootstrap_res)"
   ]
  },
  {
   "cell_type": "code",
   "execution_count": 36,
   "id": "58564809-2ba8-4d02-93d2-93e487c2d61b",
   "metadata": {},
   "outputs": [],
   "source": [
    "# computing the confidence intervals\n",
    "\n",
    "bootstrap_res = np.load('fig10a_bootstrap.npy')\n",
    "bootstrap_mean = bootstrap_res.mean(axis=2)\n",
    "# calculate CI on log scale\n",
    "log_bootstrap = np.log10(bootstrap_res)\n",
    "\n",
    "confidence_level = 0.99\n",
    "lower_percentile = (1.0 - confidence_level) / 2.0 * 100\n",
    "upper_percentile = (1.0 + confidence_level) / 2.0 * 100\n",
    "\n",
    "confidence_interval = np.percentile(bootstrap_res, [lower_percentile, upper_percentile], axis=2)\n",
    "ci_lower = confidence_interval[0]\n",
    "ci_upper = confidence_interval[1]\n",
    "\n",
    "np.save('fig10a_ci', confidence_interval)"
   ]
  },
  {
   "cell_type": "code",
   "execution_count": null,
   "id": "540764fe-44ca-4307-b483-fa970f88add6",
   "metadata": {},
   "outputs": [],
   "source": []
  }
 ],
 "metadata": {
  "kernelspec": {
   "display_name": "Python 3 (ipykernel)",
   "language": "python",
   "name": "python3"
  },
  "language_info": {
   "codemirror_mode": {
    "name": "ipython",
    "version": 3
   },
   "file_extension": ".py",
   "mimetype": "text/x-python",
   "name": "python",
   "nbconvert_exporter": "python",
   "pygments_lexer": "ipython3",
   "version": "3.8.3"
  }
 },
 "nbformat": 4,
 "nbformat_minor": 5
}
