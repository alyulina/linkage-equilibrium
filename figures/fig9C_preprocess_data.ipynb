{
 "cells": [
  {
   "cell_type": "code",
   "execution_count": 1,
   "metadata": {
    "collapsed": true
   },
   "outputs": [],
   "source": [
    "import sys\n",
    "sys.path.append('/share/software/user/open/py-numpy/1.18.1_py36/lib/python3.6/site-packages')\n",
    "sys.path.append('/share/software/user/open/py-pandas/1.0.3_py36/lib/python3.6/site-packages')\n",
    "\n",
    "# package provided in uhgg/\n",
    "sys.path.append('/home/users/zhiru/uhgg-helper')"
   ]
  },
  {
   "cell_type": "code",
   "execution_count": 2,
   "metadata": {
    "collapsed": true
   },
   "outputs": [],
   "source": [
    "import numpy as np"
   ]
  },
  {
   "cell_type": "code",
   "execution_count": 3,
   "metadata": {},
   "outputs": [],
   "source": [
    "import UHGG_utils"
   ]
  },
  {
   "cell_type": "code",
   "execution_count": 9,
   "metadata": {},
   "outputs": [
    {
     "name": "stdout",
     "output_type": "stream",
     "text": [
      "Using frequency range med-freq: min 0.025 - max 0.0275\n"
     ]
    },
    {
     "name": "stderr",
     "output_type": "stream",
     "text": [
      "/share/software/user/open/py-jupyter/1.0.0_py36/lib/python3.6/site-packages/IPython/core/interactiveshell.py:2802: DtypeWarning: Columns (15) have mixed types.Specify dtype option on import or set low_memory=False.\n",
      "  if self.run_code(code, result):\n"
     ]
    }
   ],
   "source": [
    "accession = 'MGYG-HGUT-02492'  # uhgg accession for E. rectale\n",
    "\n",
    "# filtered SNVs tables can be computed with uhgg/scripts/filter_snv_table_by_freq.py\n",
    "idx = 1\n",
    "freq_range_name = ['big-freq', 'med-freq', 'small-freq'][idx]\n",
    "freq_range = [[0.175, 0.1925], [0.025, 0.0275], [0.00625, 0.006875]][idx]\n",
    "print(\"Using frequency range {}: min {} - max {}\".format(freq_range_name, freq_range[0], freq_range[1]))\n",
    "filepath = '/home/groups/bhgood/uhgg/filtered_snvs/{}_filtered_snvs_{}.tsv'.format(accession, freq_range_name)\n",
    "\n",
    "# load the filter \n",
    "genome_mask = UHGG_utils.get_non_redundant_genome_mask_by_accession(accession)\n",
    "true_zeros, true_ones, locations, mut_types = UHGG_utils.load_biallelic_snvs_annotated(filepath, genome_mask)"
   ]
  },
  {
   "cell_type": "code",
   "execution_count": 10,
   "metadata": {},
   "outputs": [
    {
     "name": "stdout",
     "output_type": "stream",
     "text": [
      "CPU times: user 1min 5s, sys: 290 ms, total: 1min 5s\n",
      "Wall time: 1min 5s\n"
     ]
    }
   ],
   "source": [
    "%%time\n",
    "import itertools as it\n",
    "n00s = np.dot(true_zeros, true_zeros.T)  # using dot product to count the number of genomes with 00 genotype\n",
    "n10s = np.dot(true_ones, true_zeros.T)\n",
    "n11s = np.dot(true_ones, true_ones.T)\n",
    "\n",
    "all_res = []\n",
    "for i, j in it.combinations(range(true_zeros.shape[0]), 2):\n",
    "    ell = np.abs(locations[i] - locations[j])\n",
    "    n00 = n00s[i, j]\n",
    "    n10 = n10s[i, j]\n",
    "    n01 = n10s[j, i]\n",
    "    n11 = n11s[i, j]\n",
    "    # res = (n11, n10, n01, n00, str(ell), contig, str(gene_id))\n",
    "    # shortened output to save memory\n",
    "    res = (n11, n10, n01, n00, ell)\n",
    "    all_res.append(res)"
   ]
  },
  {
   "cell_type": "code",
   "execution_count": 11,
   "metadata": {},
   "outputs": [
    {
     "name": "stdout",
     "output_type": "stream",
     "text": [
      "max_ntot 4737\n",
      "Kept 0.04888714347861272\n"
     ]
    }
   ],
   "source": [
    "ns = np.array(all_res)\n",
    "\n",
    "n11s = ns[:, 0]\n",
    "n10s = ns[:, 1]\n",
    "n01s = ns[:, 2]\n",
    "n00s = ns[:, 3]\n",
    "ells = ns[:, 4]\n",
    "ntots = n11s+n10s+n01s+n00s\n",
    "\n",
    "max_ntot = ntots.max()\n",
    "\n",
    "good_idxs = (ntots>0.95*max_ntot)\n",
    "print(\"max_ntot\", max_ntot)\n",
    "print(\"Kept\", good_idxs.sum()*1.0/len(good_idxs))\n",
    "\n",
    "n11s = n11s[good_idxs]\n",
    "n10s = n10s[good_idxs]\n",
    "n01s = n01s[good_idxs]\n",
    "n00s = n00s[good_idxs]\n",
    "ntots = ntots[good_idxs]\n",
    "ells = ells[good_idxs]\n",
    "\n",
    "min_ntot = ntots.min()\n",
    "\n",
    "f11s = n11s*1.0/ntots\n",
    "f10s = n10s*1.0/ntots\n",
    "f01s = n01s*1.0/ntots\n",
    "f00s = n00s*1.0/ntots\n",
    "\n",
    "fAs = f11s+f10s\n",
    "fBs = f11s+f01s\n",
    "\n",
    "nAs = n11s+n10s\n",
    "nBs = n11s+n01s"
   ]
  },
  {
   "cell_type": "code",
   "execution_count": 12,
   "metadata": {
    "collapsed": true
   },
   "outputs": [],
   "source": [
    "ellmin,ellmax = 1e6, 2e6\n",
    "\n",
    "good_idxs = (ells>ellmin)*(ells<ellmax)\n",
    "\n",
    "lambs = f11s[good_idxs] * f10s[good_idxs] * f01s[good_idxs] * f00s[good_idxs]\n",
    "lambs /= fAs[good_idxs]**2 * fBs[good_idxs]**2 * (1-fAs[good_idxs])**2 * (1-fBs[good_idxs])**2"
   ]
  },
  {
   "cell_type": "code",
   "execution_count": 13,
   "metadata": {},
   "outputs": [],
   "source": [
    "# saving intermediate data for plotting\n",
    "np.save('LEs_uhgg_{}'.format(freq_range_name), lambs)"
   ]
  },
  {
   "cell_type": "code",
   "execution_count": null,
   "metadata": {
    "collapsed": true
   },
   "outputs": [],
   "source": []
  }
 ],
 "metadata": {
  "kernelspec": {
   "display_name": "Python 3",
   "language": "python",
   "name": "python3"
  },
  "language_info": {
   "codemirror_mode": {
    "name": "ipython",
    "version": 3
   },
   "file_extension": ".py",
   "mimetype": "text/x-python",
   "name": "python",
   "nbconvert_exporter": "python",
   "pygments_lexer": "ipython3",
   "version": "3.6.1"
  }
 },
 "nbformat": 4,
 "nbformat_minor": 2
}
