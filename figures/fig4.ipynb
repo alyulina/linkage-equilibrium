{
 "cells": [
  {
   "cell_type": "code",
   "execution_count": 1,
   "metadata": {},
   "outputs": [],
   "source": [
    "import math\n",
    "import random\n",
    "import numpy as np\n",
    "import matplotlib\n",
    "import matplotlib.pyplot as plt\n",
    "from matplotlib import gridspec\n",
    "from mpl_toolkits.axes_grid1.inset_locator import inset_axes\n",
    "from matplotlib.colors import ListedColormap\n",
    "import seaborn as sns\n",
    "%matplotlib inline"
   ]
  },
  {
   "cell_type": "code",
   "execution_count": 2,
   "metadata": {},
   "outputs": [],
   "source": [
    "import matplotlib.font_manager\n",
    "matplotlib.font_manager.findSystemFonts(fontpaths=None, fontext='ttf');\n",
    "\n",
    "font = matplotlib.font_manager.FontProperties(fname='/System/Library/Fonts/Supplemental/Avenir.ttf')"
   ]
  },
  {
   "cell_type": "code",
   "execution_count": 3,
   "metadata": {},
   "outputs": [],
   "source": [
    "plt.rcParams.update({'text.usetex': True,\n",
    "                        'font.family': \"sans-serif\",\n",
    "                        'text.latex.preamble': r\"\\usepackage{amsmath}\"})"
   ]
  },
  {
   "cell_type": "code",
   "execution_count": 4,
   "metadata": {},
   "outputs": [],
   "source": [
    "# downloading simulation results:\n",
    "# see ../simulations\n",
    "\n",
    "N = 1e6\n",
    "s = 1e-2\n",
    "\n",
    "points = {}\n",
    "for regime in ['r_anteps=1e-2']:\n",
    "    \n",
    "    points[regime] = {}\n",
    "    points[regime]['fs'] = np.load('../simulations/out/%s_fstars.npy' % regime)\n",
    "    points[regime]['rs'] = np.load('../simulations/out/%s_rs.npy' % regime)\n",
    "    points[regime]['nums'] = np.load('../simulations/out/%s_numers.npy' % regime)\n",
    "    points[regime]['denoms'] = np.load('../simulations/out/%s_denoms.npy' % regime)\n",
    "    "
   ]
  },
  {
   "cell_type": "code",
   "execution_count": 5,
   "metadata": {},
   "outputs": [],
   "source": [
    "# strong selection result\n",
    "# see appendix c in the paper\n",
    "\n",
    "def lambda_bar(rho, gamma_a, gamma_b, gamma_ab):\n",
    "    return rho/(rho+gamma_a+gamma_b+gamma_ab) * (1 + \n",
    "                                                 gamma_a*(rho+gamma_a)/((rho+gamma_b+gamma_ab)*(rho+gamma_b/2+gamma_ab)) + \n",
    "                                                 gamma_b*(rho+gamma_b)/((rho+gamma_a+gamma_ab)*(rho+gamma_a/2+gamma_ab)) +\n",
    "                                                 4*rho*gamma_a*gamma_b*(rho+gamma_a+gamma_b)*(rho+gamma_a/2+gamma_b/2+gamma_ab)/((rho+gamma_a+gamma_ab)*(rho+gamma_b+gamma_ab)*(rho+gamma_ab)**3))\n"
   ]
  },
  {
   "cell_type": "code",
   "execution_count": 6,
   "metadata": {},
   "outputs": [
    {
     "data": {
      "image/png": "[encoded data removed]",
      "text/plain": [
       "<Figure size 600x500 with 1 Axes>"
      ]
     },
     "metadata": {},
     "output_type": "display_data"
    }
   ],
   "source": [
    "matplotlib.rcParams['axes.linewidth'] = 1\n",
    "\n",
    "fig = plt.figure(figsize=(6,5))\n",
    "\n",
    "cmap = matplotlib.cm.ScalarMappable(norm=matplotlib.colors.Normalize(vmin=-4, vmax=-1),cmap=sns.color_palette(\"crest\", as_cmap=True))\n",
    "grey = '#b9b9b9' \n",
    "w = 1.5 # linewidth\n",
    "\n",
    "# asymptotics\n",
    "plt.loglog(np.logspace(-6,8,25), np.ones_like(np.logspace(-6,8,25)), '--', color=grey, linewidth=w/2)\n",
    "#plt.loglog(np.logspace(-6,8,25), [x**2 * 0.5e-6 for x in np.logspace(-6,8,25)], color='#000000', linewidth=w, label=\"$\\\\bar{\\\\Lambda}_2 \\propto (NR)^2$\")\n",
    "\n",
    "# theory curve when no epistasis – rescaling since we want R/s_e on the x axis\n",
    "# if f_0 = 0.1 and N = 1e6, this means s = 1e-2\n",
    "gamma_a = 1000; gamma_b = 1000; eps = 0; gamma_ab = gamma_a + gamma_b + eps\n",
    "plt.plot([19 / 30 * x / gamma_ab for x in np.logspace(-4.5, 8, int(1e2))], [lambda_bar(x, gamma_a, gamma_b, gamma_ab) for x in np.logspace(-4.5, 8, int(1e2))], color='black', linewidth=w, zorder=5, \n",
    "         label='no epistasis, ' + '$s_{AB}=2s$') # label='numerics'\n",
    "\n",
    "# adding data\n",
    "regime = 'r_anteps=1e-2'\n",
    "for j, f in enumerate(points[regime]['fs'][:-7]):\n",
    "    if f != 0.01:\n",
    "        continue\n",
    "        \n",
    "    color=matplotlib.colors.rgb2hex(cmap.to_rgba(math.log10(f)))\n",
    "    \n",
    "    xs = []; ys = []    \n",
    "    for i, r in enumerate(points[regime]['rs']):\n",
    "                    \n",
    "        xs.append(19 /30 * r / s)\n",
    "        ys.append(points[regime]['nums'][i, j] / points[regime]['denoms'][i, j])\n",
    "        \n",
    "    plt.loglog(xs, ys, '^', markersize=8, markeredgecolor='#00000000', markerfacecolor='#000000', label='strong antagonistic epistasis,\\n' + '$s_{AB}=0$')\n",
    "\n",
    "plt.xticks([1e-4, 1e-2, 1e0, 1e2], \n",
    "           ['$10^{-4}$', '$10^{-2}$', '$10^{0}$', '$10^{2}$'])\n",
    "plt.yticks([1e-4, 1e-2, 1e0, 1e2], \n",
    "           ['$10^{-4}$', '$10^{-2}$', '$10^{0}$', '$10^{2}$'])\n",
    "plt.ylim([2e-5, 5e1])\n",
    "plt.xlim([2e-5, 5e2])\n",
    "\n",
    "plt.minorticks_off()\n",
    "plt.tick_params(axis='both', labelsize=14)\n",
    "\n",
    "plt.ylabel(\"$\\\\bar{\\\\Lambda}_2$\", fontsize=16, labelpad=8)\n",
    "plt.xlabel(r\"$R / s_e$\", fontsize=16, labelpad=8)    \n",
    "\n",
    "plt.legend(frameon=False, fontsize=12, loc='lower right', bbox_to_anchor=(0.5, 0.0, 0.5, 0.5), handletextpad=1);\n",
    "\n",
    "plt.savefig('fig4.pdf',dpi=600,bbox_inches='tight') \n"
   ]
  },
  {
   "cell_type": "code",
   "execution_count": null,
   "metadata": {},
   "outputs": [],
   "source": []
  }
 ],
 "metadata": {
  "kernelspec": {
   "display_name": "Python 3 (ipykernel)",
   "language": "python",
   "name": "python3"
  },
  "language_info": {
   "codemirror_mode": {
    "name": "ipython",
    "version": 3
   },
   "file_extension": ".py",
   "mimetype": "text/x-python",
   "name": "python",
   "nbconvert_exporter": "python",
   "pygments_lexer": "ipython3",
   "version": "3.8.3"
  }
 },
 "nbformat": 4,
 "nbformat_minor": 4
}
