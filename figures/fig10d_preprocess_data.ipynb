{
 "cells": [
  {
   "cell_type": "code",
   "execution_count": 1,
   "id": "7810cce8",
   "metadata": {},
   "outputs": [],
   "source": [
    "import sys\n",
    "import os\n",
    "sys.path.append('/share/software/user/open/py-matplotlib/3.7.1_py39/lib/python3.9/site-packages')\n",
    "sys.path.append('/share/software/user/open/py-numpy/1.24.2_py39/lib/python3.9/site-packages')\n",
    "import numpy as np"
   ]
  },
  {
   "cell_type": "code",
   "execution_count": 2,
   "id": "ef841f53",
   "metadata": {},
   "outputs": [
    {
     "name": "stdout",
     "output_type": "stream",
     "text": [
      "Total data shape: (9697752, 4), 310328064 bytes\n"
     ]
    }
   ],
   "source": [
    "# load precomputed haplotype count table\n",
    "path = '/home/groups/bhgood/uhgg/site_pairs/MGYG-HGUT-02492/MGYG-HGUT-02492.npy'\n",
    "pairtype = 0 # syn\n",
    "\n",
    "ns = np.load(path).astype(float)\n",
    "n11s = ns[:, 0]\n",
    "n10s = ns[:, 1]\n",
    "n01s = ns[:, 2]\n",
    "n00s = ns[:, 3]\n",
    "ells = ns[:, 4]\n",
    "types = ns[:, 5]\n",
    "ntots = n11s+n10s+n01s+n00s\n",
    "\n",
    "max_ntot = ntots.max()\n",
    "\n",
    "# keeping only well covered sites\n",
    "good_idxs = (ntots>0.95*max_ntot)\n",
    "\n",
    "mask = (types==pairtype)\n",
    "good_idxs = good_idxs & mask\n",
    "\n",
    "n11s = n11s[good_idxs]\n",
    "n10s = n10s[good_idxs]\n",
    "n01s = n01s[good_idxs]\n",
    "n00s = n00s[good_idxs]\n",
    "n_obs = np.vstack([n10s, n01s, n11s, n00s]).T\n",
    "print(\"Total data shape: {}, {} bytes\".format(n_obs.shape, n_obs.nbytes))\n",
    "ntots = ntots[good_idxs]\n",
    "ells = ells[good_idxs]"
   ]
  },
  {
   "cell_type": "code",
   "execution_count": 3,
   "id": "e06a7b7c",
   "metadata": {},
   "outputs": [],
   "source": [
    "f11s = n11s*1.0/ntots\n",
    "f10s = n10s*1.0/ntots\n",
    "f01s = n01s*1.0/ntots\n",
    "f00s = n00s*1.0/ntots\n",
    "\n",
    "fAs = f11s+f10s\n",
    "fBs = f11s+f01s\n",
    "\n",
    "nAs = n11s+n10s\n",
    "nBs = n11s+n01s"
   ]
  },
  {
   "cell_type": "code",
   "execution_count": 4,
   "id": "1805d23a",
   "metadata": {},
   "outputs": [
    {
     "name": "stdout",
     "output_type": "stream",
     "text": [
      "CPU times: user 6.93 s, sys: 449 ms, total: 7.37 s\n",
      "Wall time: 7.48 s\n"
     ]
    }
   ],
   "source": [
    "%%time\n",
    "f0s = np.logspace(-3, -0.5, 100)\n",
    "fmins = f0s * 0.3\n",
    "fmaxs = f0s * 3\n",
    "\n",
    "mean_nonzero_LE = []\n",
    "LE_prob = []\n",
    "mean_LE = []\n",
    "num_pairs = []\n",
    "\n",
    "ellmin,ellmax = 1e6, 1e9\n",
    "for i in range(len(f0s)):\n",
    "    fmax = fmaxs[i]\n",
    "    fmin = fmins[i]\n",
    "    good_idxs = (ells>ellmin)*(ells<ellmax)*(fAs<=fmax)*(fBs<=fmax)*(fAs>=fmin)*(fBs>=fmin)\n",
    "    lambs = f11s[good_idxs] * f10s[good_idxs] * f01s[good_idxs] * f00s[good_idxs]\n",
    "    lambs /= fAs[good_idxs]**2 * fBs[good_idxs]**2 * (1-fAs[good_idxs])**2 * (1-fBs[good_idxs])**2\n",
    "    \n",
    "    mean_LE.append(np.mean(lambs))\n",
    "    LE_prob.append(np.mean(lambs>0))\n",
    "    mean_nonzero_LE.append(np.mean(lambs[lambs>0]))\n",
    "    num_pairs.append(len(lambs))"
   ]
  },
  {
   "cell_type": "code",
   "execution_count": 5,
   "id": "656ee162",
   "metadata": {},
   "outputs": [],
   "source": [
    "np.save(\"f0s_fig10d\", f0s)\n",
    "np.save(\"LE_prob_fig10d\", LE_prob)"
   ]
  },
  {
   "cell_type": "code",
   "execution_count": 6,
   "id": "5feba58c-f9bc-4dfa-8042-942bb615d878",
   "metadata": {},
   "outputs": [],
   "source": [
    "def four_gamete_theory(fA, fB, NR, n):\n",
    "    alpha = 2 * NR * fA * fB\n",
    "    beta = 2 * NR\n",
    "    probs = 1 - np.power(beta / (beta + n), alpha)\n",
    "    return probs"
   ]
  },
  {
   "cell_type": "code",
   "execution_count": 7,
   "id": "c9a808be-1db0-4eb7-827e-3ee5b67e0dcc",
   "metadata": {},
   "outputs": [],
   "source": [
    "# compution an effective theory curve\n",
    "# idea: summing the theory prediction over the observed distribution of fA, fB within the (fmin, fmax) window\n",
    "f0s = np.logspace(-3, -0.5, 100)\n",
    "fmins = f0s * 0.3\n",
    "fmaxs = f0s * 3\n",
    "\n",
    "NR_max = 1 / 0.025 / 0.0275\n",
    "NR_min = 1 / 0.175 / 0.1925\n",
    "\n",
    "LE_prob = []\n",
    "theory_max = []\n",
    "theory_min = []\n",
    "\n",
    "ellmin,ellmax = 1e6, 1e9\n",
    "for i in range(len(f0s)):\n",
    "    fmax = fmaxs[i]\n",
    "    fmin = fmins[i]\n",
    "    good_idxs = (ells>ellmin)*(ells<ellmax)*(fAs<=fmax)*(fBs<=fmax)*(fAs>=fmin)*(fBs>=fmin)\n",
    "    lambs = f11s[good_idxs] * f10s[good_idxs] * f01s[good_idxs] * f00s[good_idxs]\n",
    "    lambs /= fAs[good_idxs]**2 * fBs[good_idxs]**2 * (1-fAs[good_idxs])**2 * (1-fBs[good_idxs])**2\n",
    "\n",
    "    mean_theory_prob = np.mean(four_gamete_theory(fAs[good_idxs], fBs[good_idxs], NR_max, n=4600))\n",
    "    theory_max.append(mean_theory_prob)\n",
    "    mean_theory_prob = np.mean(four_gamete_theory(fAs[good_idxs], fBs[good_idxs], NR_min, n=4600))\n",
    "    theory_min.append(mean_theory_prob)\n",
    "    \n",
    "    LE_prob.append(np.mean(lambs>0))"
   ]
  },
  {
   "cell_type": "code",
   "execution_count": 11,
   "id": "4b4ba1bc-a71d-472b-b176-6c8d2b4bd03f",
   "metadata": {},
   "outputs": [],
   "source": [
    "np.save(\"LE_theory_fig10d\", np.stack([theory_max, theory_min]))"
   ]
  },
  {
   "cell_type": "code",
   "execution_count": null,
   "id": "40e178dc-0fd5-4fc5-92e8-52747e490add",
   "metadata": {},
   "outputs": [],
   "source": []
  }
 ],
 "metadata": {
  "kernelspec": {
   "display_name": "Python 3 (ipykernel)",
   "language": "python",
   "name": "python3"
  },
  "language_info": {
   "codemirror_mode": {
    "name": "ipython",
    "version": 3
   },
   "file_extension": ".py",
   "mimetype": "text/x-python",
   "name": "python",
   "nbconvert_exporter": "python",
   "pygments_lexer": "ipython3",
   "version": "3.8.3"
  }
 },
 "nbformat": 4,
 "nbformat_minor": 5
}
