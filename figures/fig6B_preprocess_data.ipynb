{
 "cells": [
  {
   "cell_type": "code",
   "execution_count": null,
   "id": "6ff4d511",
   "metadata": {},
   "outputs": [],
   "source": [
    "import numpy as np"
   ]
  },
  {
   "cell_type": "code",
   "execution_count": null,
   "id": "18d9d6fd",
   "metadata": {},
   "outputs": [],
   "source": [
    "sys.path.append('/home/users/zhiru/linkage-equillibrium/code')\n",
    "import parameters\n",
    "import config\n",
    "\n",
    "params = parameters.params\n",
    "regime = 'r'\n",
    "param_idx = 21\n",
    "N = params[regime][param_idx][2]\n",
    "r = params[regime][param_idx][6]"
   ]
  },
  {
   "cell_type": "code",
   "execution_count": null,
   "id": "40e91fca",
   "metadata": {},
   "outputs": [],
   "source": [
    "# NR = 1e5\n",
    "# r = 0.1"
   ]
  },
  {
   "cell_type": "code",
   "execution_count": null,
   "id": "27a3d9c1",
   "metadata": {},
   "outputs": [],
   "source": [
    "# load the cached frequency trajectories\n",
    "# (output from simulations/run_simulate_twolocus.sh and simulations/gz_freq_arr_to_npy.py)\n",
    "save_path = '/home/groups/bhgood/LE_simulations_out/cached_freqs'\n",
    "all_fs = np.load(os.path.join(save_path, 'fs_%s_%d.npy'%(regime,param_idx)))\n",
    "\n",
    "f11s = all_fs[:, 0]\n",
    "f10s = all_fs[:, 1]\n",
    "f01s = all_fs[:, 2]\n",
    "f00s = 1-f11s-f10s-f01s\n",
    "fAs = f11s+f10s\n",
    "fBs = f11s+f01s"
   ]
  },
  {
   "cell_type": "code",
   "execution_count": null,
   "id": "82ae814c",
   "metadata": {},
   "outputs": [],
   "source": [
    "# downsample the trajectories, otherwise multinomial sampling takes too long to run\n",
    "num_downsampled = int(1e7)\n",
    "rows = np.random.randint(all_fs.shape[0], size=num_downsampled)\n",
    "downsampled_fs = all_fs[rows, :]"
   ]
  },
  {
   "cell_type": "code",
   "execution_count": null,
   "id": "e00e8bac",
   "metadata": {},
   "outputs": [],
   "source": [
    "_f00s = 1 - downsampled_fs.sum(axis=1)\n",
    "sample_probs = np.hstack([downsampled_fs, _f00s.reshape((-1, 1))])\n",
    "sample_probs = np.around(sample_probs, 6)"
   ]
  },
  {
   "cell_type": "code",
   "execution_count": null,
   "id": "7e38f1d3",
   "metadata": {},
   "outputs": [],
   "source": [
    "%%time\n",
    "n = 10000  # note this n goes into the theory curve\n",
    "num_points = sample_probs.shape[0]\n",
    "samples = np.zeros((num_points, 4))\n",
    "for i in range(num_points):\n",
    "    samples[i] = np.random.multinomial(n, sample_probs[i])"
   ]
  },
  {
   "cell_type": "code",
   "execution_count": null,
   "id": "0b5eed77",
   "metadata": {},
   "outputs": [],
   "source": [
    "flims = np.logspace(-3, -1, 20)\n",
    "nonzero_probs = []\n",
    "nAs = samples[:, 0] + samples[:, 1]\n",
    "nBs = samples[:, 0] + samples[:, 2]\n",
    "for i, flim in enumerate(flims):\n",
    "    # choose a narrow frequency window around flim (f0)\n",
    "    fmin = flim * 0.9\n",
    "    fmax = flim * 1.1\n",
    "    nmin = fmin * n\n",
    "    nmax = fmax * n\n",
    "    \n",
    "    mask = (nAs >= nmin) & (nAs <= nmax) & (nBs >= nmin) & (nBs <= nmax)\n",
    "    prob = np.mean(np.all(samples[mask, :]>0, axis=1))\n",
    "    nonzero_probs.append(prob)"
   ]
  },
  {
   "cell_type": "code",
   "execution_count": null,
   "id": "4396af0e",
   "metadata": {},
   "outputs": [],
   "source": [
    "np.save('f0s_sim', flims)\n",
    "np.save('4g_prob_sim', nonzero_probs)"
   ]
  }
 ],
 "metadata": {
  "kernelspec": {
   "display_name": "Python 3",
   "language": "python",
   "name": "python3"
  },
  "language_info": {
   "codemirror_mode": {
    "name": "ipython",
    "version": 3
   },
   "file_extension": ".py",
   "mimetype": "text/x-python",
   "name": "python",
   "nbconvert_exporter": "python",
   "pygments_lexer": "ipython3",
   "version": "3.6.1"
  }
 },
 "nbformat": 4,
 "nbformat_minor": 5
}
