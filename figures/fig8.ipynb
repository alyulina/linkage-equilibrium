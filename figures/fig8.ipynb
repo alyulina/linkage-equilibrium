{
 "cells": [
  {
   "cell_type": "code",
   "execution_count": 1,
   "id": "4c21bc8a",
   "metadata": {},
   "outputs": [],
   "source": [
    "import math\n",
    "import random\n",
    "import numpy as np\n",
    "import matplotlib.pyplot as plt\n",
    "from mpl_toolkits.axes_grid1.inset_locator import inset_axes\n",
    "from matplotlib import gridspec\n",
    "import seaborn as sns\n",
    "%matplotlib inline"
   ]
  },
  {
   "cell_type": "code",
   "execution_count": 2,
   "id": "d14dc87a",
   "metadata": {},
   "outputs": [],
   "source": [
    "import matplotlib.font_manager\n",
    "matplotlib.font_manager.findSystemFonts(fontpaths=None, fontext='ttf');\n",
    "\n",
    "font = matplotlib.font_manager.FontProperties(fname='/System/Library/Fonts/Supplemental/Avenir.ttf')"
   ]
  },
  {
   "cell_type": "code",
   "execution_count": 3,
   "id": "b07893d3",
   "metadata": {},
   "outputs": [],
   "source": [
    "plt.rcParams.update({'text.usetex': True,\n",
    "                        'font.family': \"sans-serif\",\n",
    "                        'text.latex.preamble': r\"\\usepackage{amsmath}\"})"
   ]
  },
  {
   "cell_type": "code",
   "execution_count": 16,
   "id": "f276c060",
   "metadata": {},
   "outputs": [],
   "source": [
    "# downloading simulation results:\n",
    "\n",
    "N = 1e6\n",
    "\n",
    "points = {}\n",
    "for regime in ['r']:\n",
    "    \n",
    "    points[regime] = {}\n",
    "    points[regime]['fs'] = np.load('../simulations/out/half-rare/%s_fstars.npy' % regime)\n",
    "    points[regime]['fBs'] = np.load('../simulations/out/half-rare/%s_fB_stars.npy' % regime)\n",
    "    points[regime]['rs'] = np.load('../simulations/out/half-rare/%s_rs.npy' % regime)\n",
    "    points[regime]['nums'] = np.load('../simulations/out/half-rare/%s_numers.npy' % regime)\n",
    "    points[regime]['denoms'] = np.load('../simulations/out/half-rare/%s_denoms.npy' % regime)\n"
   ]
  },
  {
   "cell_type": "code",
   "execution_count": 15,
   "id": "30c08e6a",
   "metadata": {},
   "outputs": [
    {
     "ename": "IndexError",
     "evalue": "index 5 is out of bounds for axis 1 with size 5",
     "output_type": "error",
     "traceback": [
      "\u001b[0;31m---------------------------------------------------------------------------\u001b[0m",
      "\u001b[0;31mIndexError\u001b[0m                                Traceback (most recent call last)",
      "Cell \u001b[0;32mIn[15], line 25\u001b[0m\n\u001b[1;32m     22\u001b[0m             \u001b[38;5;28;01mcontinue\u001b[39;00m\n\u001b[1;32m     24\u001b[0m         xs\u001b[38;5;241m.\u001b[39mappend(\u001b[38;5;241m2\u001b[39m \u001b[38;5;241m*\u001b[39m N \u001b[38;5;241m*\u001b[39m r \u001b[38;5;241m*\u001b[39m f)\n\u001b[0;32m---> 25\u001b[0m         ys\u001b[38;5;241m.\u001b[39mappend(\u001b[43mpoints\u001b[49m\u001b[43m[\u001b[49m\u001b[43mregime\u001b[49m\u001b[43m]\u001b[49m\u001b[43m[\u001b[49m\u001b[38;5;124;43m'\u001b[39;49m\u001b[38;5;124;43mnums\u001b[39;49m\u001b[38;5;124;43m'\u001b[39;49m\u001b[43m]\u001b[49m\u001b[43m[\u001b[49m\u001b[43mi\u001b[49m\u001b[43m,\u001b[49m\u001b[43m \u001b[49m\u001b[43mj\u001b[49m\u001b[43m]\u001b[49m \u001b[38;5;241m/\u001b[39m points[regime][\u001b[38;5;124m'\u001b[39m\u001b[38;5;124mdenoms\u001b[39m\u001b[38;5;124m'\u001b[39m][i, j])\n\u001b[1;32m     26\u001b[0m         cs\u001b[38;5;241m.\u001b[39mappend(color)\n\u001b[1;32m     28\u001b[0m \u001b[38;5;66;03m# reshuffling point before plotting\u001b[39;00m\n",
      "\u001b[0;31mIndexError\u001b[0m: index 5 is out of bounds for axis 1 with size 5"
     ]
    },
    {
     "data": {
      "image/png": "[encoded data removed]",
      "text/plain": [
       "<Figure size 600x500 with 1 Axes>"
      ]
     },
     "metadata": {},
     "output_type": "display_data"
    }
   ],
   "source": [
    "# NEED TO CHANGE THIS BECAUSE NOW WE ALSO HAVE f_B*\n",
    "\n",
    "matplotlib.rcParams['axes.linewidth'] = 1\n",
    "\n",
    "fig = plt.figure(figsize=(6,5))\n",
    "\n",
    "cmap = matplotlib.cm.ScalarMappable(norm=matplotlib.colors.Normalize(vmin=-4, vmax=-1),cmap=sns.color_palette(\"crest\", as_cmap=True))\n",
    "grey = '#b9b9b9' \n",
    "w = 1.25 # linewidth\n",
    "\n",
    "# plotting the asymptotics\n",
    "plt.loglog(np.logspace(-6.5,5,25), np.ones_like(np.logspace(-6.5,5,25)), '--', color=grey, linewidth=w/2)\n",
    "plt.loglog(np.logspace(-6.5,5,25), np.logspace(-6.5,5,25), '--', color=grey, linewidth=w/2)\n",
    "\n",
    "# ploting the simulation results\n",
    "regime = 'r'\n",
    "xs = []; ys = []; cs = []\n",
    "for j, f in enumerate(points[regime]['fs'][:-7]):\n",
    "\n",
    "    color=matplotlib.colors.rgb2hex(cmap.to_rgba(math.log10(f)))\n",
    "    \n",
    "    for i, r in enumerate(points[regime]['rs']):\n",
    "        if r < 5e-6 or r > 0.003: \n",
    "            continue\n",
    "                    \n",
    "        xs.append(2 * N * r * f)\n",
    "        ys.append(points[regime]['nums'][i, j] / points[regime]['denoms'][i, j])\n",
    "        cs.append(color)\n",
    "        \n",
    "# reshuffling point before plotting\n",
    "random.seed(4321)        \n",
    "idx = sorted(range(len(xs)), key=lambda x: random.random()) \n",
    "for i in idx:\n",
    "    plt.loglog(xs[i], ys[i], 'o', markersize=8, markeredgecolor=cs[i]+'00', markerfacecolor=cs[i]) # label=\"$s_{A,B} = 10^{-2}$\" + \", \" + '$f_0=$' + \"$10^{\" + '{:0.0f}'.format(math.log10(f)) + \"}$\"    \n",
    "    \n",
    "plt.xticks([1e-4, 1e-3, 1e-2, 1e-1, 1e0, 1e1, 1e2, 1e3, 1e4], \n",
    "           ['$10^{-4}$', '$10^{-3}$', '$10^{-2}$', '$10^{-1}$', '$10^{0}$', '$10^{1}$', '$10^{2}$', '$10^{3}$', '$10^{4}$'])\n",
    "plt.yticks([1e-4, 1e-3, 1e-2, 1e-1, 1e0], \n",
    "           ['$10^{-4}$', '$10^{-3}$', '$10^{-2}$', '$10^{-1}$', '$10^{0}$'])\n",
    "plt.ylim([5e-4, 2])\n",
    "plt.xlim([5e-4, 2e3])\n",
    "\n",
    "plt.minorticks_off()\n",
    "plt.tick_params(axis='both', labelsize=14)\n",
    "\n",
    "plt.ylabel(\"$\\\\bar{\\\\Lambda}_2$\", fontsize=16, labelpad=8)\n",
    "plt.xlabel(r\"$2NRf_0$\", fontsize=16, labelpad=8)    \n",
    "\n",
    "cbar_ax = fig.add_axes([0.68, 0.19, 0.17, 0.02])\n",
    "cbar = plt.colorbar(cmap, alpha=1, cax=cbar_ax, orientation='horizontal', shrink=0.5, ticks=[-4, -3, -2, -1])\n",
    "cbar.ax.set_xticklabels(['$10^{-4}$', '$10^{-3}$', '$10^{-2}$', '$10^{-1}$']);\n",
    "cbar.set_label('$f_0$', labelpad=-40, y=0.45)\n",
    "\n",
    "#plt.savefig('fig7_ver1.png',dpi=600,bbox_inches='tight') "
   ]
  },
  {
   "cell_type": "code",
   "execution_count": null,
   "id": "2cf2ae5a",
   "metadata": {},
   "outputs": [],
   "source": [
    "points[regime]['fs']"
   ]
  },
  {
   "cell_type": "code",
   "execution_count": 6,
   "id": "b5befac4",
   "metadata": {},
   "outputs": [
    {
     "data": {
      "text/plain": [
       "array([[[0.00000000e+000, 0.00000000e+000, 0.00000000e+000, ...,\n",
       "         0.00000000e+000, 0.00000000e+000, 0.00000000e+000],\n",
       "        [0.00000000e+000, 0.00000000e+000, 0.00000000e+000, ...,\n",
       "         0.00000000e+000, 0.00000000e+000, 0.00000000e+000],\n",
       "        [0.00000000e+000, 0.00000000e+000, 0.00000000e+000, ...,\n",
       "         0.00000000e+000, 0.00000000e+000, 0.00000000e+000],\n",
       "        [0.00000000e+000, 0.00000000e+000, 0.00000000e+000, ...,\n",
       "         0.00000000e+000, 0.00000000e+000, 0.00000000e+000],\n",
       "        [0.00000000e+000, 0.00000000e+000, 0.00000000e+000, ...,\n",
       "         0.00000000e+000, 0.00000000e+000, 0.00000000e+000]],\n",
       "\n",
       "       [[2.52165511e-061, 1.93672526e-044, 2.18521980e-033, ...,\n",
       "         4.27557878e-012, 4.86031503e-011, 1.85560100e-010],\n",
       "        [1.24195413e-174, 6.04586118e-119, 1.65480262e-082, ...,\n",
       "         1.17427838e-011, 3.65789543e-010, 8.28881660e-009],\n",
       "        [1.75712407e-035, 4.14700306e-027, 1.24956751e-021, ...,\n",
       "         7.39929429e-011, 2.27348264e-010, 1.04468041e-008],\n",
       "        [1.11962608e-050, 6.18531264e-038, 1.34549831e-029, ...,\n",
       "         3.33871657e-010, 2.05650786e-009, 8.38578179e-009],\n",
       "        [9.47182217e-026, 3.51035957e-021, 3.42834775e-018, ...,\n",
       "         1.07696411e-010, 9.69678203e-010, 4.75391392e-008]],\n",
       "\n",
       "       [[2.66624819e-063, 2.95098244e-045, 1.89034168e-033, ...,\n",
       "         3.81112135e-011, 3.74633514e-010, 1.16033064e-009],\n",
       "        [1.04996759e-037, 4.74012727e-029, 2.18106042e-023, ...,\n",
       "         1.72202580e-012, 1.65948693e-010, 2.89325316e-009],\n",
       "        [1.98308783e-034, 5.55800895e-027, 4.14963527e-022, ...,\n",
       "         7.06780186e-010, 5.66112010e-009, 3.07486381e-008],\n",
       "        [1.51960559e-092, 3.12469175e-064, 1.04863142e-045, ...,\n",
       "         1.05201854e-010, 3.47304064e-009, 7.75824400e-008],\n",
       "        [4.15940063e-016, 6.92675246e-015, 4.98217593e-014, ...,\n",
       "         2.06592968e-010, 1.47189384e-009, 5.71748503e-008]],\n",
       "\n",
       "       ...,\n",
       "\n",
       "       [[1.28945880e-012, 3.26280847e-012, 8.12817986e-012, ...,\n",
       "         1.49337184e-008, 1.19194073e-007, 9.44934902e-007],\n",
       "        [4.28088143e-012, 1.06777565e-011, 2.64215473e-011, ...,\n",
       "         5.30017133e-008, 4.31198365e-007, 3.73475024e-006],\n",
       "        [1.43394806e-011, 3.54575269e-011, 8.58053823e-011, ...,\n",
       "         1.66763076e-007, 1.32597579e-006, 1.11667434e-005],\n",
       "        [2.48903455e-011, 6.10593219e-011, 1.47352804e-010, ...,\n",
       "         2.92409315e-007, 2.50033415e-006, 1.90514668e-005],\n",
       "        [3.57333443e-011, 8.96989542e-011, 2.20561383e-010, ...,\n",
       "         4.09231426e-007, 3.35551065e-006, 2.75382982e-005]],\n",
       "\n",
       "       [[1.39940676e-012, 3.39104596e-012, 8.14005907e-012, ...,\n",
       "         1.51282488e-008, 1.26988011e-007, 1.01309385e-006],\n",
       "        [4.99384924e-012, 1.20520989e-011, 2.89869733e-011, ...,\n",
       "         5.54865471e-008, 4.58100129e-007, 3.59835630e-006],\n",
       "        [1.58724287e-011, 3.84018780e-011, 9.26746901e-011, ...,\n",
       "         1.68514782e-007, 1.39864116e-006, 1.17246456e-005],\n",
       "        [2.71098590e-011, 6.46581047e-011, 1.52176488e-010, ...,\n",
       "         2.95565098e-007, 2.54112809e-006, 2.09044522e-005],\n",
       "        [3.81258463e-011, 9.24982391e-011, 2.22749166e-010, ...,\n",
       "         4.41267430e-007, 3.56239281e-006, 2.71654476e-005]],\n",
       "\n",
       "       [[1.48816624e-012, 3.52225215e-012, 8.37681591e-012, ...,\n",
       "         1.48502080e-008, 1.20178294e-007, 1.00405228e-006],\n",
       "        [5.32047006e-012, 1.25771118e-011, 2.97368660e-011, ...,\n",
       "         5.19111438e-008, 4.45199738e-007, 3.82571308e-006],\n",
       "        [1.63837087e-011, 3.89557909e-011, 9.21895354e-011, ...,\n",
       "         1.70351830e-007, 1.43037900e-006, 1.13284848e-005],\n",
       "        [2.83318886e-011, 6.72406048e-011, 1.60105719e-010, ...,\n",
       "         2.95054341e-007, 2.45530272e-006, 2.09794083e-005],\n",
       "        [3.98451302e-011, 9.51912962e-011, 2.24652949e-010, ...,\n",
       "         4.05783032e-007, 3.61874890e-006, 3.22997590e-005]]])"
      ]
     },
     "execution_count": 6,
     "metadata": {},
     "output_type": "execute_result"
    }
   ],
   "source": [
    "points[regime]['nums']"
   ]
  },
  {
   "cell_type": "code",
   "execution_count": null,
   "id": "43412747",
   "metadata": {},
   "outputs": [],
   "source": []
  }
 ],
 "metadata": {
  "kernelspec": {
   "display_name": "Python 3 (ipykernel)",
   "language": "python",
   "name": "python3"
  },
  "language_info": {
   "codemirror_mode": {
    "name": "ipython",
    "version": 3
   },
   "file_extension": ".py",
   "mimetype": "text/x-python",
   "name": "python",
   "nbconvert_exporter": "python",
   "pygments_lexer": "ipython3",
   "version": "3.8.3"
  }
 },
 "nbformat": 4,
 "nbformat_minor": 5
}
