{
 "cells": [
  {
   "cell_type": "code",
   "execution_count": 7,
   "metadata": {},
   "outputs": [],
   "source": [
    "import os\n",
    "import sys\n",
    "import gzip\n",
    "import math\n",
    "import random\n",
    "import numpy as np\n",
    "import matplotlib.pyplot as plt\n",
    "from mpl_toolkits.axes_grid1.inset_locator import inset_axes\n",
    "from matplotlib import gridspec\n",
    "import seaborn as sns\n",
    "%matplotlib inline"
   ]
  },
  {
   "cell_type": "code",
   "execution_count": 8,
   "metadata": {},
   "outputs": [],
   "source": [
    "import matplotlib.font_manager\n",
    "matplotlib.font_manager.findSystemFonts(fontpaths=None, fontext='ttf');\n",
    "\n",
    "font = matplotlib.font_manager.FontProperties(fname='/System/Library/Fonts/Supplemental/Avenir.ttf')"
   ]
  },
  {
   "cell_type": "code",
   "execution_count": 9,
   "metadata": {},
   "outputs": [],
   "source": [
    "plt.rcParams.update({'text.usetex': True,\n",
    "                        'font.family': \"sans-serif\",\n",
    "                        'text.latex.preamble': r\"\\usepackage{amsmath}\"})"
   ]
  },
  {
   "cell_type": "code",
   "execution_count": 10,
   "metadata": {},
   "outputs": [],
   "source": [
    "N = 1e6\n",
    "regime = 'r'\n",
    "rs = np.load('../simulations/out/%s_rs.npy' % regime) # loading R values"
   ]
  },
  {
   "cell_type": "code",
   "execution_count": null,
   "metadata": {},
   "outputs": [],
   "source": [
    "# need to first process raw trajectories – this takes some time! \n",
    "# consider skipping this step and loading processed trajectories instead if they exist\n",
    "\n",
    "'''\n",
    "param_idx = 20\n",
    "\n",
    "filename = os.path.join('../simulations/out', 'output_%s_%d.txt.gz' % (regime,param_idx))\n",
    "file = gzip.GzipFile(filename,\"r\")\n",
    "f11s = []\n",
    "f10s = []\n",
    "f01s = []\n",
    "\n",
    "for line in file:\n",
    "\n",
    "    if line.startswith(b'//'):\n",
    "        continue\n",
    "    items = line.split()\n",
    "\n",
    "    f11 = float(items[0])\n",
    "    f10 = float(items[1])\n",
    "    f01 = float(items[2])\n",
    "\n",
    "    f11s.append(f11)\n",
    "    f10s.append(f10)\n",
    "    f01s.append(f01)\n",
    "\n",
    "file.close()\n",
    "\n",
    "f11s = np.array(f11s)\n",
    "f10s = np.array(f10s)\n",
    "f01s = np.array(f01s)\n",
    "f00s = 1 - f11s - f10s - f01s\n",
    "fAs = f11s + f10s\n",
    "fBs = f11s + f01s\n",
    "\n",
    "all_fs = np.stack((f11s, f10s, f01s), axis=-1)\n",
    "np.save(os.path.join('../simulations/out', 'fs_%s_%d'%(regime,param_idx)), all_fs)\n",
    "'''\n"
   ]
  },
  {
   "cell_type": "code",
   "execution_count": 20,
   "metadata": {},
   "outputs": [
    {
     "name": "stdout",
     "output_type": "stream",
     "text": [
      "0.016529391695962316 1.214657262411154e-05 0.0\n",
      "0.053229698322561136 0.00012596445684263818 3.5743905295009394e-05\n",
      "0.16529391695962317 0.001214657262411154 0.0010163070198652457\n",
      "0.5322969832256115 0.01259644568426382 0.0029852315557899276\n"
     ]
    }
   ],
   "source": [
    "# alternatively, can load already processed trajectories\n",
    "# feel free to skip this step too\n",
    "\n",
    "# large NRf_0 first:\n",
    "param_idx = 20 # alo use 12, 4\n",
    "r = rs[param_idx]\n",
    "\n",
    "all_fs = np.load(os.path.join('../simulations/out', 'fs_%s_%d.npy'%(regime,param_idx)))\n",
    "f11s = all_fs[:, 0]\n",
    "f10s = all_fs[:, 1]\n",
    "f01s = all_fs[:, 2]\n",
    "f00s = 1-f11s-f10s-f01s\n",
    "fAs = f11s+f10s\n",
    "fBs = f11s+f01s\n",
    "\n",
    "# freq ranges\n",
    "f_lims = [(0.0012, 0.0018), (0.004, 0.0056), (0.012, 0.018), (0.04, 0.056)]\n",
    "\n",
    "for i, (f_min, f_max) in enumerate(f_lims):\n",
    "    rho = 2 * N * r * np.sqrt(f_min * f_max)\n",
    "    nrf2 = N * r * f_min * f_max\n",
    "    mask = (fAs >= f_min) & (fAs <= f_max) & (fBs >= f_min) & (fBs <= f_max)\n",
    "    lambdas = (f11s[mask]*f10s[mask]*f01s[mask]*f00s[mask]) / np.square(fAs[mask] * fBs[mask]*(1-fAs[mask])*(1-fBs[mask]))\n",
    "    print(rho, nrf2, lambdas.mean())\n",
    "    #np.save('../simulations/out/lambda2_distr_rho=' + '{:.3f}'.format(rho) + '_nrf0^2=' + '{:.3f}'.format(nrf2), lambdas)\n",
    "    #np.save('../simulations/out/lambda2_distr_f_min=' + '{:.4f}'.format(f_min) + '_f_max=' + '{:.4f}'.format(f_max) + '_r=' + '{:.8f}'.format(r), lambdas)\n"
   ]
  },
  {
   "cell_type": "code",
   "execution_count": 21,
   "metadata": {},
   "outputs": [
    {
     "name": "stdout",
     "output_type": "stream",
     "text": [
      "../simulations/out/lambda2_distr_f_min=0.0012_f_max=0.0018_r=0.00000562.npy\r\n",
      "../simulations/out/lambda2_distr_f_min=0.0012_f_max=0.0018_r=0.05623413.npy\r\n",
      "../simulations/out/lambda2_distr_f_min=0.0040_f_max=0.0056_r=0.00000562.npy\r\n",
      "../simulations/out/lambda2_distr_f_min=0.0040_f_max=0.0056_r=0.05623413.npy\r\n",
      "../simulations/out/lambda2_distr_f_min=0.0120_f_max=0.0180_r=0.00000562.npy\r\n",
      "../simulations/out/lambda2_distr_f_min=0.0120_f_max=0.0180_r=0.05623413.npy\r\n",
      "../simulations/out/lambda2_distr_f_min=0.0400_f_max=0.0560_r=0.00000562.npy\r\n",
      "../simulations/out/lambda2_distr_f_min=0.0400_f_max=0.0560_r=0.05623413.npy\r\n",
      "../simulations/out/lambda2_distr_rho=0.017_nrf0^2=0.000.npy\r\n",
      "../simulations/out/lambda2_distr_rho=0.053_nrf0^2=0.000.npy\r\n",
      "../simulations/out/lambda2_distr_rho=0.165_nrf0^2=0.001.npy\r\n",
      "../simulations/out/lambda2_distr_rho=0.532_nrf0^2=0.013.npy\r\n",
      "../simulations/out/lambda2_distr_rho=1.653_nrf0^2=0.001.npy\r\n",
      "../simulations/out/lambda2_distr_rho=16.529_nrf0^2=0.121.npy\r\n",
      "../simulations/out/lambda2_distr_rho=165.294_nrf0^2=0.121.npy\r\n",
      "../simulations/out/lambda2_distr_rho=1652.939_nrf0^2=12.147.npy\r\n",
      "../simulations/out/lambda2_distr_rho=5.323_nrf0^2=0.013.npy\r\n",
      "../simulations/out/lambda2_distr_rho=53.230_nrf0^2=1.260.npy\r\n",
      "../simulations/out/lambda2_distr_rho=532.297_nrf0^2=1.260.npy\r\n",
      "../simulations/out/lambda2_distr_rho=5322.970_nrf0^2=125.964.npy\r\n"
     ]
    }
   ],
   "source": [
    "! ls ../simulations/out/lambda2*"
   ]
  },
  {
   "cell_type": "code",
   "execution_count": 28,
   "metadata": {},
   "outputs": [
    {
     "data": {
      "text/plain": [
       "0.16519358825329752"
      ]
     },
     "execution_count": 28,
     "metadata": {},
     "output_type": "execute_result"
    }
   ],
   "source": [
    "2 * N * 0.00000562 * np.sqrt(0.012 * 0.018)"
   ]
  },
  {
   "cell_type": "code",
   "execution_count": 32,
   "metadata": {},
   "outputs": [],
   "source": [
    "# downloading lambda distributions\n",
    "\n",
    "#lambda2_large_rho_large_nrff = np.load('../simulations/out/lambda2_distr_rho=5322.970_nrf0^2=125.964.npy')\n",
    "lambda2_large_rho_large_nrff = np.load('../simulations/out/lambda2_distr_f_min=0.0400_f_max=0.0560_r=0.05623413.npy')\n",
    "\n",
    "#lambda2_large_rho_nrff_1 = np.load('../simulations/out/lambda2_distr_rho=532.297_nrf0^2=1.260.npy')\n",
    "lambda2_large_rho_nrff_1 = np.load('../simulations/out/lambda2_distr_f_min=0.0040_f_max=0.0056_r=0.05623413.npy')\n",
    "\n",
    "#lambda2_large_rho_small_nrff = np.load('../simulations/out/lambda2_distr_rho=165.294_nrf0^2=0.121.npy')\n",
    "lambda2_large_rho_small_nrff = np.load('../simulations/out/lambda2_distr_f_min=0.0012_f_max=0.0018_r=0.05623413.npy')\n",
    "\n",
    "#lambda2_small_rho_small_nrff = np.load('../simulations/out/lambda2_distr_rho=0.165_nrf0^2=0.001.npy')\n",
    "lambda2_small_rho_small_nrff = np.load('../simulations/out/lambda2_distr_f_min=0.0120_f_max=0.0180_r=0.00000562.npy')\n"
   ]
  },
  {
   "cell_type": "code",
   "execution_count": 52,
   "metadata": {},
   "outputs": [
    {
     "data": {
      "text/plain": [
       "0.047328638264796934"
      ]
     },
     "execution_count": 52,
     "metadata": {},
     "output_type": "execute_result"
    }
   ],
   "source": [
    "math.sqrt(0.040*0.056) "
   ]
  },
  {
   "cell_type": "code",
   "execution_count": 49,
   "metadata": {},
   "outputs": [
    {
     "data": {
      "text/plain": [
       "0.014696938456699069"
      ]
     },
     "execution_count": 49,
     "metadata": {},
     "output_type": "execute_result"
    }
   ],
   "source": [
    "math.sqrt(0.012*0.018)"
   ]
  },
  {
   "cell_type": "code",
   "execution_count": 59,
   "metadata": {},
   "outputs": [
    {
     "data": {
      "text/plain": [
       "1.2596445119999999e-06"
      ]
     },
     "execution_count": 59,
     "metadata": {},
     "output_type": "execute_result"
    }
   ],
   "source": [
    "0.0040*0.0056*0.05623413"
   ]
  },
  {
   "cell_type": "code",
   "execution_count": 33,
   "metadata": {},
   "outputs": [],
   "source": [
    "# loading pre-processed simulation results – ADD CODE FROM THE CLUSTER\n",
    "four_gamete_f0s = np.load('../simulations/out/f0s_sim.npy')\n",
    "four_gamete_prob = np.load('../simulations/out/4g_prob_sim.npy')"
   ]
  },
  {
   "cell_type": "code",
   "execution_count": 44,
   "metadata": {},
   "outputs": [
    {
     "data": {
      "image/png": "[encoded data removed]",
      "text/plain": [
       "<Figure size 1360x500 with 2 Axes>"
      ]
     },
     "metadata": {},
     "output_type": "display_data"
    }
   ],
   "source": [
    "matplotlib.rcParams['axes.linewidth'] = 1\n",
    "\n",
    "fig = plt.figure(figsize=(13.6, 5))\n",
    "\n",
    "grid = gridspec.GridSpec(ncols=2, nrows=1,\n",
    "                         width_ratios=[1, 1], wspace=0.3,\n",
    "                         height_ratios=[1], hspace=0.1)\n",
    "\n",
    "cmap = matplotlib.cm.ScalarMappable(norm=matplotlib.colors.Normalize(vmin=1, vmax=4),cmap=sns.color_palette(\"crest\", as_cmap=True))\n",
    "grey = '#b9b9b9' \n",
    "w = 1.25 # linewidth\n",
    "\n",
    "for c in range(2):\n",
    "    \n",
    "    plt.subplot(grid[c // 2, c % 2])\n",
    "    \n",
    "    # left panel\n",
    "    if c == 0: \n",
    "        \n",
    "        rhos = np.logspace(-4.5, 4.5, int(1e2))\n",
    "        \n",
    "        #sns.kdeplot(lambda2_small_rho_small_nrff, bw_adjust=2.5, fill=True, alpha=1, linewidth=0, \n",
    "        #    color=matplotlib.colors.rgb2hex(cmap.to_rgba(4)), zorder=4, label=r\"$NRf_0 \\ll 1$\")\n",
    "        sns.kdeplot(lambda2_large_rho_small_nrff, bw_adjust=2.5, fill=True, alpha=0.7, linewidth=0, \n",
    "            color=matplotlib.colors.rgb2hex(cmap.to_rgba(1)), zorder=1, label=r\"$NRf_0 \\gg 1, \\, NRf_0^2 \\ll 1$\")\n",
    "        #sns.kdeplot(lambda2_large_rho_nrff_1, bw_adjust=2.5, fill=True, alpha=0.6, linewidth=0, \n",
    "        #    color=matplotlib.colors.rgb2hex(cmap.to_rgba(2)), zorder=2, label=r\"$NRf_0 \\gg 1, \\, NRf_0^2 \\sim 1$\")\n",
    "        #sns.kdeplot(lambda2_large_rho_large_nrff, bw_adjust=2.5, fill=True, alpha=0.8, linewidth=0, \n",
    "        #    color=matplotlib.colors.rgb2hex(cmap.to_rgba(3)), zorder=3, label=r\"$NRf_0 \\gg 1, \\, NRf_0^2 \\gg 1$\")\n",
    "\n",
    "        plt.yscale('log')\n",
    "        plt.minorticks_off()\n",
    "        plt.tick_params(axis='both', labelsize=14)\n",
    "\n",
    "        plt.xticks([0, 2, 4, 6, 8, 10], \n",
    "                   [r\"$0$\", r\"$2$\", r\"$4$\", r\"$6$\", r\"$8$\", r\"$10$\"])\n",
    "        plt.yticks([1e-5, 1e-3, 1e-1, 1e1], \n",
    "                   ['$10^{-5}$', '$10^{-3}$', '$10^{-1}$', '$10^{1}$'])\n",
    "\n",
    "        plt.xlim(0, 10)\n",
    "        plt.ylim(1e-5, 1e1)\n",
    "\n",
    "        plt.ylabel(r\"$\\text{probability density}$\", fontsize=14, labelpad=10);\n",
    "        plt.xlabel(r\"$\\Lambda\\vert_{f_A, f_B \\sim f_0}$\", fontsize=16, labelpad=8);  \n",
    "\n",
    "        plt.legend(frameon=False, fontsize=10, loc='upper right', handletextpad=1);\n",
    "        \n",
    "        \n",
    "    # right panel    \n",
    "    if c == 1:\n",
    "        \n",
    "        plt.plot(four_gamete_f0s, [1e5*x**2 for x in four_gamete_f0s], '--', linewidth=w, c=grey, \n",
    "                 label=r\"$P(\\text{4 haplotypes}) \\propto f_0^{2}$\")\n",
    "        plt.plot(four_gamete_f0s, four_gamete_prob, linewidth=w, c='black')\n",
    "        \n",
    "        plt.xscale('log')\n",
    "        plt.yscale('log')\n",
    "        plt.minorticks_off()\n",
    "        \n",
    "        plt.tick_params(axis='both', labelsize=14)\n",
    "\n",
    "        plt.xticks([1e-4, 1e-3, 1e-2], \n",
    "                   ['$10^{-4}$', '$10^{-3}$', '$10^{-2}$'])\n",
    "        plt.yticks([1e-3, 1e-2, 1e-1, 1e0, 1e1], \n",
    "                   ['$10^{-3}$', '$10^{-2}$', '$10^{-1}$', '$10^{0}$', '$10^{1}$'])\n",
    "\n",
    "        plt.xlim(1e-4, 1e-2)\n",
    "        plt.ylim(1e-3, 1e1)\n",
    "\n",
    "        plt.ylabel(r\"$P(\\text{4 haplotypes})$\", fontsize=14, labelpad=10);\n",
    "        plt.xlabel(r\"$f_0$\", fontsize=16, labelpad=8);  \n",
    "\n",
    "        plt.legend(frameon=False, fontsize=12, loc='lower right', handletextpad=1);\n",
    "\n",
    "#plt.savefig('fig6_v4.png',dpi=600,bbox_inches='tight') "
   ]
  },
  {
   "cell_type": "code",
   "execution_count": null,
   "metadata": {},
   "outputs": [],
   "source": []
  }
 ],
 "metadata": {
  "kernelspec": {
   "display_name": "Python 3 (ipykernel)",
   "language": "python",
   "name": "python3"
  },
  "language_info": {
   "codemirror_mode": {
    "name": "ipython",
    "version": 3
   },
   "file_extension": ".py",
   "mimetype": "text/x-python",
   "name": "python",
   "nbconvert_exporter": "python",
   "pygments_lexer": "ipython3",
   "version": "3.8.3"
  }
 },
 "nbformat": 4,
 "nbformat_minor": 4
}
