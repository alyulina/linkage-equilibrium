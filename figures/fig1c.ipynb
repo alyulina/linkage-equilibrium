{
 "cells": [
  {
   "cell_type": "code",
   "execution_count": 1,
   "id": "4c21bc8a",
   "metadata": {},
   "outputs": [],
   "source": [
    "import math\n",
    "import itertools\n",
    "import numpy as np\n",
    "import matplotlib.pyplot as plt\n",
    "from mpl_toolkits.axes_grid1.inset_locator import inset_axes\n",
    "from matplotlib import gridspec\n",
    "import seaborn as sns\n",
    "%matplotlib inline"
   ]
  },
  {
   "cell_type": "code",
   "execution_count": 2,
   "id": "d14dc87a",
   "metadata": {},
   "outputs": [],
   "source": [
    "import matplotlib.font_manager\n",
    "matplotlib.font_manager.findSystemFonts(fontpaths=None, fontext='ttf');\n",
    "\n",
    "font = matplotlib.font_manager.FontProperties(fname='/System/Library/Fonts/Supplemental/Avenir.ttf')"
   ]
  },
  {
   "cell_type": "code",
   "execution_count": 3,
   "id": "b07893d3",
   "metadata": {},
   "outputs": [],
   "source": [
    "plt.rcParams.update({'text.usetex': True,\n",
    "                        'font.family': \"sans-serif\",\n",
    "                        'text.latex.preamble': r\"\\usepackage{amsmath}\"})"
   ]
  },
  {
   "cell_type": "code",
   "execution_count": 4,
   "id": "95d4c50e",
   "metadata": {},
   "outputs": [],
   "source": [
    "def Lambda(f_0, f_AB):\n",
    "    f_A = f_0\n",
    "    f_B = f_0\n",
    "    f_Ab = f_A - f_AB\n",
    "    f_aB = f_B - f_AB\n",
    "    f_ab = 1 - f_Ab - f_aB - f_AB\n",
    "    if f_AB > f_0:\n",
    "        Lambda = np.nan\n",
    "    else: \n",
    "        Lambda = f_ab * f_Ab * f_Ab * f_AB / (f_A**2 * (1-f_A)**2 * f_B**2 * (1-f_B)**2)\n",
    "    return Lambda"
   ]
  },
  {
   "cell_type": "code",
   "execution_count": 5,
   "id": "ee0714b3",
   "metadata": {},
   "outputs": [],
   "source": [
    "n = 1000\n",
    "f0s = np.logspace(np.log10(2e-5), np.log10(0.5), n)\n",
    "fABs_norm = np.linspace(0, 2, n)\n",
    "\n",
    "# creating meshgrids\n",
    "x = np.empty(shape=(n, n))\n",
    "y = np.empty(shape=(n, n))\n",
    "l = np.empty(shape=(n, n))\n",
    "for i in range(n):\n",
    "    for j in range(n):\n",
    "        x[i][j] = f0s[j]\n",
    "        y[i][j] = fABs_norm[i]\n",
    "        l[i][j] = Lambda(f0s[j], fABs_norm[i] * f0s[j]**2)"
   ]
  },
  {
   "cell_type": "code",
   "execution_count": 6,
   "id": "9d2a0867",
   "metadata": {},
   "outputs": [
    {
     "data": {
      "image/png": "[encoded data removed]",
      "text/plain": [
       "<Figure size 500x500 with 2 Axes>"
      ]
     },
     "metadata": {},
     "output_type": "display_data"
    }
   ],
   "source": [
    "matplotlib.rcParams['axes.linewidth'] = 1\n",
    "grey = '#b9b9b9'\n",
    "w = 1.5 # linewidth\n",
    "fig = plt.figure(figsize=(5, 5))\n",
    "\n",
    "truncated_cmap = matplotlib.colors.LinearSegmentedColormap.from_list('truncated({n},{a:.2f},{b:.2f})'.format(n=sns.color_palette(\"crest_r\", as_cmap=True).name, a=0.0, b=0.6), \n",
    "                                                                      sns.color_palette(\"crest_r\", as_cmap=True)(np.linspace(0.0, 0.75, 100)))\n",
    "truncated_cmap.set_over(sns.color_palette(\"crest_r\", as_cmap=True)(1.0))\n",
    "truncated_cmap.set_under(sns.color_palette(\"crest_r\", as_cmap=True)(0.0))\n",
    "\n",
    "\n",
    "contour = plt.contourf(x, y, l, levels=[0, 0.1, 0.2, 0.3, 0.4, 0.5, 0.6, 0.7, 0.8, 0.9, 1, 2], \n",
    "                       cmap=truncated_cmap, vmin=0, vmax=1e0, extend='neither')\n",
    "\n",
    "plt.xscale('log') \n",
    "plt.minorticks_off()\n",
    "plt.xlim(2e-5, 0.5)\n",
    "plt.ylim(0, 2)\n",
    "plt.tick_params(axis='both', labelsize=18)\n",
    "\n",
    "plt.xlabel(r\"$f_A=f_B=f_0$\", fontsize=20, labelpad=10);\n",
    "plt.ylabel(r\"$f_{AB}/f_0^2$\", fontsize=20, labelpad=10);\n",
    "\n",
    "cbar_ax = fig.add_axes([0.2, 0.76, 0.2, 0.03])\n",
    "cbar = plt.colorbar(contour, alpha=1, cax=cbar_ax, orientation='horizontal', shrink=0.5, ticks=[0, 0.5, 1])\n",
    "cbar.ax.set_xlim(0, 2)\n",
    "cbar.ax.tick_params(labelsize=12)\n",
    "cbar.set_label('$\\Lambda$', labelpad=-50, y=0.45, fontsize=20)\n",
    "\n",
    "plt.savefig('fig1c.png',dpi=600,bbox_inches='tight') "
   ]
  },
  {
   "cell_type": "code",
   "execution_count": null,
   "id": "bee9815b",
   "metadata": {},
   "outputs": [],
   "source": []
  }
 ],
 "metadata": {
  "kernelspec": {
   "display_name": "Python 3 (ipykernel)",
   "language": "python",
   "name": "python3"
  },
  "language_info": {
   "codemirror_mode": {
    "name": "ipython",
    "version": 3
   },
   "file_extension": ".py",
   "mimetype": "text/x-python",
   "name": "python",
   "nbconvert_exporter": "python",
   "pygments_lexer": "ipython3",
   "version": "3.8.3"
  }
 },
 "nbformat": 4,
 "nbformat_minor": 5
}
