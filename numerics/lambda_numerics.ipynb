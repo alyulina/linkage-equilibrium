{
 "cells": [
  {
   "cell_type": "code",
   "execution_count": 1,
   "metadata": {},
   "outputs": [],
   "source": [
    "import math\n",
    "import numpy as np \n",
    "import scipy\n",
    "from scipy.integrate import solve_ivp\n",
    "import matplotlib.pyplot as plt\n",
    "from matplotlib import gridspec\n",
    "from matplotlib import cm\n",
    "import matplotlib \n",
    "%matplotlib inline\n",
    "import matplotlib as mpl\n",
    "mpl.rcParams['agg.path.chunksize'] = 10000"
   ]
  },
  {
   "cell_type": "code",
   "execution_count": 2,
   "metadata": {},
   "outputs": [],
   "source": [
    "import matplotlib.font_manager\n",
    "matplotlib.font_manager.findSystemFonts(fontpaths=None, fontext='ttf');\n",
    "\n",
    "font = matplotlib.font_manager.FontProperties(fname='/System/Library/Fonts/Supplemental/Avenir.ttf')"
   ]
  },
  {
   "cell_type": "code",
   "execution_count": 3,
   "metadata": {},
   "outputs": [],
   "source": [
    "plt.rcParams.update({'text.usetex': True,\n",
    "                        'font.family': \"sans-serif\",\n",
    "                        'text.latex.preamble': [r'\\usepackage{amsmath}']})"
   ]
  },
  {
   "cell_type": "markdown",
   "metadata": {},
   "source": [
    "## Neutral dynamics"
   ]
  },
  {
   "cell_type": "code",
   "execution_count": null,
   "metadata": {},
   "outputs": [],
   "source": [
    "# defining the system of ODEs in the neutral limit and solving it: \n",
    "\n",
    "psis_rho = []\n",
    "ts_rho = []\n",
    "\n",
    "rhos = np.logspace(-4.5, 4.5, int(1e2))\n",
    "\n",
    "for rho in rhos:\n",
    "    def system(t, psi, rho):\n",
    "        psi_0, psi_1x, psi_1y, psi_1z, psi_2xy, psi_2xz, psi_2yz, psi_3xyz = psi\n",
    "    \n",
    "        d_psi_0 = - rho*psi_0 - psi_0**2 + 2*rho/(1+t) # w/ psi0_0 = 2\n",
    "\n",
    "        d_psi_1x = - rho*psi_1x - 2*psi_0*psi_1x + rho/(1+t)**2 # w/ psi0_1x = 0\n",
    "        d_psi_1y = - rho*psi_1y - 2*psi_0*psi_1y + rho/(1+t)**2 # w/ psi0_1y = 0\n",
    "        d_psi_1z = - rho*psi_1z - 2*psi_0*psi_1z # w/ psi0_1z = 1\n",
    "\n",
    "        d_psi_2xy = - rho*psi_2xy - 2*psi_0*psi_2xy - 4*psi_1x*psi_1y # w/ psi0_2xy = 0\n",
    "        d_psi_2xz = - rho*psi_2xz - 2*psi_0*psi_2xz - 4*psi_1x*psi_1z # w/ psi0_2xz = 0\n",
    "        d_psi_2yz = - rho*psi_2yz - 2*psi_0*psi_2yz - 4*psi_1y*psi_1z # w/ psi0_2yz = 0\n",
    "\n",
    "        d_psi_3xyz = - rho*psi_3xyz - 2*psi_0*psi_3xyz - 6*psi_1x*psi_2yz - 6*psi_1y*psi_2xz - 6*psi_1z*psi_2xy  # w/ psi0_3xyz = 0\n",
    "    \n",
    "        return d_psi_0, d_psi_1x, d_psi_1y, d_psi_1z, d_psi_2xy, d_psi_2xz, d_psi_2yz, d_psi_3xyz\n",
    "    \n",
    "    psi0 = [2, 0, 0, 1, 0, 0, 0, 0] # initial conditions\n",
    "    \n",
    "    t_start = 0; t_stop = 3 / rho # start and stop times for integration\n",
    "    \n",
    "    soln = solve_ivp(system, [t_start, t_stop], psi0, args=[rho], dense_output=True) # solving the equations! \n",
    "    \n",
    "    ts = np.linspace(t_start, t_stop, int(1e6)) # times to evaluate solution at\n",
    "    interp = soln.sol(ts)\n",
    "    psis_rho.append(interp)\n",
    "    ts_rho.append(ts)\n",
    "    "
   ]
  },
  {
   "cell_type": "code",
   "execution_count": null,
   "metadata": {},
   "outputs": [],
   "source": [
    "# defining the integrand:\n",
    "\n",
    "def integrand_neutral(rho, t, psi_1z_t, psi_2xz_t, psi_2yz_t, psi_3xyz_t):\n",
    "    return rho*psi_1z_t - 1/2*(1+rho*(1+t))*(psi_2xz_t+psi_2yz_t) + 1/6*(1+t)*(2-rho*(1+t))*psi_3xyz_t"
   ]
  },
  {
   "cell_type": "code",
   "execution_count": null,
   "metadata": {},
   "outputs": [],
   "source": [
    "# calculating the integrand:\n",
    "\n",
    "fs_rho = []\n",
    "for i in range(len(rhos)):\n",
    "    fs_rho.append([integrand_neutral(rhos[i], ts_rho[i][j], \n",
    "                             psis_rho[i][3][j], # psi_1z_t\n",
    "                             psis_rho[i][5][j], # psi_2xz_t\n",
    "                             psis_rho[i][6][j], # psi_2yz_t\n",
    "                             psis_rho[i][7][j]) # psi_3xyz_t\n",
    "                   for j in range(len(ts_rho[i]))])"
   ]
  },
  {
   "cell_type": "code",
   "execution_count": null,
   "metadata": {},
   "outputs": [],
   "source": [
    "# integrating the integrand:\n",
    "\n",
    "lambda_rho_neutral = {}\n",
    "for i in range(len(rhos)):\n",
    "    l = 0\n",
    "    for j in range(len(ts_rho[i]) - 1):\n",
    "        l += (ts_rho[i][j + 1] - ts_rho[i][j]) * fs_rho[i][j]\n",
    "    lambda_rho_neutral[rhos[i]] = l"
   ]
  },
  {
   "cell_type": "code",
   "execution_count": 5,
   "metadata": {},
   "outputs": [],
   "source": [
    "# saving numerical results:\n",
    "\n",
    "'''\n",
    "with open('lambda_rho_neutral.txt', 'w+') as o:\n",
    "    o.writelines(['rho\\tlambda\\n'] + [str(x) + '\\t' + str(y) + '\\n' for x, y in zip(rhos, [lambda_rho_neutral[x] for x in rhos])])\n",
    "'''\n",
    "\n",
    "# downloading numerical results:\n",
    "\n",
    "with open('lambda_rho_neutral.txt') as f:\n",
    "    lambda_rho_neutral = dict([list(map(float, x.split())) for x in f.readlines()[1:]])"
   ]
  },
  {
   "cell_type": "code",
   "execution_count": 6,
   "metadata": {},
   "outputs": [],
   "source": [
    "# downloading simulation results:\n",
    "\n",
    "with open('../simulations/LE_r_nruns=1e9_points.txt') as f:\n",
    "    neutral_simulated = [list(map(float, x.split())) for x in f.readlines()] # f*, x (lambda), y (rho)"
   ]
  },
  {
   "cell_type": "code",
   "execution_count": 7,
   "metadata": {},
   "outputs": [
    {
     "data": {
      "image/png": "[encoded data removed]",
      "text/plain": [
       "<Figure size 576x432 with 1 Axes>"
      ]
     },
     "metadata": {
      "needs_background": "light"
     },
     "output_type": "display_data"
    }
   ],
   "source": [
    "# comparing simulations w/ numerics:\n",
    "\n",
    "plt.figure(figsize=(8,6))\n",
    "\n",
    "colors = ['#6DC1DB', '#299191', '#95CB88']\n",
    "grey = '#d1d1d1'\n",
    "\n",
    "N = 1e5\n",
    "fs = [0.001, 0.01, 0.1]\n",
    "rhos = np.logspace(-4.5, 4.5, int(1e2))\n",
    "\n",
    "plt.plot(rhos, [lambda_rho_neutral[x] for x in rhos], color='black', label='numerics', zorder=5)\n",
    "\n",
    "plt.loglog(np.logspace(-6.5,5,25), np.ones_like(np.logspace(-6.5,5,25)), '--', color=grey)\n",
    "plt.loglog(np.logspace(-6.5,5,25), np.logspace(-6.5,5,25), color=grey, label=\"$\\\\bar{\\\\Lambda} = 2NRf_0$\")\n",
    "\n",
    "c = 0\n",
    "for f in fs:\n",
    "    \n",
    "    plt.loglog([x[1] for x in neutral_simulated if x[0] == f], [x[2] for x in neutral_simulated if x[0] == f], 'o', \n",
    "               color=colors[c], alpha=0.7, \n",
    "               label='$f_0=$' + \"$10^{\" + '{:0.0f}'.format(math.log10(f)) + \"}$\")\n",
    "    c += 1\n",
    "\n",
    "plt.xticks([1e-4, 1e-2, 1e0, 1e2, 1e4], \n",
    "           ['$10^{-4}$', '$10^{-2}$', '$10^{0}$', '$10^{2}$', '$10^{4}$'])\n",
    "plt.yticks([1e-4, 1e-3, 1e-2, 1e-1, 1e0], \n",
    "           ['$10^{-4}$', '$10^{-3}$', '$10^{-2}$', '$10^{-1}$', '$10^{0}$'])\n",
    "plt.ylim([5e-5, 2])\n",
    "plt.xlim([5e-5, 2e4])\n",
    "\n",
    "plt.minorticks_off()\n",
    "plt.tick_params(axis='both', labelsize=14)\n",
    "\n",
    "plt.ylabel(\"$\\\\bar{\\\\Lambda}$\", fontsize=18, labelpad=16)\n",
    "plt.xlabel(\"$2 N R f_0$\", fontsize=18, labelpad=18)    \n",
    "plt.title(\"$s_A = s_B = \\\\epsilon_{AB} = 0$\" + \", \" + \"$N = 10^5$\", fontsize=16, pad=12)\n",
    "\n",
    "plt.legend(frameon=False,fontsize=14,loc='lower right');\n",
    "\n",
    "# plt.savefig('neutral_lambda_numerics.png', dpi=300, bbox_inches='tight')\n"
   ]
  },
  {
   "cell_type": "markdown",
   "metadata": {},
   "source": [
    "## Dynamics under selection"
   ]
  },
  {
   "cell_type": "markdown",
   "metadata": {},
   "source": [
    "### Weak recombination"
   ]
  },
  {
   "cell_type": "code",
   "execution_count": null,
   "metadata": {},
   "outputs": [],
   "source": [
    "# under weak recombination, we only need to add selection to the ODEs:\n",
    "\n",
    "psis_rho = []\n",
    "\n",
    "sel_a = 10; sel_b = 10; eps = 0; sel_ab = sel_a + sel_b + eps # gammas\n",
    "rhos_1 = np.logspace(-3, math.log(sel_ab, 10), int(1e2))\n",
    "\n",
    "for rho in rhos_1:\n",
    "    def system(t, psi, rho, gamma_a, gamma_b, gamma_ab): # gamma_ab = gamma_a + gamma_b + gamma_e\n",
    "        psi_0, psi_1x, psi_1y, psi_1z, psi_2xy, psi_2xz, psi_2yz, psi_3xyz = psi\n",
    "    \n",
    "        d_psi_0 = (- (rho+gamma_ab)*psi_0 - psi_0**2 \n",
    "                   + rho*gamma_a*math.exp(-gamma_a*t)/(1+gamma_a-math.exp(-gamma_a*t)) \n",
    "                   + rho*gamma_b*math.exp(-gamma_b*t)/(1+gamma_b-math.exp(-gamma_b*t))) # w/ psi0_0 = 2\n",
    "\n",
    "        d_psi_1x = (- (rho+gamma_ab)*psi_1x - 2*psi_0*psi_1x \n",
    "                    + rho*(gamma_a**2)*math.exp(-gamma_a*t)/(1+gamma_a-math.exp(-gamma_a*t))**2) # w/ psi0_1x = 0\n",
    "        \n",
    "        d_psi_1y = (- (rho+gamma_ab)*psi_1y - 2*psi_0*psi_1y\n",
    "                    + rho*(gamma_b**2)*math.exp(-gamma_b*t)/(1+gamma_b-math.exp(-gamma_b*t))**2) # w/ psi0_1y = 0\n",
    "        \n",
    "        d_psi_1z = - (rho+gamma_ab)*psi_1z - 2*psi_0*psi_1z # w/ psi0_1z = 1\n",
    "\n",
    "        d_psi_2xy = - (rho+gamma_ab)*psi_2xy - 2*psi_0*psi_2xy - 4*psi_1x*psi_1y # w/ psi0_2xy = 0\n",
    "        d_psi_2xz = - (rho+gamma_ab)*psi_2xz - 2*psi_0*psi_2xz - 4*psi_1x*psi_1z # w/ psi0_2xz = 0\n",
    "        d_psi_2yz = - (rho+gamma_ab)*psi_2yz - 2*psi_0*psi_2yz - 4*psi_1y*psi_1z # w/ psi0_2yz = 0\n",
    "\n",
    "        d_psi_3xyz = - (rho+gamma_ab)*psi_3xyz - 2*psi_0*psi_3xyz - 6*psi_1x*psi_2yz - 6*psi_1y*psi_2xz - 6*psi_1z*psi_2xy  # w/ psi0_3xyz = 0\n",
    "    \n",
    "        return d_psi_0, d_psi_1x, d_psi_1y, d_psi_1z, d_psi_2xy, d_psi_2xz, d_psi_2yz, d_psi_3xyz\n",
    "    \n",
    "    psi0 = [2, 0, 0, 1, 0, 0, 0, 0] # initial conditions\n",
    "\n",
    "    \n",
    "    t_start = 0; t_stop = 1\n",
    "    soln = solve_ivp(system, [t_start, t_stop], psi0, args=[rho, sel_a, sel_b, sel_ab], dense_output=True) # solving the equations! \n",
    "    \n",
    "    # times to evaluate solution at \n",
    "    ts = np.linspace(t_start, t_stop, int(1e4))\n",
    "\n",
    "    interp = soln.sol(ts)\n",
    "    psis_rho.append(interp)\n",
    "    "
   ]
  },
  {
   "cell_type": "code",
   "execution_count": null,
   "metadata": {},
   "outputs": [],
   "source": [
    "# defining the integrand: \n",
    "\n",
    "def integrand_sel(rho, t, psi_1z_t, psi_2xz_t, psi_2yz_t, psi_3xyz_t, gamma_a, gamma_b, gamma_ab):\n",
    "    \n",
    "    phi_0x_t = - (1+gamma_a-math.exp(-gamma_a*t))/(gamma_a*(1+gamma_a))\n",
    "    phi_0y_t = - (1+gamma_b-math.exp(-gamma_b*t))/(gamma_b*(1+gamma_b))\n",
    "    \n",
    "    phi_1x_t = math.exp(-gamma_a*t)/(1+gamma_a)**2\n",
    "    phi_1y_t = math.exp(-gamma_b*t)/(1+gamma_b)**2\n",
    "\n",
    "    return ((1+sel_a)*(1+sel_b))**2 * (rho*psi_1z_t*phi_1x_t*phi_1y_t - 1/2*psi_2xz_t*phi_1y_t*(1-rho*phi_0x_t) - 1/2*psi_2yz_t*phi_1x_t*(1-rho*phi_0y_t) + 1/6*psi_3xyz_t*(phi_0x_t+phi_0y_t-rho*phi_0x_t*phi_0y_t))\n",
    "\n"
   ]
  },
  {
   "cell_type": "code",
   "execution_count": null,
   "metadata": {},
   "outputs": [],
   "source": [
    "# calculating the integrand: \n",
    "\n",
    "fs_rho = []\n",
    "for i in range(len(rhos_1)):\n",
    "             \n",
    "    fs_rho.append([integrand_sel(rhos_1[i], ts[j], \n",
    "                       psis_rho[i][3][j], # psi_1z_t\n",
    "                       psis_rho[i][5][j], # psi_2xz_t\n",
    "                       psis_rho[i][6][j], # psi_2yz_t\n",
    "                       psis_rho[i][7][j],\n",
    "                       sel_a, sel_b, sel_ab) # psi_3xyz_t\n",
    "                   for j in range(len(ts))])"
   ]
  },
  {
   "cell_type": "code",
   "execution_count": null,
   "metadata": {},
   "outputs": [],
   "source": [
    "# integrating the integrand:\n",
    "\n",
    "lambda_rho_sel = {}\n",
    "for i in range(len(rhos_1)):\n",
    "    \n",
    "    l = 0\n",
    "    for j in range(len(ts) - 1):\n",
    "        l += (ts[j + 1] - ts[j]) * fs_rho[i][j]\n",
    "    lambda_rho_sel[rhos_1[i]] = l\n",
    "    "
   ]
  },
  {
   "cell_type": "code",
   "execution_count": 8,
   "metadata": {},
   "outputs": [],
   "source": [
    "# saving numerical results:\n",
    "\n",
    "'''\n",
    "with open('lambda_rho_selAB=1e3_small_r.txt', 'w+') as o:\n",
    "    o.writelines(['rho\\tlambda\\n'] + [str(x) + '\\t' + str(y) + '\\n' for x, y in zip(rhos_1, [lambda_rho_sel[x] for x in rhos_1])])\n",
    "'''\n",
    "\n",
    "# downloading numerical results:\n",
    "\n",
    "with open('lambda_rho_selAB=1e3_small_r.txt') as f:\n",
    "    lambda_rho_sel = dict([list(map(float, x.split())) for x in f.readlines()[1:]])"
   ]
  },
  {
   "cell_type": "markdown",
   "metadata": {},
   "source": [
    "### Strong recombination"
   ]
  },
  {
   "cell_type": "code",
   "execution_count": null,
   "metadata": {},
   "outputs": [],
   "source": [
    "# under strong recombination, need to rescale the time to capture the fast recombination dynamics:\n",
    "\n",
    "psis_rho = []\n",
    "\n",
    "sel_a = 10; sel_b = 10; eps = 0; sel_ab = sel_a + sel_b + eps # gammas\n",
    "rhos_2 = np.logspace(math.log(sel_ab, 10), math.log(2e5), 50)\n",
    "\n",
    "for rho in rhos_2:\n",
    "    def system(u, psi, rho, gamma_a, gamma_b, gamma_ab): # gamma_ab = gamma_a + gamma_b + gamma_e\n",
    "        psi_0, psi_1x, psi_1y, psi_1z, psi_2xy, psi_2xz, psi_2yz, psi_3xyz = psi\n",
    "    \n",
    "        d_psi_0 = (- (1+gamma_ab/rho)*psi_0 - 1/rho*psi_0**2 \n",
    "                   + gamma_a*math.exp(-gamma_a/rho*u)/(1+gamma_a-math.exp(-gamma_a/rho*u)) \n",
    "                   + gamma_b*math.exp(-gamma_b/rho*u)/(1+gamma_b-math.exp(-gamma_b/rho*u))) # w/ psi0_0 = 2\n",
    "\n",
    "        d_psi_1x = (- (1+gamma_ab/rho)*psi_1x - 2/rho*psi_0*psi_1x \n",
    "                    + (gamma_a**2)*math.exp(-gamma_a/rho*u)/(1+gamma_a-math.exp(-gamma_a/rho*u))**2) # w/ psi0_1x = 0\n",
    "        \n",
    "        d_psi_1y = (- (1+gamma_ab/rho)*psi_1y - 2/rho*psi_0*psi_1y \n",
    "                    + (gamma_b**2)*math.exp(-gamma_b/rho*u)/(1+gamma_b-math.exp(-gamma_b/rho*u))**2) # w/ psi0_1y = 0\n",
    "        \n",
    "        d_psi_1z = - (1+gamma_ab/rho)*psi_1z - 2/rho*psi_0*psi_1z # w/ psi0_1z = 1\n",
    "\n",
    "        d_psi_2xy = - (1+gamma_ab/rho)*psi_2xy - 2/rho*psi_0*psi_2xy - 4/rho*psi_1x*psi_1y # w/ psi0_2xy = 0\n",
    "        d_psi_2xz = - (1+gamma_ab/rho)*psi_2xz - 2/rho*psi_0*psi_2xz - 4/rho*psi_1x*psi_1z # w/ psi0_2xz = 0\n",
    "        d_psi_2yz = - (1+gamma_ab/rho)*psi_2yz - 2/rho*psi_0*psi_2yz - 4/rho*psi_1y*psi_1z # w/ psi0_2yz = 0\n",
    "\n",
    "        d_psi_3xyz = - (1+gamma_ab/rho)*psi_3xyz - 2/rho*psi_0*psi_3xyz - 6/rho*psi_1x*psi_2yz - 6/rho*psi_1y*psi_2xz - 6/rho*psi_1z*psi_2xy  # w/ psi0_3xyz = 0\n",
    "    \n",
    "        return d_psi_0, d_psi_1x, d_psi_1y, d_psi_1z, d_psi_2xy, d_psi_2xz, d_psi_2yz, d_psi_3xyz\n",
    "    \n",
    "    psi0 = [2, 0, 0, 1, 0, 0, 0, 0] # initial conditions\n",
    "    \n",
    "    u_start = 0; u_stop = 1e3 # start and stop times for integration\n",
    "    \n",
    "    soln = solve_ivp(system, [u_start, u_stop], psi0, args=[rho, sel_a, sel_b, sel_ab], dense_output=True) # solving the equations! \n",
    "    \n",
    "    us = np.linspace(u_start, u_stop, int(1e5)) # times to evaluate solution at\n",
    "    interp = soln.sol(us)\n",
    "    psis_rho.append(interp)"
   ]
  },
  {
   "cell_type": "code",
   "execution_count": null,
   "metadata": {},
   "outputs": [],
   "source": [
    "# defining the integrand:\n",
    "\n",
    "def integrand_sel_r(rho, u, psi_1z_t, psi_2xz_t, psi_2yz_t, psi_3xyz_t, gamma_a, gamma_b, gamma_ab):\n",
    "    \n",
    "    phi_0x_t = - (1+gamma_a-math.exp(-gamma_a/rho*u))/(gamma_a*(1+gamma_a))\n",
    "    phi_0y_t = - (1+gamma_b-math.exp(-gamma_b/rho*u))/(gamma_b*(1+gamma_b))\n",
    "    \n",
    "    phi_1x_t = math.exp(-gamma_a/rho*u)/(1+gamma_a)**2\n",
    "    phi_1y_t = math.exp(-gamma_b/rho*u)/(1+gamma_b)**2\n",
    "\n",
    "\n",
    "    return ((1+sel_a)*(1+sel_b))**2 * (psi_1z_t*phi_1x_t*phi_1y_t - 1/2/rho*psi_2xz_t*phi_1y_t*(1-rho*phi_0x_t) - 1/2/rho*psi_2yz_t*phi_1x_t*(1-rho*phi_0y_t) + 1/6/rho*psi_3xyz_t*(phi_0x_t+phi_0y_t-rho*phi_0x_t*phi_0y_t))\n"
   ]
  },
  {
   "cell_type": "code",
   "execution_count": null,
   "metadata": {},
   "outputs": [],
   "source": [
    "# calculating the integrand:\n",
    "\n",
    "fs_rho = []\n",
    "for i in range(len(rhos_2)):\n",
    "    fs_rho.append([integrand_sel_r(rhos_2[i], us[j], \n",
    "                       psis_rho[i][3][j], # psi_1z_t\n",
    "                       psis_rho[i][5][j], # psi_2xz_t\n",
    "                       psis_rho[i][6][j], # psi_2yz_t\n",
    "                       psis_rho[i][7][j],\n",
    "                       sel_a, sel_b, sel_ab) # psi_3xyz_t\n",
    "                   for j in range(len(us))])"
   ]
  },
  {
   "cell_type": "code",
   "execution_count": null,
   "metadata": {},
   "outputs": [],
   "source": [
    "# integrating the integrand:\n",
    "\n",
    "lambda_rho_sel_r = {}\n",
    "for i in range(len(rhos_2)):\n",
    "    l = 0\n",
    "    for j in range(len(us) - 1):\n",
    "        l += (us[j + 1] - us[j]) * fs_rho[i][j]\n",
    "    lambda_rho_sel_r[rhos_2[i]] = l"
   ]
  },
  {
   "cell_type": "code",
   "execution_count": 9,
   "metadata": {},
   "outputs": [],
   "source": [
    "# saving numerical results:\n",
    "\n",
    "'''\n",
    "with open('lambda_rho_selAB=1e3_large_r.txt', 'w+') as o:\n",
    "    o.writelines(['rho\\tlambda\\n'] + [str(x) + '\\t' + str(y) + '\\n' for x, y in zip(rhos_2, [lambda_rho_sel_r[x] for x in rhos_2])])\n",
    "'''\n",
    "\n",
    "# downloading numerical results:\n",
    "\n",
    "with open('lambda_rho_selAB=1e3_large_r.txt') as f:\n",
    "    lambda_rho_sel_r = dict([list(map(float, x.split())) for x in f.readlines()[1:]])"
   ]
  },
  {
   "cell_type": "code",
   "execution_count": 10,
   "metadata": {},
   "outputs": [],
   "source": [
    "# downloading simulation results: \n",
    "\n",
    "N = 1e6\n",
    "s = 1e-3\n",
    "\n",
    "path = '/Users/alyulina/Projects/Linkage equilibrium/figures/'\n",
    "regime = 'r_selAB=1e-3'\n",
    "\n",
    "points = {}    \n",
    "points[regime] = {}\n",
    "points[regime]['fs'] = np.load(path + '%s_fstars.npy' % regime)\n",
    "points[regime]['rs'] = np.load(path + '%s_rs.npy' % regime)\n",
    "points[regime]['nums'] = np.load(path + '%s_numers.npy' % regime)\n",
    "points[regime]['denoms'] = np.load(path + '%s_denoms.npy' % regime)\n",
    "    "
   ]
  },
  {
   "cell_type": "code",
   "execution_count": 15,
   "metadata": {},
   "outputs": [
    {
     "data": {
      "image/png": "[encoded data removed]",
      "text/plain": [
       "<Figure size 576x432 with 1 Axes>"
      ]
     },
     "metadata": {
      "needs_background": "light"
     },
     "output_type": "display_data"
    }
   ],
   "source": [
    "# comparing simulations w/ numerics:\n",
    "\n",
    "sel_a = 10; sel_b = 10; eps = 0; sel_ab = sel_a + sel_b + eps\n",
    "rhos_1 = np.logspace(-3, math.log(sel_ab, 10), int(1e2))\n",
    "rhos_2 = np.logspace(math.log(sel_ab, 10), math.log(2e5), 50)\n",
    "\n",
    "plt.figure(figsize=(8,6))\n",
    "\n",
    "colors = ['#299191', '#95CB88']\n",
    "grey = '#d1d1d1' \n",
    "\n",
    "plt.plot([x / sel_ab for x in rhos_1], [lambda_rho_sel[x] for x in rhos_1], color='black', label='numerics', zorder=5)\n",
    "plt.plot([x / sel_ab for x in rhos_2], [lambda_rho_sel_r[x] for x in rhos_2], color='black', zorder=6)\n",
    "plt.loglog(np.logspace(-6.5,5,25), np.ones_like(np.logspace(-6.5,5,25)), '--', color=grey)\n",
    "\n",
    "for j, f in enumerate(points['r_selAB=1e-3']['fs']):\n",
    "\n",
    "    if f not in [0.01, 0.1]:\n",
    "        continue\n",
    "        \n",
    "    xs = []\n",
    "    ys = []\n",
    "        \n",
    "    for i, r in enumerate(points[regime]['rs']):     \n",
    "        xs.append(r / s)\n",
    "        ys.append(points[regime]['nums'][i, j] / points[regime]['denoms'][i, j])\n",
    "        \n",
    "    if j == 22: \n",
    "        plt.loglog(xs, [x * 19 / 60 * 2 for x in xs], color=grey, label=\"$\\\\bar{\\\\Lambda} = \\\\frac{19}{30}\\\\frac{R}{s_{AB}}$\")\n",
    "\n",
    "    if j == len(points['r_selAB=1e-3']['fs']) - 1: \n",
    "        color = colors[-1]\n",
    "    else:\n",
    "        color = colors[0]\n",
    "        \n",
    "    plt.loglog(xs, ys, 'o', color=color, alpha=0.7,  label='$f_0=$' + \"$10^{\" + '{:0.0f}'.format(math.log10(f)) + \"}$\")\n",
    "    \n",
    "    \n",
    "plt.xticks([1e-4, 1e-2, 1e0, 1e2, 1e4], \n",
    "           ['$10^{-4}$', '$10^{-2}$', '$10^{0}$', '$10^{2}$', '$10^{4}$'])\n",
    "plt.yticks([1e-4, 1e-3, 1e-2, 1e-1, 1e0], \n",
    "           ['$10^{-4}$', '$10^{-3}$', '$10^{-2}$', '$10^{-1}$', '$10^{0}$'])\n",
    "plt.ylim([5e-5, 2])\n",
    "plt.xlim([5e-5, 2e4])\n",
    "\n",
    "plt.minorticks_off()\n",
    "plt.tick_params(axis='both', labelsize=14)\n",
    "\n",
    "plt.ylabel(\"$\\\\bar{\\\\Lambda}$\", fontsize=18, labelpad=16)\n",
    "plt.xlabel(\"$R / s_{AB}$\", fontsize=18, labelpad=18)    \n",
    "plt.title(\"$s_{A,B} = 10^{-3}$\" + \", \" + \"$\\epsilon_{AB} = 0$\" + \", \" + \"$N = 10^6$\", fontsize=16, pad=12)\n",
    "\n",
    "plt.legend(frameon=False,fontsize=14,loc='lower right');\n",
    "\n",
    "# plt.savefig('selection_fig_sAB=1e-3_r_s.png',dpi=600,bbox_inches='tight') \n"
   ]
  },
  {
   "cell_type": "code",
   "execution_count": null,
   "metadata": {},
   "outputs": [],
   "source": []
  }
 ],
 "metadata": {
  "kernelspec": {
   "display_name": "Python 3 (ipykernel)",
   "language": "python",
   "name": "python3"
  },
  "language_info": {
   "codemirror_mode": {
    "name": "ipython",
    "version": 3
   },
   "file_extension": ".py",
   "mimetype": "text/x-python",
   "name": "python",
   "nbconvert_exporter": "python",
   "pygments_lexer": "ipython3",
   "version": "3.8.3"
  }
 },
 "nbformat": 4,
 "nbformat_minor": 4
}
