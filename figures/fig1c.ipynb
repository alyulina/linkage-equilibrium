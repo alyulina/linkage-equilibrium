{
 "cells": [
  {
   "cell_type": "code",
   "execution_count": 1,
   "id": "4c21bc8a",
   "metadata": {},
   "outputs": [],
   "source": [
    "import math\n",
    "import itertools\n",
    "import numpy as np\n",
    "import matplotlib.pyplot as plt\n",
    "from mpl_toolkits.axes_grid1.inset_locator import inset_axes\n",
    "from matplotlib import gridspec\n",
    "import seaborn as sns\n",
    "%matplotlib inline"
   ]
  },
  {
   "cell_type": "code",
   "execution_count": 2,
   "id": "d14dc87a",
   "metadata": {},
   "outputs": [],
   "source": [
    "import matplotlib.font_manager\n",
    "matplotlib.font_manager.findSystemFonts(fontpaths=None, fontext='ttf');\n",
    "\n",
    "font = matplotlib.font_manager.FontProperties(fname='/System/Library/Fonts/Supplemental/Avenir.ttf')"
   ]
  },
  {
   "cell_type": "code",
   "execution_count": 3,
   "id": "b07893d3",
   "metadata": {},
   "outputs": [],
   "source": [
    "plt.rcParams.update({'text.usetex': True,\n",
    "                        'font.family': \"sans-serif\",\n",
    "                        'text.latex.preamble': r\"\\usepackage{amsmath}\"})"
   ]
  },
  {
   "cell_type": "code",
   "execution_count": 4,
   "id": "95d4c50e",
   "metadata": {},
   "outputs": [],
   "source": [
    "def Lambda(f_0, f_AB):\n",
    "    f_A = f_0\n",
    "    f_B = f_0\n",
    "    f_Ab = f_A - f_AB\n",
    "    f_aB = f_B - f_AB\n",
    "    f_ab = 1 - f_Ab - f_aB - f_AB\n",
    "    if f_AB > f_0:\n",
    "        Lambda = np.nan\n",
    "    else: \n",
    "        Lambda = f_ab * f_Ab * f_Ab * f_AB / (f_A**2 * (1-f_A)**2 * f_B**2 * (1-f_B)**2)\n",
    "    return Lambda"
   ]
  },
  {
   "cell_type": "code",
   "execution_count": 5,
   "id": "ee0714b3",
   "metadata": {},
   "outputs": [],
   "source": [
    "n = 1000\n",
    "f0s = np.logspace(np.log10(2e-5), np.log10(0.5), n)\n",
    "fABs_norm = np.linspace(0, 2, n)\n",
    "\n",
    "# creating meshgrids\n",
    "x = np.empty(shape=(n, n))\n",
    "y = np.empty(shape=(n, n))\n",
    "l = np.empty(shape=(n, n))\n",
    "for i in range(n):\n",
    "    for j in range(n):\n",
    "        x[i][j] = f0s[j]\n",
    "        y[i][j] = fABs_norm[i]\n",
    "        l[i][j] = Lambda(f0s[j], fABs_norm[i] * f0s[j]**2)"
   ]
  },
  {
   "cell_type": "code",
   "execution_count": 6,
   "id": "9d2a0867",
   "metadata": {},
   "outputs": [
    {
     "data": {
      "image/png": "[encoded data removed]",
      "text/plain": [
       "<Figure size 500x375 with 2 Axes>"
      ]
     },
     "metadata": {},
     "output_type": "display_data"
    }
   ],
   "source": [
    "matplotlib.rcParams['axes.linewidth'] = 1\n",
    "grey = '#b9b9b9'\n",
    "w = 1.5 # linewidth\n",
    "fig = plt.figure(figsize=(5, 3.75))\n",
    "\n",
    "\n",
    "contours = plt.contourf(x, y, l, levels=[0, 0.125, 0.25, 0.375, 0.5, 0.625, 0.75, 0.895, 1, 1.125, 1.25, 1.375, 1.5], \n",
    "                       cmap=sns.color_palette(\"crest\", as_cmap=True), vmin=0, vmax=1.5, extend='neither')\n",
    "\n",
    "plt.plot(f0s, [1 for x in f0s], '-', color='#000000', linewidth=w)\n",
    "\n",
    "plt.xscale('log') \n",
    "plt.minorticks_off()\n",
    "plt.xlim(2e-5, 0.5)\n",
    "plt.ylim(0, 1.5)\n",
    "plt.tick_params(axis='both', labelsize=18)\n",
    "\n",
    "plt.xlabel(r\"$f_A=f_B$\", fontsize=20, labelpad=10);\n",
    "plt.ylabel(r\"$f_{AB}/(f_Af_B)$\", fontsize=20, labelpad=10);\n",
    "\n",
    "plt.text(0.95, 0.9, '$\\Lambda$', fontsize=20)\n",
    "\n",
    "cbar_ax = fig.add_axes([0.95, 0.11, 0.03, 0.42])\n",
    "cbar = plt.colorbar(contours, alpha=1, cax=cbar_ax, orientation='vertical', shrink=0.5, ticks=[0, 0.5, 1, 1.5])\n",
    "cbar.ax.set_ylim(0, 1.5)\n",
    "cbar.ax.axhline(1, color='#000000')\n",
    "cbar.ax.tick_params(labelsize=12)\n",
    "\n",
    "\n",
    "plt.savefig('fig1c.png',dpi=600,bbox_inches='tight') "
   ]
  },
  {
   "cell_type": "code",
   "execution_count": null,
   "id": "032be67e",
   "metadata": {},
   "outputs": [],
   "source": []
  }
 ],
 "metadata": {
  "kernelspec": {
   "display_name": "Python 3 (ipykernel)",
   "language": "python",
   "name": "python3"
  },
  "language_info": {
   "codemirror_mode": {
    "name": "ipython",
    "version": 3
   },
   "file_extension": ".py",
   "mimetype": "text/x-python",
   "name": "python",
   "nbconvert_exporter": "python",
   "pygments_lexer": "ipython3",
   "version": "3.8.3"
  }
 },
 "nbformat": 4,
 "nbformat_minor": 5
}
