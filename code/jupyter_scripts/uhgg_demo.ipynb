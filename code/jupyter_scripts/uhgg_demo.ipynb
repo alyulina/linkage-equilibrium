{
 "cells": [
  {
   "cell_type": "code",
   "execution_count": 1,
   "metadata": {},
   "outputs": [],
   "source": [
    "import pandas as pd\n",
    "import numpy as np\n",
    "import os\n",
    "import matplotlib.pyplot as plt\n",
    "import requests"
   ]
  },
  {
   "cell_type": "code",
   "execution_count": null,
   "metadata": {},
   "outputs": [],
   "source": [
    "MGYG-HGUT-02492\n",
    "MGYG-HGUT-02506\n",
    "MGYG-HGUT-01302\n",
    "MGYG-HGUT-02438\n",
    "MGYG-HGUT-02478\n",
    "MGYG-HGUT-01346\n",
    "MGYG-HGUT-00258\n",
    "MGYG-HGUT-03694\n",
    "MGYG-HGUT-00060\n",
    "MGYG-HGUT-02321"
   ]
  },
  {
   "cell_type": "markdown",
   "metadata": {},
   "source": [
    "## Loading and dealing with the metadata table"
   ]
  },
  {
   "cell_type": "code",
   "execution_count": 2,
   "metadata": {},
   "outputs": [],
   "source": [
    "meta_data = pd.read_csv(\"41587_2020_603_MOESM3_ESM.csv\")"
   ]
  },
  {
   "cell_type": "code",
   "execution_count": 3,
   "metadata": {},
   "outputs": [
    {
     "data": {
      "text/html": [
       "<div>\n",
       "<style scoped>\n",
       "    .dataframe tbody tr th:only-of-type {\n",
       "        vertical-align: middle;\n",
       "    }\n",
       "\n",
       "    .dataframe tbody tr th {\n",
       "        vertical-align: top;\n",
       "    }\n",
       "\n",
       "    .dataframe thead th {\n",
       "        text-align: right;\n",
       "    }\n",
       "</style>\n",
       "<table border=\"1\" class=\"dataframe\">\n",
       "  <thead>\n",
       "    <tr style=\"text-align: right;\">\n",
       "      <th></th>\n",
       "      <th>Species representative</th>\n",
       "      <th>MGnify accession</th>\n",
       "      <th>ENA accession</th>\n",
       "      <th>Status</th>\n",
       "      <th>Reference genes</th>\n",
       "      <th>Core genes1</th>\n",
       "      <th>% Core genes1</th>\n",
       "      <th>Accessory genes1</th>\n",
       "      <th>Pan-genome size1</th>\n",
       "      <th>Number of SNVs</th>\n",
       "      <th>...</th>\n",
       "      <th>Unnamed: 16</th>\n",
       "      <th>Unnamed: 17</th>\n",
       "      <th>Number of 97% ANI clusters</th>\n",
       "      <th>Number of 99% ANI clusters</th>\n",
       "      <th>Number of genomes (total)</th>\n",
       "      <th>Number of genomes (non-redundant)</th>\n",
       "      <th>Number of genomes (near-complete)</th>\n",
       "      <th>Number of samples</th>\n",
       "      <th>Taxonomy lineage (GTDB)</th>\n",
       "      <th>Taxonomy lineage (NCBI)</th>\n",
       "    </tr>\n",
       "  </thead>\n",
       "  <tbody>\n",
       "    <tr>\n",
       "      <th>0</th>\n",
       "      <td>GUT_GENOME000001</td>\n",
       "      <td>MGYG-HGUT-00001</td>\n",
       "      <td>ERS3638031</td>\n",
       "      <td>Cultured (human gut)</td>\n",
       "      <td>3182</td>\n",
       "      <td>NaN</td>\n",
       "      <td>NaN</td>\n",
       "      <td>NaN</td>\n",
       "      <td>NaN</td>\n",
       "      <td>16351.0</td>\n",
       "      <td>...</td>\n",
       "      <td>0</td>\n",
       "      <td>1</td>\n",
       "      <td>2</td>\n",
       "      <td>4</td>\n",
       "      <td>4</td>\n",
       "      <td>3</td>\n",
       "      <td>1</td>\n",
       "      <td>3</td>\n",
       "      <td>d__Bacteria;p__Firmicutes_A;c__Clostridia;o__P...</td>\n",
       "      <td>d__Bacteria;p__Firmicutes;c__Clostridia;o__Clo...</td>\n",
       "    </tr>\n",
       "    <tr>\n",
       "      <th>1</th>\n",
       "      <td>GUT_GENOME000004</td>\n",
       "      <td>MGYG-HGUT-00002</td>\n",
       "      <td>ERS3638032</td>\n",
       "      <td>Cultured (human gut)</td>\n",
       "      <td>3920</td>\n",
       "      <td>1821.0</td>\n",
       "      <td>46.45</td>\n",
       "      <td>34621.0</td>\n",
       "      <td>36442.0</td>\n",
       "      <td>428560.0</td>\n",
       "      <td>...</td>\n",
       "      <td>49</td>\n",
       "      <td>162</td>\n",
       "      <td>134</td>\n",
       "      <td>327</td>\n",
       "      <td>358</td>\n",
       "      <td>308</td>\n",
       "      <td>120</td>\n",
       "      <td>308</td>\n",
       "      <td>d__Bacteria;p__Firmicutes_A;c__Clostridia;o__L...</td>\n",
       "      <td>d__Bacteria;p__Firmicutes;c__Clostridia;o__Clo...</td>\n",
       "    </tr>\n",
       "    <tr>\n",
       "      <th>2</th>\n",
       "      <td>GUT_GENOME000008</td>\n",
       "      <td>MGYG-HGUT-00003</td>\n",
       "      <td>ERS3638033</td>\n",
       "      <td>Cultured (human gut)</td>\n",
       "      <td>2690</td>\n",
       "      <td>1522.0</td>\n",
       "      <td>56.58</td>\n",
       "      <td>19714.0</td>\n",
       "      <td>21236.0</td>\n",
       "      <td>516967.0</td>\n",
       "      <td>...</td>\n",
       "      <td>244</td>\n",
       "      <td>676</td>\n",
       "      <td>42</td>\n",
       "      <td>561</td>\n",
       "      <td>1178</td>\n",
       "      <td>1000</td>\n",
       "      <td>593</td>\n",
       "      <td>1003</td>\n",
       "      <td>d__Bacteria;p__Bacteroidota;c__Bacteroidia;o__...</td>\n",
       "      <td>d__Bacteria;p__Bacteroidetes;c__Bacteroidia;o_...</td>\n",
       "    </tr>\n",
       "    <tr>\n",
       "      <th>3</th>\n",
       "      <td>GUT_GENOME000010</td>\n",
       "      <td>MGYG-HGUT-00004</td>\n",
       "      <td>ERS3638034</td>\n",
       "      <td>Cultured (human gut)</td>\n",
       "      <td>3634</td>\n",
       "      <td>NaN</td>\n",
       "      <td>NaN</td>\n",
       "      <td>NaN</td>\n",
       "      <td>NaN</td>\n",
       "      <td>58094.0</td>\n",
       "      <td>...</td>\n",
       "      <td>5</td>\n",
       "      <td>5</td>\n",
       "      <td>3</td>\n",
       "      <td>17</td>\n",
       "      <td>24</td>\n",
       "      <td>22</td>\n",
       "      <td>8</td>\n",
       "      <td>23</td>\n",
       "      <td>d__Bacteria;p__Firmicutes_A;c__Clostridia;o__O...</td>\n",
       "      <td>d__Bacteria;p__Firmicutes;c__Clostridia;o__Clo...</td>\n",
       "    </tr>\n",
       "    <tr>\n",
       "      <th>4</th>\n",
       "      <td>GUT_GENOME000017</td>\n",
       "      <td>MGYG-HGUT-00005</td>\n",
       "      <td>ERS3638035</td>\n",
       "      <td>Cultured (human gut)</td>\n",
       "      <td>3755</td>\n",
       "      <td>NaN</td>\n",
       "      <td>NaN</td>\n",
       "      <td>NaN</td>\n",
       "      <td>NaN</td>\n",
       "      <td>NaN</td>\n",
       "      <td>...</td>\n",
       "      <td>0</td>\n",
       "      <td>0</td>\n",
       "      <td>1</td>\n",
       "      <td>2</td>\n",
       "      <td>2</td>\n",
       "      <td>2</td>\n",
       "      <td>1</td>\n",
       "      <td>2</td>\n",
       "      <td>d__Bacteria;p__Firmicutes_A;c__Clostridia;o__P...</td>\n",
       "      <td>d__Bacteria;p__Firmicutes;c__Clostridia;o__Clo...</td>\n",
       "    </tr>\n",
       "  </tbody>\n",
       "</table>\n",
       "<p>5 rows × 26 columns</p>\n",
       "</div>"
      ],
      "text/plain": [
       "  Species representative MGnify accession ENA accession                Status  \\\n",
       "0       GUT_GENOME000001  MGYG-HGUT-00001    ERS3638031  Cultured (human gut)   \n",
       "1       GUT_GENOME000004  MGYG-HGUT-00002    ERS3638032  Cultured (human gut)   \n",
       "2       GUT_GENOME000008  MGYG-HGUT-00003    ERS3638033  Cultured (human gut)   \n",
       "3       GUT_GENOME000010  MGYG-HGUT-00004    ERS3638034  Cultured (human gut)   \n",
       "4       GUT_GENOME000017  MGYG-HGUT-00005    ERS3638035  Cultured (human gut)   \n",
       "\n",
       "   Reference genes  Core genes1  % Core genes1  Accessory genes1  \\\n",
       "0             3182          NaN            NaN               NaN   \n",
       "1             3920       1821.0          46.45           34621.0   \n",
       "2             2690       1522.0          56.58           19714.0   \n",
       "3             3634          NaN            NaN               NaN   \n",
       "4             3755          NaN            NaN               NaN   \n",
       "\n",
       "   Pan-genome size1  Number of SNVs  ...  Unnamed: 16  Unnamed: 17  \\\n",
       "0               NaN         16351.0  ...            0            1   \n",
       "1           36442.0        428560.0  ...           49          162   \n",
       "2           21236.0        516967.0  ...          244          676   \n",
       "3               NaN         58094.0  ...            5            5   \n",
       "4               NaN             NaN  ...            0            0   \n",
       "\n",
       "   Number of 97% ANI clusters  Number of 99% ANI clusters  \\\n",
       "0                           2                           4   \n",
       "1                         134                         327   \n",
       "2                          42                         561   \n",
       "3                           3                          17   \n",
       "4                           1                           2   \n",
       "\n",
       "   Number of genomes (total)  Number of genomes (non-redundant)  \\\n",
       "0                          4                                  3   \n",
       "1                        358                                308   \n",
       "2                       1178                               1000   \n",
       "3                         24                                 22   \n",
       "4                          2                                  2   \n",
       "\n",
       "   Number of genomes (near-complete)  Number of samples  \\\n",
       "0                                  1                  3   \n",
       "1                                120                308   \n",
       "2                                593               1003   \n",
       "3                                  8                 23   \n",
       "4                                  1                  2   \n",
       "\n",
       "                             Taxonomy lineage (GTDB)  \\\n",
       "0  d__Bacteria;p__Firmicutes_A;c__Clostridia;o__P...   \n",
       "1  d__Bacteria;p__Firmicutes_A;c__Clostridia;o__L...   \n",
       "2  d__Bacteria;p__Bacteroidota;c__Bacteroidia;o__...   \n",
       "3  d__Bacteria;p__Firmicutes_A;c__Clostridia;o__O...   \n",
       "4  d__Bacteria;p__Firmicutes_A;c__Clostridia;o__P...   \n",
       "\n",
       "                             Taxonomy lineage (NCBI)  \n",
       "0  d__Bacteria;p__Firmicutes;c__Clostridia;o__Clo...  \n",
       "1  d__Bacteria;p__Firmicutes;c__Clostridia;o__Clo...  \n",
       "2  d__Bacteria;p__Bacteroidetes;c__Bacteroidia;o_...  \n",
       "3  d__Bacteria;p__Firmicutes;c__Clostridia;o__Clo...  \n",
       "4  d__Bacteria;p__Firmicutes;c__Clostridia;o__Clo...  \n",
       "\n",
       "[5 rows x 26 columns]"
      ]
     },
     "execution_count": 3,
     "metadata": {},
     "output_type": "execute_result"
    }
   ],
   "source": [
    "meta_data.head()"
   ]
  },
  {
   "cell_type": "code",
   "execution_count": 4,
   "metadata": {},
   "outputs": [],
   "source": [
    "meta_data.sort_values('Number of genomes (near-complete)', ascending=False, inplace=True)"
   ]
  },
  {
   "cell_type": "code",
   "execution_count": 5,
   "metadata": {},
   "outputs": [],
   "source": [
    "top_species = meta_data.iloc[:100, -1].apply(lambda x: ' '.join(x.split(';')[-2:]))"
   ]
  },
  {
   "cell_type": "code",
   "execution_count": 8,
   "metadata": {},
   "outputs": [],
   "source": [
    "def find_species_row(meta_data, species_str):\n",
    "    mask = meta_data.iloc[:, -1].apply(lambda x: species_str in x)\n",
    "    return meta_data[mask]"
   ]
  },
  {
   "cell_type": "code",
   "execution_count": 21,
   "metadata": {},
   "outputs": [
    {
     "data": {
      "text/html": [
       "<div>\n",
       "<style scoped>\n",
       "    .dataframe tbody tr th:only-of-type {\n",
       "        vertical-align: middle;\n",
       "    }\n",
       "\n",
       "    .dataframe tbody tr th {\n",
       "        vertical-align: top;\n",
       "    }\n",
       "\n",
       "    .dataframe thead th {\n",
       "        text-align: right;\n",
       "    }\n",
       "</style>\n",
       "<table border=\"1\" class=\"dataframe\">\n",
       "  <thead>\n",
       "    <tr style=\"text-align: right;\">\n",
       "      <th></th>\n",
       "      <th>Species representative</th>\n",
       "      <th>MGnify accession</th>\n",
       "      <th>ENA accession</th>\n",
       "      <th>Status</th>\n",
       "      <th>Reference genes</th>\n",
       "      <th>Core genes1</th>\n",
       "      <th>% Core genes1</th>\n",
       "      <th>Accessory genes1</th>\n",
       "      <th>Pan-genome size1</th>\n",
       "      <th>Number of SNVs</th>\n",
       "      <th>...</th>\n",
       "      <th>Unnamed: 16</th>\n",
       "      <th>Unnamed: 17</th>\n",
       "      <th>Number of 97% ANI clusters</th>\n",
       "      <th>Number of 99% ANI clusters</th>\n",
       "      <th>Number of genomes (total)</th>\n",
       "      <th>Number of genomes (non-redundant)</th>\n",
       "      <th>Number of genomes (near-complete)</th>\n",
       "      <th>Number of samples</th>\n",
       "      <th>Taxonomy lineage (GTDB)</th>\n",
       "      <th>Taxonomy lineage (NCBI)</th>\n",
       "    </tr>\n",
       "  </thead>\n",
       "  <tbody>\n",
       "    <tr>\n",
       "      <th>2477</th>\n",
       "      <td>GUT_GENOME143505</td>\n",
       "      <td>MGYG-HGUT-02478</td>\n",
       "      <td>ERS3640508</td>\n",
       "      <td>Cultured (human gut)</td>\n",
       "      <td>4517</td>\n",
       "      <td>2259.0</td>\n",
       "      <td>50.01</td>\n",
       "      <td>192070.0</td>\n",
       "      <td>194329.0</td>\n",
       "      <td>842418.0</td>\n",
       "      <td>...</td>\n",
       "      <td>992</td>\n",
       "      <td>2343</td>\n",
       "      <td>276</td>\n",
       "      <td>2853</td>\n",
       "      <td>5750</td>\n",
       "      <td>3649</td>\n",
       "      <td>2090</td>\n",
       "      <td>3685</td>\n",
       "      <td>d__Bacteria;p__Bacteroidota;c__Bacteroidia;o__...</td>\n",
       "      <td>d__Bacteria;p__Bacteroidetes;c__Bacteroidia;o_...</td>\n",
       "    </tr>\n",
       "  </tbody>\n",
       "</table>\n",
       "<p>1 rows × 26 columns</p>\n",
       "</div>"
      ],
      "text/plain": [
       "     Species representative MGnify accession ENA accession  \\\n",
       "2477       GUT_GENOME143505  MGYG-HGUT-02478    ERS3640508   \n",
       "\n",
       "                    Status  Reference genes  Core genes1  % Core genes1  \\\n",
       "2477  Cultured (human gut)             4517       2259.0          50.01   \n",
       "\n",
       "      Accessory genes1  Pan-genome size1  Number of SNVs  ...  Unnamed: 16  \\\n",
       "2477          192070.0          194329.0        842418.0  ...          992   \n",
       "\n",
       "      Unnamed: 17  Number of 97% ANI clusters  Number of 99% ANI clusters  \\\n",
       "2477         2343                         276                        2853   \n",
       "\n",
       "      Number of genomes (total)  Number of genomes (non-redundant)  \\\n",
       "2477                       5750                               3649   \n",
       "\n",
       "      Number of genomes (near-complete)  Number of samples  \\\n",
       "2477                               2090               3685   \n",
       "\n",
       "                                Taxonomy lineage (GTDB)  \\\n",
       "2477  d__Bacteria;p__Bacteroidota;c__Bacteroidia;o__...   \n",
       "\n",
       "                                Taxonomy lineage (NCBI)  \n",
       "2477  d__Bacteria;p__Bacteroidetes;c__Bacteroidia;o_...  \n",
       "\n",
       "[1 rows x 26 columns]"
      ]
     },
     "execution_count": 21,
     "metadata": {},
     "output_type": "execute_result"
    }
   ],
   "source": [
    "# finding B. vulgatus (B. dorei)\n",
    "find_species_row(meta_data, 'dorei')"
   ]
  },
  {
   "cell_type": "code",
   "execution_count": 15,
   "metadata": {},
   "outputs": [],
   "source": [
    "row = find_species_row(meta_data, 'massiliensis')"
   ]
  },
  {
   "cell_type": "code",
   "execution_count": 15,
   "metadata": {},
   "outputs": [
    {
     "data": {
      "text/plain": [
       "2491    d__Bacteria;p__Firmicutes;c__Clostridia;o__Clo...\n",
       "Name: Taxonomy lineage (NCBI), dtype: object"
      ]
     },
     "execution_count": 15,
     "metadata": {},
     "output_type": "execute_result"
    }
   ],
   "source": [
    "row.iloc[:, -1]"
   ]
  },
  {
   "cell_type": "code",
   "execution_count": 22,
   "metadata": {},
   "outputs": [
    {
     "name": "stdout",
     "output_type": "stream",
     "text": [
      "E. rectale's accession is MGYG-HGUT-02492\n"
     ]
    }
   ],
   "source": [
    "mgnify_accession = find_species_row(meta_data, 'rectale')['MGnify accession'].squeeze()\n",
    "print(\"E. rectale's accession is {}\".format(mgnify_accession))"
   ]
  },
  {
   "cell_type": "code",
   "execution_count": 16,
   "metadata": {},
   "outputs": [],
   "source": [
    "def accession_to_species_name(accession):\n",
    "    row = meta_data[meta_data['MGnify accession']==accession]\n",
    "    return ';'.join(row['Taxonomy lineage (NCBI)'].item().split(';')[-2:])"
   ]
  },
  {
   "cell_type": "code",
   "execution_count": 17,
   "metadata": {},
   "outputs": [
    {
     "data": {
      "text/plain": [
       "'g__Ruminococcus;s__'"
      ]
     },
     "execution_count": 17,
     "metadata": {},
     "output_type": "execute_result"
    }
   ],
   "source": [
    "accession_to_species_name('MGYG-HGUT-02321')"
   ]
  },
  {
   "cell_type": "markdown",
   "metadata": {},
   "source": [
    "## Downloading ref genome data"
   ]
  },
  {
   "cell_type": "markdown",
   "metadata": {},
   "source": [
    "The '.faa' file is \"All predicted CDS\"\n",
    "\n",
    "'fna' file is the \"DNA sequence FASTA file of the genome assembly of the species representative\"\n",
    "\n",
    "A better way to download might be using the API, then we don't need to deal with the ftp address directly:\n",
    "\"https://www.ebi.ac.uk/metagenomics/api/v1/genomes/MGYG000000001/downloads/MGYG000000001.faa\"\n",
    "\n",
    "This is the same as using this website by hand:\n",
    "https://www.ebi.ac.uk/metagenomics/genomes/MGYG000000001#downloads\n",
    "\n",
    "However, these addresses are v2.0, so they have slightly different genome IDs: \"MGYG-HGUT-00001\" vs \"MGYG000000001\", for this reason I think we should download everything from the ftp address."
   ]
  },
  {
   "cell_type": "code",
   "execution_count": 11,
   "metadata": {},
   "outputs": [],
   "source": [
    "mgnify_accession = 'MGYG-HGUT-00001'"
   ]
  },
  {
   "cell_type": "markdown",
   "metadata": {},
   "source": [
    "### Download using API"
   ]
  },
  {
   "cell_type": "code",
   "execution_count": 13,
   "metadata": {},
   "outputs": [],
   "source": [
    "def accession_to_fileid(accession):\n",
    "    # reformatting the id\n",
    "    # my understanding is that we need to replace the HGUT part by 0000 and remove the -\n",
    "    items = accession.split('-')\n",
    "    return '0000'.join([items[0], items[-1]])\n",
    "\n",
    "fileid = accession_to_fileid(mgnify_accession)\n",
    "api_address = \"https://www.ebi.ac.uk/metagenomics/api/v1/genomes/{}/downloads/\".format(fileid)\n",
    "filename = \"{}.faa\".format(fileid)"
   ]
  },
  {
   "cell_type": "code",
   "execution_count": 14,
   "metadata": {},
   "outputs": [
    {
     "data": {
      "text/plain": [
       "'https://www.ebi.ac.uk/metagenomics/api/v1/genomes/MGYG000000001/downloads/MGYG000000001.faa'"
      ]
     },
     "execution_count": 14,
     "metadata": {},
     "output_type": "execute_result"
    }
   ],
   "source": [
    "api_address + filename"
   ]
  },
  {
   "cell_type": "code",
   "execution_count": 15,
   "metadata": {},
   "outputs": [],
   "source": [
    "import requests\n",
    "\n",
    "# download the sequence and the annotation\n",
    "filename = \"{}.faa\".format(fileid)\n",
    "r = requests.get(api_address + filename)\n",
    "open(filename, 'wb').write(r.content)\n",
    "\n",
    "filename = \"{}.fna\".format(fileid)\n",
    "r = requests.get(api_address + filename)\n",
    "open(filename, 'wb').write(r.content)"
   ]
  },
  {
   "cell_type": "markdown",
   "metadata": {},
   "source": [
    "### Download using ftp"
   ]
  },
  {
   "cell_type": "code",
   "execution_count": 19,
   "metadata": {},
   "outputs": [],
   "source": [
    "# the ftp address has an upper level folder that omits the last two number of the accession id\n",
    "ftp_base = \"http://ftp.ebi.ac.uk/pub/databases/metagenomics/mgnify_genomes/human-gut/v1.0/uhgg_catalogue/{}/{}/genome/\"\n",
    "ftp_address = ftp_base.format(mgnify_accession[:-2], mgnify_accession)"
   ]
  },
  {
   "cell_type": "code",
   "execution_count": 20,
   "metadata": {},
   "outputs": [
    {
     "name": "stdout",
     "output_type": "stream",
     "text": [
      "http://ftp.ebi.ac.uk/pub/databases/metagenomics/mgnify_genomes/human-gut/v1.0/uhgg_catalogue/MGYG-HGUT-000/MGYG-HGUT-00001/genome/\n"
     ]
    }
   ],
   "source": [
    "print(ftp_address)"
   ]
  },
  {
   "cell_type": "code",
   "execution_count": 21,
   "metadata": {},
   "outputs": [],
   "source": [
    "filename = \"/Volumes/Botein/uhgg/reference_genomes/{}.fna\".format(mgnify_accession)\n",
    "r = requests.get(ftp_address + '{}.fna'.format(mgnify_accession))\n",
    "open(filename, 'wb').write(r.content)"
   ]
  },
  {
   "cell_type": "markdown",
   "metadata": {},
   "source": [
    "## Now let's check the SNV table\n",
    "Let's verify that the reference genome makes sense"
   ]
  },
  {
   "cell_type": "code",
   "execution_count": 4,
   "metadata": {},
   "outputs": [],
   "source": [
    "# download the SNV table\n",
    "ftp_address = \"http://ftp.ebi.ac.uk/pub/databases/metagenomics/mgnify_genomes/human-gut/v1.0/snv_catalogue/\"\n",
    "mgnify_accession = 'MGYG-HGUT-00001'\n",
    "\n",
    "filename = \"{}.tsv.tar.lz4\".format(mgnify_accession)\n",
    "r = requests.get(ftp_address + filename)\n",
    "open(filename, 'wb').write(r.content)"
   ]
  },
  {
   "cell_type": "markdown",
   "metadata": {},
   "source": [
    "Decompress in bash using: \n",
    "```\n",
    "lz4 -dc < MGYG-HGUT-00001.tsv.tar.lz4 | tar xvf -\n",
    "```"
   ]
  },
  {
   "cell_type": "code",
   "execution_count": 5,
   "metadata": {},
   "outputs": [],
   "source": [
    "import pandas as pd\n",
    "snv_df = pd.read_csv('MGYG-HGUT-00001_snvs.tsv', delimiter='\\t')  # using the file uploaded to github repo"
   ]
  },
  {
   "cell_type": "code",
   "execution_count": 6,
   "metadata": {},
   "outputs": [
    {
     "data": {
      "text/html": [
       "<div>\n",
       "<style scoped>\n",
       "    .dataframe tbody tr th:only-of-type {\n",
       "        vertical-align: middle;\n",
       "    }\n",
       "\n",
       "    .dataframe tbody tr th {\n",
       "        vertical-align: top;\n",
       "    }\n",
       "\n",
       "    .dataframe thead th {\n",
       "        text-align: right;\n",
       "    }\n",
       "</style>\n",
       "<table border=\"1\" class=\"dataframe\">\n",
       "  <thead>\n",
       "    <tr style=\"text-align: right;\">\n",
       "      <th></th>\n",
       "      <th>Contig</th>\n",
       "      <th>Pos</th>\n",
       "      <th>Ref</th>\n",
       "      <th>Alt</th>\n",
       "      <th>GUT_GENOME091053</th>\n",
       "      <th>GUT_GENOME178957</th>\n",
       "      <th>GUT_GENOME212267</th>\n",
       "    </tr>\n",
       "  </thead>\n",
       "  <tbody>\n",
       "    <tr>\n",
       "      <th>0</th>\n",
       "      <td>GUT_GENOME000001_106</td>\n",
       "      <td>1002</td>\n",
       "      <td>C</td>\n",
       "      <td>T</td>\n",
       "      <td>1</td>\n",
       "      <td>1</td>\n",
       "      <td>1</td>\n",
       "    </tr>\n",
       "    <tr>\n",
       "      <th>1</th>\n",
       "      <td>GUT_GENOME000001_106</td>\n",
       "      <td>1020</td>\n",
       "      <td>T</td>\n",
       "      <td>C</td>\n",
       "      <td>1</td>\n",
       "      <td>1</td>\n",
       "      <td>1</td>\n",
       "    </tr>\n",
       "    <tr>\n",
       "      <th>2</th>\n",
       "      <td>GUT_GENOME000001_106</td>\n",
       "      <td>1023</td>\n",
       "      <td>C</td>\n",
       "      <td>T</td>\n",
       "      <td>1</td>\n",
       "      <td>1</td>\n",
       "      <td>1</td>\n",
       "    </tr>\n",
       "    <tr>\n",
       "      <th>3</th>\n",
       "      <td>GUT_GENOME000001_106</td>\n",
       "      <td>1211</td>\n",
       "      <td>A</td>\n",
       "      <td>G</td>\n",
       "      <td>1</td>\n",
       "      <td>1</td>\n",
       "      <td>1</td>\n",
       "    </tr>\n",
       "    <tr>\n",
       "      <th>4</th>\n",
       "      <td>GUT_GENOME000001_106</td>\n",
       "      <td>1213</td>\n",
       "      <td>T</td>\n",
       "      <td>G</td>\n",
       "      <td>1</td>\n",
       "      <td>1</td>\n",
       "      <td>1</td>\n",
       "    </tr>\n",
       "    <tr>\n",
       "      <th>5</th>\n",
       "      <td>GUT_GENOME000001_106</td>\n",
       "      <td>1217</td>\n",
       "      <td>T</td>\n",
       "      <td>G</td>\n",
       "      <td>1</td>\n",
       "      <td>1</td>\n",
       "      <td>1</td>\n",
       "    </tr>\n",
       "    <tr>\n",
       "      <th>6</th>\n",
       "      <td>GUT_GENOME000001_106</td>\n",
       "      <td>1236</td>\n",
       "      <td>A</td>\n",
       "      <td>G</td>\n",
       "      <td>1</td>\n",
       "      <td>1</td>\n",
       "      <td>1</td>\n",
       "    </tr>\n",
       "    <tr>\n",
       "      <th>7</th>\n",
       "      <td>GUT_GENOME000001_106</td>\n",
       "      <td>1263</td>\n",
       "      <td>C</td>\n",
       "      <td>T</td>\n",
       "      <td>1</td>\n",
       "      <td>1</td>\n",
       "      <td>1</td>\n",
       "    </tr>\n",
       "    <tr>\n",
       "      <th>8</th>\n",
       "      <td>GUT_GENOME000001_106</td>\n",
       "      <td>1288</td>\n",
       "      <td>T</td>\n",
       "      <td>C</td>\n",
       "      <td>1</td>\n",
       "      <td>1</td>\n",
       "      <td>1</td>\n",
       "    </tr>\n",
       "    <tr>\n",
       "      <th>9</th>\n",
       "      <td>GUT_GENOME000001_106</td>\n",
       "      <td>1302</td>\n",
       "      <td>C</td>\n",
       "      <td>A</td>\n",
       "      <td>1</td>\n",
       "      <td>1</td>\n",
       "      <td>1</td>\n",
       "    </tr>\n",
       "  </tbody>\n",
       "</table>\n",
       "</div>"
      ],
      "text/plain": [
       "                 Contig   Pos Ref Alt  GUT_GENOME091053  GUT_GENOME178957  \\\n",
       "0  GUT_GENOME000001_106  1002   C   T                 1                 1   \n",
       "1  GUT_GENOME000001_106  1020   T   C                 1                 1   \n",
       "2  GUT_GENOME000001_106  1023   C   T                 1                 1   \n",
       "3  GUT_GENOME000001_106  1211   A   G                 1                 1   \n",
       "4  GUT_GENOME000001_106  1213   T   G                 1                 1   \n",
       "5  GUT_GENOME000001_106  1217   T   G                 1                 1   \n",
       "6  GUT_GENOME000001_106  1236   A   G                 1                 1   \n",
       "7  GUT_GENOME000001_106  1263   C   T                 1                 1   \n",
       "8  GUT_GENOME000001_106  1288   T   C                 1                 1   \n",
       "9  GUT_GENOME000001_106  1302   C   A                 1                 1   \n",
       "\n",
       "   GUT_GENOME212267  \n",
       "0                 1  \n",
       "1                 1  \n",
       "2                 1  \n",
       "3                 1  \n",
       "4                 1  \n",
       "5                 1  \n",
       "6                 1  \n",
       "7                 1  \n",
       "8                 1  \n",
       "9                 1  "
      ]
     },
     "execution_count": 6,
     "metadata": {},
     "output_type": "execute_result"
    }
   ],
   "source": [
    "snv_df.head(10)"
   ]
  },
  {
   "cell_type": "code",
   "execution_count": 35,
   "metadata": {},
   "outputs": [],
   "source": [
    "# let's check the first contig\n",
    "desired_contig = snv_df.iloc[0, 0]"
   ]
  },
  {
   "cell_type": "code",
   "execution_count": 57,
   "metadata": {},
   "outputs": [],
   "source": [
    "from Bio import SeqIO\n",
    "\n",
    "# parsing the fasta file for ref seqeunce\n",
    "# input_file = \"{}.fna\".format(mgnify_accession)\n",
    "filename = \"/Volumes/Botein/uhgg/reference_genomes/{}.fna\".format(mgnify_accession)\n",
    "input_file = filename\n",
    "fasta_sequences = SeqIO.parse(open(input_file),'fasta')"
   ]
  },
  {
   "cell_type": "code",
   "execution_count": 58,
   "metadata": {},
   "outputs": [
    {
     "name": "stdout",
     "output_type": "stream",
     "text": [
      "1\n"
     ]
    }
   ],
   "source": [
    "all_records = []\n",
    "for record in fasta_sequences:\n",
    "    if record.id==desired_contig:\n",
    "        desired_record = record\n",
    "    all_records.append(record)\n",
    "print(len(all_records))"
   ]
  },
  {
   "cell_type": "code",
   "execution_count": 47,
   "metadata": {},
   "outputs": [],
   "source": [
    "contigs = [record.id for record in records]\n",
    "seqs = [record.seq for record in records]"
   ]
  },
  {
   "cell_type": "code",
   "execution_count": 49,
   "metadata": {},
   "outputs": [],
   "source": [
    "contig_seq_map = dict(zip(contigs, seqs))"
   ]
  },
  {
   "cell_type": "code",
   "execution_count": 44,
   "metadata": {},
   "outputs": [
    {
     "name": "stdout",
     "output_type": "stream",
     "text": [
      "CCTAAAAATTTTATAATTTCGTTAGGCTTGTTTGCCATGCAAATTTTTAAAAATATGAAACTTAATTTAACCTATCGGTTTATTTATCAATTCGAGAATAATTCTCATCATATCTAATTAACAAAACCTAACTAAATATTTATTAATTCTAATCTTAAATCATTTAATATTGTCTTTGTTGCTCTTAATCTTATTTGCTGTCTATTTCCATTAAATACGTATCTCTTTACTATTATCTTTCCATTTATACAAATCCCAAAATATACCAAACCAACTGGTTTTTCTTCACTTCCACCTTCTGGTCCTGCTATTCCTGTTGTTGATAGCCCTATATTGGTATTATGCCTTTTAGCTATACCTTCTGCCATTTCTCTAGCTGTTTCCTCACTAACTGCTCCAAACTTATCTAGAGTTTCTTTTTTCACACCTAAAGATTTCATCTTAGCTTCATTGGAATAAGTTACACAACCTTCCATAAAAACAGATGAAATTCCTGGATAATTTATAAGGTGAGATGATACCATTCCTCCTGTACATGATTCTGCTACACTTATAGTTAAATTTTTATTAACTAAAATCTCAGCAACAGTATCTTCTAATGAAATATCACCCTCTGAATATATGTAACTTCCTACTCTATCTTGAATTTTATGTACAACTGGATTTATTAAATTAATAGCTTCTTCTTTACTAGTAGCTTTTGCTGTAATTCTTAAAGTTACTTCCGTGTCCTTTGCATATGGAGCTACAGTTGGATTTGATTGTTCTTTTATTATATCTATTATCTCTTCTTCTAAAGAAGATTCACCAATTCCATAGAATCTAAGAGTTTTAGAAACCAAAATTTCATTTGTTAAATTTTTTAAATATGGCTTAACATTTTCTTCGAACATTGGCTTCATTTCTCTTGGTGGGCCTGGTAATACTATTATTGTTTTTTTTCCTTTTCTTAAAATTGCTCCTGGTGCTGTACCATTGTTATTTTCAAGTATTATTGCATCCTTCGGAAAGTATGCTTGTTTCTTGTTATTCTCAGTTGGTACTCTTCCTAATTTATTAAAATATATTTCTATCTTATTCCATGATTTTTCATCAAGTACTAATTCTTGATTAAAAAACTTAGCTGCAGTTTCTTTCGTTAAATCATCTTTAGTTGGACCAAGTCCTCCTGTAGTTATTACCATATCACTTCTATTTAAACTTTCTTCAAAATACTTTAATAATCTTTCCTCATTATCTCCCACAGTTCCTTGATAATACACCTCGACTCCTAAATCAGCTAATTCTTTTGCCAAGTATTGCGAGTTTGTATTTACTATATCTCCTAAAAGAATTTCTGTTCCTACAGTTATAATTTCTGCTCTCATTGTCATTCACCCCTTCAATAATAATGTTTACCATATACATAATTTTGATGTATTTTTATATCTAAATATCTTTATATAAAACAAAAGGGCATATTTCGAATATATTTAGTTTATCTCAGAAGAAAGATAGAAAATATAAATTTTCTACCAGCTCCTCTAAATAAACTAACCTATCCGAAACAGCCCATTTTCATTGGAGGCGACACCCAGATTCGAACTGGGGATCAAAGAGTTGCAGTCCACTGCCTTACCACTTGGCTATGTCGCCTTATTGATTACAAGTAAATTATATATATCTTTGGTAATTTGTGCAACATAATTAATAAATATACTTAAAAATTTTATTTATAATCTCAACCACTCCACTCATAAACTTATAAAGTAGTGGTACTTTCAGTTCAAATATTAATTCAATATAATTAACTATATGAAAAAACATAGAAAATAAAATCGTCAATTTAATTTGAAGATTTAATAAATAGGTTTTGTTAATTAGATATGATGAGAATTATTCTCGAATTGATAAATAAACCGATAGGTTAAATTAAGTTTCATATTTTTAAAAATTTGCATGGCAAACAAGCCTAACGAAATTATAAAATTTTTAGG\n",
      "Contig length: 1976\n"
     ]
    }
   ],
   "source": [
    "print(desired_record.seq)\n",
    "print(\"Contig length: {}\".format(len(desired_record.seq)))"
   ]
  },
  {
   "cell_type": "code",
   "execution_count": 25,
   "metadata": {},
   "outputs": [
    {
     "name": "stdout",
     "output_type": "stream",
     "text": [
      "Downloaded ref, SNV table ref\n",
      "('C', 'C')\n",
      "('T', 'T')\n",
      "('C', 'C')\n",
      "('A', 'A')\n",
      "('T', 'T')\n",
      "('T', 'T')\n",
      "('A', 'A')\n",
      "('C', 'C')\n",
      "('T', 'T')\n",
      "('C', 'C')\n",
      "('A', 'A')\n",
      "('C', 'C')\n",
      "('C', 'C')\n",
      "('A', 'A')\n",
      "('T', 'T')\n",
      "('C', 'C')\n",
      "('A', 'A')\n",
      "('T', 'T')\n",
      "('A', 'A')\n",
      "('A', 'A')\n"
     ]
    }
   ],
   "source": [
    "print(\"Downloaded ref, SNV table ref\")\n",
    "for _, row in snv_df.head(20).iterrows():\n",
    "    # remember to change contig position to str index by subtracting 1 !!!\n",
    "    # took me a while to realize this !!!\n",
    "    print(desired_record.seq[int(row['Pos'])-1], row['Ref'])"
   ]
  },
  {
   "cell_type": "code",
   "execution_count": 85,
   "metadata": {},
   "outputs": [],
   "source": [
    "# check for E. rectale\n",
    "gene_id = 14\n",
    "snv_df = pd.read_csv('/Volumes/Botein/uhgg/{}/{}-{}.tsv'.format(mgnify_accession, contig, gene_id), delimiter='\\t', header=None)\n",
    "snv_df.columns = header.split('\\t')"
   ]
  },
  {
   "cell_type": "code",
   "execution_count": 92,
   "metadata": {},
   "outputs": [],
   "source": [
    "for gene_id in range(100):\n",
    "    snv_df = pd.read_csv('/Volumes/Botein/uhgg/{}/{}-{}.tsv'.format(mgnify_accession, contig, gene_id), delimiter='\\t', header=None)\n",
    "    snv_df.columns = header.split('\\t')\n",
    "    for _, row in snv_df.iterrows():\n",
    "        # remember to change contig position to str index by subtracting 1 !!!\n",
    "        # took me a while to realize this !!!\n",
    "        contig = row['Contig']\n",
    "        ref_allele = seq[int(row['Pos'])-1]\n",
    "        snv_table_allele = row['Ref']\n",
    "        if ref_allele != snv_table_allele:\n",
    "            print(row)"
   ]
  },
  {
   "cell_type": "markdown",
   "metadata": {},
   "source": [
    "Now that we have checked that the reference sequence is indeed what's reported in the SNV table, the next step should be parsing the gene annotations."
   ]
  },
  {
   "cell_type": "markdown",
   "metadata": {},
   "source": [
    "## Processing the SNV tables\n",
    "First step: split the SNV table by gene"
   ]
  },
  {
   "cell_type": "code",
   "execution_count": 31,
   "metadata": {},
   "outputs": [],
   "source": [
    "import sys\n",
    "sys.path.append('..')\n",
    "import UHGG_utils"
   ]
  },
  {
   "cell_type": "code",
   "execution_count": 4,
   "metadata": {},
   "outputs": [],
   "source": [
    "snvs_path = '/Volumes/Botein/uhgg/MGYG-HGUT-00001_snvs.tsv'\n",
    "grouped_snvs_base = '/Volumes/Botein/uhgg/MGYG-HGUT-00001/'  # make sure to start with an empty folder\n",
    "gene_df = UHGG_utils.gff_to_df('/Volumes/Botein/uhgg/MGYG-HGUT-00001.gff')"
   ]
  },
  {
   "cell_type": "code",
   "execution_count": null,
   "metadata": {},
   "outputs": [],
   "source": [
    "UHGG_utils.process_SNVs_table(snvs_path, gene_df, grouped_snvs_base)"
   ]
  },
  {
   "cell_type": "markdown",
   "metadata": {},
   "source": [
    "Second step: process each individual genes and compute all pairwise counts\n",
    "I've done the above for the bigger table of E. rectale"
   ]
  },
  {
   "cell_type": "code",
   "execution_count": 54,
   "metadata": {},
   "outputs": [
    {
     "name": "stdout",
     "output_type": "stream",
     "text": [
      "\n"
     ]
    }
   ],
   "source": [
    "mgnify_accession = 'MGYG-HGUT-02492'"
   ]
  },
  {
   "cell_type": "code",
   "execution_count": 55,
   "metadata": {},
   "outputs": [
    {
     "data": {
      "text/plain": [
       "<module 'UHGG_utils' from '../UHGG_utils.pyc'>"
      ]
     },
     "execution_count": 55,
     "metadata": {},
     "output_type": "execute_result"
    }
   ],
   "source": [
    "reload(UHGG_utils)"
   ]
  },
  {
   "cell_type": "code",
   "execution_count": 56,
   "metadata": {},
   "outputs": [
    {
     "name": "stderr",
     "output_type": "stream",
     "text": [
      "/Users/Device6/.pyenv/versions/microbiome/lib/python2.7/site-packages/IPython/core/interactiveshell.py:2714: DtypeWarning: Columns (15) have mixed types. Specify dtype option on import or set low_memory=False.\n",
      "  interactivity=interactivity, compiler=compiler, result=result)\n"
     ]
    }
   ],
   "source": [
    "snvs_path = '/Volumes/Botein/uhgg/MGYG-HGUT-02492_snvs.tsv'\n",
    "grouped_snvs_base = '/Volumes/Botein/uhgg/MGYG-HGUT-02492/'  # make sure to start with an empty folder\n",
    "gene_df = UHGG_utils.gff_to_df('/Volumes/Botein/uhgg/MGYG-HGUT-02492.gff')\n",
    "gene_df = gene_df.set_index('Gene ID')\n",
    "genomes_metadata = pd.read_csv('/Volumes/Botein/uhgg/genomes-nr_metadata.tsv', delimiter='\\t')"
   ]
  },
  {
   "cell_type": "code",
   "execution_count": 64,
   "metadata": {},
   "outputs": [],
   "source": [
    "# load the header that contains all the sample names\n",
    "header = UHGG_utils.get_SNVs_table_header(snvs_path)\n",
    "genome_names = UHGG_utils.get_genome_names_from_table_header(header)\n",
    "genome_mask = UHGG_utils.get_non_redundant_genome_mask(genomes_metadata, mgnify_accession, genome_names)"
   ]
  },
  {
   "cell_type": "code",
   "execution_count": 12,
   "metadata": {},
   "outputs": [
    {
     "data": {
      "text/plain": [
       "<module 'UHGG_utils' from '../UHGG_utils.py'>"
      ]
     },
     "execution_count": 12,
     "metadata": {},
     "output_type": "execute_result"
    }
   ],
   "source": [
    "reload(UHGG_utils)"
   ]
  },
  {
   "cell_type": "code",
   "execution_count": 13,
   "metadata": {},
   "outputs": [],
   "source": [
    "core_genes = UHGG_utils.load_core_genes(mgnify_accession)"
   ]
  },
  {
   "cell_type": "code",
   "execution_count": 19,
   "metadata": {},
   "outputs": [],
   "source": [
    "core_genes = [int(x) for x in core_genes]"
   ]
  },
  {
   "cell_type": "code",
   "execution_count": 25,
   "metadata": {},
   "outputs": [
    {
     "name": "stdout",
     "output_type": "stream",
     "text": [
      "Finished 0 at 21:50:12\n",
      "Finished 100 at 21:52:57\n",
      "Finished 200 at 21:54:29\n",
      "Finished 300 at 21:56:39\n",
      "Finished 400 at 22:01:37\n",
      "Finished 500 at 22:09:19\n",
      "Finished 600 at 22:17:17\n",
      "Finished 700 at 22:23:00\n",
      "Finished 800 at 22:28:55\n",
      "Finished 900 at 22:34:25\n",
      "Finished 1000 at 22:39:02\n",
      "Finished 1100 at 22:39:02\n",
      "Finished 1200 at 22:42:24\n",
      "Finished 1300 at 22:49:35\n",
      "Finished 1400 at 22:55:22\n",
      "Finished 1500 at 22:58:46\n",
      "Finished 1600 at 23:02:50\n",
      "Finished 1700 at 23:04:04\n",
      "Finished 1800 at 23:05:40\n",
      "Finished 1900 at 23:08:17\n",
      "Finished 2000 at 23:11:44\n",
      "Finished 2100 at 23:12:48\n",
      "Finished 2200 at 23:13:47\n",
      "Finished 2300 at 23:15:19\n",
      "Finished 2400 at 23:16:19\n",
      "Finished 2500 at 23:16:19\n",
      "Finished 2600 at 23:16:31\n",
      "Finished 2700 at 23:16:31\n",
      "Finished 2800 at 23:19:04\n",
      "Finished 2900 at 23:24:44\n",
      "Finished 3000 at 23:25:11\n",
      "Finished 3100 at 23:29:29\n",
      "Finished 3200 at 23:30:29\n",
      "Finished 3300 at 23:32:22\n",
      "Finished 3400 at 23:36:23\n",
      "Finished 3429 at 23:38:44\n"
     ]
    }
   ],
   "source": [
    "from datetime import datetime\n",
    "gene_files = os.listdir(grouped_snvs_base)\n",
    "\n",
    "output_path = '/Volumes/Botein/uhgg/E_rectale_site_pairs_083022.txt'\n",
    "with open(output_path, 'w') as f:\n",
    "    f.write(' '.join(('n11', 'n10', 'n01', 'n00', 'ell')) + '\\n')\n",
    "\n",
    "processed = 0\n",
    "\n",
    "for gene_file in gene_files:\n",
    "    gene_file_path = grouped_snvs_base + gene_file\n",
    "    items = gene_file.split('.')[0].split('-')\n",
    "    gene_id = int(items[-1])\n",
    "    contig = items[0]\n",
    "    if processed % 100 == 0:\n",
    "        now = datetime.now()\n",
    "        current_time = now.strftime(\"%H:%M:%S\")\n",
    "        print(\"Finished {} at {}\".format(processed, current_time))\n",
    "    processed += 1\n",
    "    if gene_df.loc[gene_id, 'Type'] != 'CDS':\n",
    "        continue\n",
    "    elif gene_id not in core_genes:\n",
    "        continue\n",
    "    UHGG_utils.process_SNV_table_single_gene(mgnify_accession, header, genomes_metadata, gene_file_path, contig, gene_id, output_path)\n",
    "\n",
    "now = datetime.now()\n",
    "current_time = now.strftime(\"%H:%M:%S\")\n",
    "print(\"Finished {} at {}\".format(processed, current_time))"
   ]
  },
  {
   "cell_type": "code",
   "execution_count": 64,
   "metadata": {},
   "outputs": [
    {
     "data": {
      "text/plain": [
       "<module 'UHGG_utils' from '../UHGG_utils.py'>"
      ]
     },
     "execution_count": 64,
     "metadata": {},
     "output_type": "execute_result"
    }
   ],
   "source": [
    "reload(UHGG_utils)"
   ]
  },
  {
   "cell_type": "code",
   "execution_count": 65,
   "metadata": {},
   "outputs": [
    {
     "name": "stdout",
     "output_type": "stream",
     "text": [
      "Finished 0 at 11:09:36\n",
      "Finished 100 at 11:18:08\n",
      "Finished 200 at 11:27:33\n",
      "Finished 300 at 11:37:04\n",
      "Finished 400 at 11:46:45\n",
      "Finished 500 at 11:56:57\n",
      "Finished 600 at 12:07:07\n",
      "Finished 700 at 12:15:20\n",
      "Finished 800 at 12:23:30\n",
      "Finished 900 at 12:31:54\n",
      "Finished 999 at 12:40:47\n"
     ]
    }
   ],
   "source": [
    "# now process pairs of random genes\n",
    "gene_files = os.listdir(grouped_snvs_base)\n",
    "\n",
    "output_path = '/Volumes/Botein/uhgg/E_rectale_site_pairs_083022.txt'\n",
    "n_pairs = 1000\n",
    "for i in range(n_pairs):\n",
    "    gene1, gene2 = UHGG_utils.sample_random_pair_of_genes(gene_files, core_genes, gene_df)\n",
    "    gene_file_path1 = grouped_snvs_base + gene1\n",
    "    gene_file_path2 = grouped_snvs_base + gene2\n",
    "    if i % 100 == 0:\n",
    "        now = datetime.now()\n",
    "        current_time = now.strftime(\"%H:%M:%S\")\n",
    "        print(\"Finished {} at {}\".format(i, current_time))\n",
    "    UHGG_utils.process_SNV_table_between_genes(gene_file_path1, gene_file_path2, genome_mask, output_path)\n",
    "\n",
    "now = datetime.now()\n",
    "current_time = now.strftime(\"%H:%M:%S\")\n",
    "print(\"Finished {} at {}\".format(i, current_time))"
   ]
  },
  {
   "cell_type": "markdown",
   "metadata": {},
   "source": [
    "Use the below codes to load the final results and resave into a numpy binary format for faster future loading"
   ]
  },
  {
   "cell_type": "code",
   "execution_count": 66,
   "metadata": {},
   "outputs": [],
   "source": [
    "# very slow to parse the csv using np; slightly faster if using pandas; best to resave into binary format like npy!\n",
    "output_path = '/Volumes/Botein/uhgg/E_rectale_site_pairs_083022.txt'\n",
    "res = pd.read_csv(output_path, delimiter=' ')"
   ]
  },
  {
   "cell_type": "code",
   "execution_count": 67,
   "metadata": {},
   "outputs": [],
   "source": [
    "res = res.to_numpy()"
   ]
  },
  {
   "cell_type": "code",
   "execution_count": 68,
   "metadata": {},
   "outputs": [],
   "source": [
    "np.save('/Volumes/Botein/uhgg/E_rectale_site_pairs_083022', res)"
   ]
  },
  {
   "cell_type": "code",
   "execution_count": 4,
   "metadata": {},
   "outputs": [
    {
     "name": "stdout",
     "output_type": "stream",
     "text": [
      "CPU times: user 2.32 ms, sys: 6.52 s, total: 6.52 s\n",
      "Wall time: 10.8 s\n"
     ]
    }
   ],
   "source": [
    "%%time\n",
    "res = np.load('/Volumes/Botein/uhgg/E_rectale_site_pairs.npy')"
   ]
  },
  {
   "cell_type": "markdown",
   "metadata": {},
   "source": [
    "## Converting Ben's data"
   ]
  },
  {
   "cell_type": "code",
   "execution_count": 1,
   "metadata": {},
   "outputs": [
    {
     "name": "stdout",
     "output_type": "stream",
     "text": [
      "Loading data...\n",
      "CPU times: user 2min 30s, sys: 5.71 s, total: 2min 36s\n",
      "Wall time: 2min 44s\n"
     ]
    }
   ],
   "source": [
    "%%time\n",
    "import gzip\n",
    "file = gzip.GzipFile('../erectale_snv_pairs.txt.gz',\"r\")\n",
    "\n",
    "\n",
    "file.readline() # header\n",
    "\n",
    "n11s = []\n",
    "n10s = []\n",
    "n01s = []\n",
    "n00s = []\n",
    "ells = []\n",
    "print \"Loading data...\"\n",
    "for line in file:\n",
    "    \n",
    "    items = line.split()\n",
    "    n11 = long(items[0])\n",
    "    n10 = long(items[1])\n",
    "    n01 = long(items[2])\n",
    "    n00 = long(items[3])\n",
    "    ell = long(items[4])\n",
    "\n",
    "    n11s.append(n11)\n",
    "    n10s.append(n10)\n",
    "    n01s.append(n01)\n",
    "    n00s.append(n00)\n",
    "    ells.append(ell)\n",
    "\n",
    "file.close()"
   ]
  },
  {
   "cell_type": "code",
   "execution_count": null,
   "metadata": {},
   "outputs": [],
   "source": [
    "import sys\n",
    "sys.sizeof(n11s)"
   ]
  },
  {
   "cell_type": "code",
   "execution_count": null,
   "metadata": {},
   "outputs": [],
   "source": [
    "import numpy\n",
    "n11s =numpy.array(n11s)*1.0\n",
    "n10s = numpy.array(n10s)*1.0\n",
    "n01s = numpy.array(n01s)*1.0\n",
    "n00s = numpy.array(n00s)*1.0\n",
    "ntots = n11s+n10s+n01s+n00s\n",
    "ells = numpy.array(ells)"
   ]
  },
  {
   "cell_type": "code",
   "execution_count": null,
   "metadata": {},
   "outputs": [],
   "source": [
    "ns = np.concatenate([n11s, n10s, n01s, n00s, ells])"
   ]
  },
  {
   "cell_type": "markdown",
   "metadata": {},
   "source": [
    "## Scratch space"
   ]
  },
  {
   "cell_type": "code",
   "execution_count": 6,
   "metadata": {},
   "outputs": [],
   "source": [
    "gene_files = os.listdir(grouped_snvs_base)"
   ]
  },
  {
   "cell_type": "code",
   "execution_count": 53,
   "metadata": {},
   "outputs": [
    {
     "ename": "NameError",
     "evalue": "name 'snvs_path' is not defined",
     "output_type": "error",
     "traceback": [
      "\u001b[0;31m---------------------------------------------------------------------------\u001b[0m",
      "\u001b[0;31mNameError\u001b[0m                                 Traceback (most recent call last)",
      "\u001b[0;32m<ipython-input-53-9fa6bb609390>\u001b[0m in \u001b[0;36m<module>\u001b[0;34m()\u001b[0m\n\u001b[1;32m      1\u001b[0m \u001b[0mmgnify_accession\u001b[0m \u001b[0;34m=\u001b[0m \u001b[0;34m'MGYG-HGUT-02492'\u001b[0m\u001b[0;34m\u001b[0m\u001b[0m\n\u001b[1;32m      2\u001b[0m \u001b[0mspecies_accession\u001b[0m \u001b[0;34m=\u001b[0m \u001b[0mmgnify_accession\u001b[0m\u001b[0;34m\u001b[0m\u001b[0m\n\u001b[0;32m----> 3\u001b[0;31m \u001b[0mheader\u001b[0m \u001b[0;34m=\u001b[0m \u001b[0mUHGG_utils\u001b[0m\u001b[0;34m.\u001b[0m\u001b[0mget_SNVs_table_header\u001b[0m\u001b[0;34m(\u001b[0m\u001b[0msnvs_path\u001b[0m\u001b[0;34m)\u001b[0m\u001b[0;34m\u001b[0m\u001b[0m\n\u001b[0m\u001b[1;32m      4\u001b[0m \u001b[0mgenome_names\u001b[0m \u001b[0;34m=\u001b[0m \u001b[0mheader\u001b[0m\u001b[0;34m.\u001b[0m\u001b[0msplit\u001b[0m\u001b[0;34m(\u001b[0m\u001b[0;34m'\\t'\u001b[0m\u001b[0;34m)\u001b[0m\u001b[0;34m[\u001b[0m\u001b[0;36m4\u001b[0m\u001b[0;34m:\u001b[0m\u001b[0;34m]\u001b[0m\u001b[0;34m\u001b[0m\u001b[0m\n\u001b[1;32m      5\u001b[0m \u001b[0mgenome_mask\u001b[0m \u001b[0;34m=\u001b[0m \u001b[0mUHGG_utils\u001b[0m\u001b[0;34m.\u001b[0m\u001b[0mget_non_redundant_genome_mask\u001b[0m\u001b[0;34m(\u001b[0m\u001b[0mgenomes_metadata\u001b[0m\u001b[0;34m,\u001b[0m \u001b[0mspecies_accession\u001b[0m\u001b[0;34m,\u001b[0m \u001b[0mgenome_names\u001b[0m\u001b[0;34m)\u001b[0m\u001b[0;34m\u001b[0m\u001b[0m\n",
      "\u001b[0;31mNameError\u001b[0m: name 'snvs_path' is not defined"
     ]
    }
   ],
   "source": [
    "mgnify_accession = 'MGYG-HGUT-02492'\n",
    "species_accession = mgnify_accession\n",
    "header = UHGG_utils.get_SNVs_table_header(snvs_path)\n",
    "genome_names = header.split('\\t')[4:]\n",
    "genome_mask = UHGG_utils.get_non_redundant_genome_mask(genomes_metadata, species_accession, genome_names)\n",
    "num_genomes = genome_mask.sum()"
   ]
  },
  {
   "cell_type": "code",
   "execution_count": 46,
   "metadata": {},
   "outputs": [],
   "source": [
    "cumu_pair_snvs = np.zeros((num_genomes, num_genomes))\n",
    "cumu_pair_passed = np.zeros((num_genomes, num_genomes))\n",
    "cumu_diff_genes = np.zeros((num_genomes, num_genomes))\n",
    "cumu_passed_genes = np.zeros((num_genomes, num_genomes))"
   ]
  },
  {
   "cell_type": "code",
   "execution_count": 61,
   "metadata": {},
   "outputs": [
    {
     "name": "stdout",
     "output_type": "stream",
     "text": [
      "Finished 0 at 13:58:12\n",
      "Finished 10 at 14:00:29\n",
      "Finished 20 at 14:02:55\n",
      "Finished 30 at 14:05:15\n",
      "Finished 40 at 14:07:00\n",
      "Finished 50 at 14:09:20\n",
      "Finished 60 at 14:11:40\n",
      "Finished 70 at 14:14:44\n",
      "Finished 80 at 14:17:33\n",
      "Finished 90 at 14:20:05\n",
      "Finished 100 at 14:22:26\n",
      "Finished 110 at 14:24:28\n",
      "Finished 120 at 14:26:40\n",
      "Finished 130 at 14:28:42\n",
      "Finished 140 at 14:30:31\n",
      "Finished 150 at 14:32:47\n",
      "Finished 160 at 14:35:27\n",
      "Finished 170 at 14:38:45\n",
      "Finished 180 at 14:42:35\n",
      "Finished 190 at 14:45:52\n",
      "Finished 200 at 14:48:19\n",
      "Finished 210 at 14:50:43\n",
      "Finished 220 at 14:53:09\n",
      "Finished 230 at 14:55:04\n",
      "Finished 240 at 14:57:18\n",
      "Finished 250 at 14:59:25\n",
      "Finished 260 at 15:01:34\n",
      "Finished 270 at 15:03:52\n",
      "Finished 280 at 15:05:26\n",
      "Finished 290 at 15:07:41\n",
      "Finished 300 at 15:10:28\n",
      "Finished 310 at 15:12:50\n",
      "Finished 320 at 15:15:12\n",
      "Finished 330 at 15:18:17\n",
      "Finished 340 at 15:21:06\n",
      "Finished 350 at 15:23:16\n",
      "Finished 360 at 15:26:11\n",
      "Finished 370 at 15:28:02\n",
      "Finished 380 at 15:30:44\n",
      "Finished 390 at 15:33:05\n",
      "Finished 400 at 15:35:33\n",
      "Finished 410 at 15:37:33\n",
      "Finished 420 at 15:40:01\n",
      "Finished 430 at 15:42:01\n",
      "Finished 440 at 15:44:52\n",
      "Finished 450 at 15:47:05\n",
      "Finished 460 at 15:49:51\n",
      "Finished 470 at 15:52:42\n",
      "Finished 480 at 15:54:44\n",
      "Finished 490 at 15:56:59\n",
      "Finished 500 at 15:59:04\n",
      "Finished 510 at 16:00:49\n",
      "Finished 520 at 16:03:04\n",
      "Finished 530 at 16:05:26\n",
      "Finished 540 at 16:08:21\n",
      "Finished 550 at 16:11:03\n",
      "Finished 560 at 16:13:48\n",
      "Finished 570 at 16:16:11\n",
      "Finished 580 at 16:18:38\n",
      "Finished 590 at 16:21:50\n",
      "Finished 600 at 16:23:58\n",
      "Finished 610 at 16:26:25\n",
      "Finished 620 at 16:28:46\n",
      "Finished 630 at 16:31:35\n",
      "Finished 640 at 16:33:48\n",
      "Finished 650 at 16:36:44\n",
      "Finished 660 at 16:39:06\n",
      "Finished 670 at 16:41:19\n",
      "Finished 680 at 16:43:26\n",
      "Finished 690 at 16:46:00\n",
      "Finished 700 at 16:48:05\n",
      "Finished 710 at 16:50:39\n",
      "Finished 720 at 16:53:13\n",
      "Finished 730 at 16:56:22\n",
      "Finished 740 at 16:59:04\n",
      "Finished 750 at 17:01:40\n",
      "Finished 760 at 17:04:37\n",
      "Finished 770 at 17:07:05\n",
      "Finished 780 at 17:08:59\n",
      "Finished 790 at 17:11:59\n",
      "Finished 800 at 17:14:40\n",
      "Finished 810 at 17:16:46\n",
      "Finished 820 at 17:18:32\n",
      "Finished 830 at 17:20:19\n",
      "Finished 840 at 17:22:22\n",
      "Finished 850 at 17:24:06\n",
      "Finished 860 at 17:25:47\n",
      "Finished 870 at 17:28:16\n",
      "Finished 880 at 17:30:40\n",
      "Finished 890 at 17:32:53\n",
      "Finished 900 at 17:35:19\n",
      "Finished 910 at 17:37:11\n",
      "Finished 920 at 17:39:36\n",
      "Finished 930 at 17:42:27\n",
      "Finished 940 at 17:44:03\n",
      "Finished 950 at 17:46:28\n",
      "Finished 960 at 17:48:32\n",
      "Finished 970 at 17:50:16\n",
      "Finished 980 at 17:52:08\n",
      "Finished 990 at 17:54:02\n",
      "Finished 1000 at 17:55:55\n",
      "Finished 1010 at 17:57:41\n",
      "Finished 1020 at 18:00:12\n",
      "Finished 1030 at 18:01:56\n",
      "Finished 1040 at 18:03:53\n",
      "Finished 1050 at 18:05:58\n",
      "Finished 1060 at 18:07:57\n",
      "Finished 1070 at 18:09:47\n",
      "Finished 1080 at 18:11:17\n",
      "Finished 1090 at 18:13:48\n",
      "Finished 1100 at 18:15:53\n",
      "Finished 1110 at 18:19:20\n"
     ]
    }
   ],
   "source": [
    "# script to compute pairwise distance\n",
    "from datetime import datetime\n",
    "processed = 0\n",
    "total_sites = 0\n",
    "\n",
    "for gene_file in gene_files:\n",
    "    gene_file_path = grouped_snvs_base + gene_file\n",
    "    items = gene_file.split('.')[0].split('-')\n",
    "    gene_id = int(items[-1])  # this gene id is assigned by us according to the reference genome's annotation order\n",
    "    contig = items[0]\n",
    "    if gene_df.loc[gene_id, 'Type'] != 'CDS':\n",
    "        continue\n",
    "    elif str(gene_id) not in species_core_genes:\n",
    "        # check if gene is a \"core gene\"\n",
    "        continue\n",
    "    \n",
    "    # load SNV table\n",
    "    dat = pd.read_csv(gene_file_path, delimiter='\\t', header=None)\n",
    "    dat.columns = header.split('\\t')\n",
    "    dat.sort_values('Pos', inplace=True)\n",
    "\n",
    "    # filtering sites with more than two alleles\n",
    "    biallelic_dat = dat.groupby('Pos').filter(lambda x: x.shape[0] == 1)\n",
    "\n",
    "    # converting to numpy array for faster arithmetics\n",
    "    snvs = biallelic_dat.iloc[:, 4:].astype(int).to_numpy()\n",
    "    snvs = snvs[:, genome_mask]\n",
    "\n",
    "    zeros = (snvs == 0).astype(int)\n",
    "    ones = (snvs == 1).astype(int)\n",
    "    covered = (snvs != 255).astype(int)\n",
    "    \n",
    "    pair_snvs = np.dot(zeros.T, ones)  # using dot product to count the number of sites that are different\n",
    "    pair_snvs = pair_snvs + pair_snvs.T\n",
    "    pair_passed = np.dot(covered.T, covered)\n",
    "    \n",
    "    total_sites += snvs.shape[0]\n",
    "    cumu_pair_snvs += pair_snvs\n",
    "    cumu_pair_passed += pair_passed  # record the number of covered sites between a pair\n",
    "    cumu_diff_genes += pair_snvs > 0  # record if a pair has non identical genes\n",
    "    cumu_passed_genes += pair_passed > 0 # record if a gene has any covered sites between a pair\n",
    "    \n",
    "    if processed % 10 == 0:\n",
    "        now = datetime.now()\n",
    "        current_time = now.strftime(\"%H:%M:%S\")\n",
    "        print(\"Finished {} at {}\".format(processed, current_time))\n",
    "    processed += 1"
   ]
  },
  {
   "cell_type": "code",
   "execution_count": 9,
   "metadata": {},
   "outputs": [
    {
     "data": {
      "image/png": "[encoded data removed]",
      "text/plain": [
       "<Figure size 432x288 with 1 Axes>"
      ]
     },
     "metadata": {
      "needs_background": "light"
     },
     "output_type": "display_data"
    }
   ],
   "source": [
    "uptri = np.triu_indices(cumu_diff_genes.shape[0], k=1)\n",
    "divs = cumu_pair_snvs[uptri] / cumu_pair_passed[uptri]\n",
    "_ = plt.hist(divs, bins=100)"
   ]
  },
  {
   "cell_type": "code",
   "execution_count": 10,
   "metadata": {},
   "outputs": [
    {
     "data": {
      "image/png": "[encoded data removed]",
      "text/plain": [
       "<Figure size 432x288 with 1 Axes>"
      ]
     },
     "metadata": {
      "needs_background": "light"
     },
     "output_type": "display_data"
    }
   ],
   "source": [
    "diff_frac = cumu_diff_genes[uptri] / cumu_passed_genes[uptri]\n",
    "_ = plt.hist(diff_frac, bins=100)\n",
    "plt.yscale('log')"
   ]
  },
  {
   "cell_type": "code",
   "execution_count": 11,
   "metadata": {},
   "outputs": [
    {
     "data": {
      "text/plain": [
       "<matplotlib.collections.PathCollection at 0x11b370290>"
      ]
     },
     "execution_count": 11,
     "metadata": {},
     "output_type": "execute_result"
    },
    {
     "data": {
      "image/png": "[encoded data removed]",
      "text/plain": [
       "<Figure size 432x288 with 1 Axes>"
      ]
     },
     "metadata": {
      "needs_background": "light"
     },
     "output_type": "display_data"
    }
   ],
   "source": [
    "plt.scatter(diff_frac, divs, s=0.6, linewidth=0, rasterized=True)"
   ]
  },
  {
   "cell_type": "code",
   "execution_count": 70,
   "metadata": {},
   "outputs": [],
   "source": [
    "np.save('/Volumes/Botein/uhgg/pairwise_distances/{}/pair_snvs'.format(mgnify_accession), cumu_pair_snvs)\n",
    "np.save('/Volumes/Botein/uhgg/pairwise_distances/{}/pair_passed'.format(mgnify_accession), cumu_pair_passed)\n",
    "np.save('/Volumes/Botein/uhgg/pairwise_distances/{}/diff_genes'.format(mgnify_accession), cumu_diff_genes)\n",
    "np.save('/Volumes/Botein/uhgg/pairwise_distances/{}/passed_genes'.format(mgnify_accession), cumu_passed_genes)"
   ]
  },
  {
   "cell_type": "code",
   "execution_count": 8,
   "metadata": {},
   "outputs": [],
   "source": [
    "cumu_pair_snvs = np.load('/Volumes/Botein/uhgg/pairwise_distances/{}/pair_snvs.npy'.format(mgnify_accession))\n",
    "cumu_pair_passed = np.load('/Volumes/Botein/uhgg/pairwise_distances/{}/pair_passed.npy'.format(mgnify_accession))\n",
    "cumu_diff_genes = np.load('/Volumes/Botein/uhgg/pairwise_distances/{}/diff_genes.npy'.format(mgnify_accession))\n",
    "cumu_passed_genes = np.load('/Volumes/Botein/uhgg/pairwise_distances/{}/passed_genes.npy'.format(mgnify_accession))"
   ]
  },
  {
   "cell_type": "code",
   "execution_count": 205,
   "metadata": {},
   "outputs": [],
   "source": [
    "from Bio import SeqIO\n",
    "\n",
    "core_gene_file = '/Users/Device6/Documents/Research/bgoodlab/UHGG/E_rectale_core_genes.faa'\n",
    "# core_gene_file = '/Users/Device6/Documents/Research/bgoodlab/UHGG/B_vulgatus_core_genes.faa'\n",
    "pangenome_file = '/Users/Device6/Documents/Research/bgoodlab/UHGG/E_rectale_pan-genome.faa'\n",
    "core_gene_name_file = '/Users/Device6/Documents/Research/bgoodlab/UHGG/E_rectale_core_genes.txt'\n",
    "\n",
    "fasta_sequences = SeqIO.parse(open(core_gene_file),'fasta')\n",
    "# fasta_sequences = SeqIO.parse(open(pangenome_file),'fasta')"
   ]
  },
  {
   "cell_type": "code",
   "execution_count": 26,
   "metadata": {},
   "outputs": [
    {
     "data": {
      "text/plain": [
       "<module 'UHGG_utils' from '../UHGG_utils.py'>"
      ]
     },
     "execution_count": 26,
     "metadata": {},
     "output_type": "execute_result"
    }
   ],
   "source": [
    "reload(UHGG_utils)"
   ]
  },
  {
   "cell_type": "code",
   "execution_count": 27,
   "metadata": {},
   "outputs": [
    {
     "name": "stdout",
     "output_type": "stream",
     "text": [
      "Finished 0 at 12:26:55\n",
      "Finished 100 at 12:29:07\n",
      "Finished 200 at 12:31:09\n",
      "Finished 300 at 12:33:01\n",
      "Finished 400 at 12:35:24\n",
      "Finished 500 at 12:37:52\n",
      "Finished 600 at 12:40:16\n",
      "Finished 700 at 12:42:34\n",
      "Finished 800 at 12:44:53\n",
      "Finished 900 at 12:47:29\n",
      "Finished 1000 at 12:49:47\n",
      "Finished 1100 at 12:51:20\n",
      "Finished 1200 at 12:53:27\n",
      "Finished 1300 at 12:56:00\n",
      "Finished 1400 at 12:58:21\n",
      "Finished 1500 at 13:00:28\n",
      "Finished 1600 at 13:02:50\n",
      "Finished 1700 at 13:04:34\n",
      "Finished 1800 at 13:06:19\n",
      "Finished 1900 at 13:08:24\n",
      "Finished 2000 at 13:10:49\n",
      "Finished 2100 at 13:12:52\n",
      "Finished 2200 at 13:15:16\n",
      "Finished 2300 at 13:17:09\n",
      "Finished 2400 at 13:18:59\n",
      "Finished 2500 at 13:20:44\n",
      "Finished 2600 at 13:22:40\n",
      "Finished 2700 at 13:24:20\n",
      "Finished 2800 at 13:26:36\n",
      "Finished 2900 at 13:29:05\n",
      "Finished 3000 at 13:31:03\n",
      "Finished 3100 at 13:33:19\n",
      "Finished 3200 at 13:35:08\n",
      "Finished 3300 at 13:37:11\n",
      "Finished 3400 at 13:39:34\n"
     ]
    }
   ],
   "source": [
    "coverage_array, gene_files = UHGG_utils.compute_gene_SNV_coverage(grouped_snvs_base, genome_mask, debug=False)"
   ]
  },
  {
   "cell_type": "code",
   "execution_count": 43,
   "metadata": {},
   "outputs": [],
   "source": [
    "import json\n",
    "species_core_genes = UHGG_utils.get_species_core_genes(coverage_array, gene_files)\n",
    "np.save('/Volumes/Botein/uhgg/core_genes/{}/SNV_coverage'.format(mgnify_accession), coverage_array)\n",
    "json.dump(list(gene_files), open('/Volumes/Botein/uhgg/core_genes/{}/gene_files.json'.format(mgnify_accession), 'w'))\n",
    "json.dump(list(species_core_genes), open('/Volumes/Botein/uhgg/core_genes/{}/core_genes.json'.format(mgnify_accession), 'w'))"
   ]
  },
  {
   "cell_type": "code",
   "execution_count": 37,
   "metadata": {},
   "outputs": [
    {
     "data": {
      "text/plain": [
       "(array([ 886.,  178.,  130.,  102.,   97.,  104.,  176.,  163.,  311.,\n",
       "        1282.]),\n",
       " array([4.10593307e-04, 9.79675631e-02, 1.95524533e-01, 2.93081503e-01,\n",
       "        3.90638473e-01, 4.88195442e-01, 5.85752412e-01, 6.83309382e-01,\n",
       "        7.80866352e-01, 8.78423322e-01, 9.75980292e-01]),\n",
       " <a list of 10 Patch objects>)"
      ]
     },
     "execution_count": 37,
     "metadata": {},
     "output_type": "execute_result"
    },
    {
     "data": {
      "image/png": "[encoded data removed]",
      "text/plain": [
       "<Figure size 432x288 with 1 Axes>"
      ]
     },
     "metadata": {
      "needs_background": "light"
     },
     "output_type": "display_data"
    }
   ],
   "source": [
    "plt.hist((coverage_array>0.5).mean(axis=1))"
   ]
  },
  {
   "cell_type": "code",
   "execution_count": 257,
   "metadata": {},
   "outputs": [
    {
     "data": {
      "text/plain": [
       "1129"
      ]
     },
     "execution_count": 257,
     "metadata": {},
     "output_type": "execute_result"
    }
   ],
   "source": [
    "np.sum((coverage_array>0.5).mean(axis=1) > 0.9)"
   ]
  },
  {
   "cell_type": "code",
   "execution_count": 29,
   "metadata": {},
   "outputs": [],
   "source": [
    "import random\n",
    "def sample_random_pair_of_genes(files):\n",
    "    while True:\n",
    "        file1, file2 = random.sample(files, 2)\n",
    "        id1 = int(file1.split('.')[0].split('-')[-1])\n",
    "        id2 = int(file2.split('.')[0].split('-')[-1])\n",
    "        if np.abs(id1-id2) < 15:\n",
    "            continue\n",
    "        if (id1 in core_genes) and (id2 in core_genes):\n",
    "            return file1, file2"
   ]
  },
  {
   "cell_type": "code",
   "execution_count": 51,
   "metadata": {},
   "outputs": [
    {
     "data": {
      "text/plain": [
       "('GUT_GENOME143712_1-1801.tsv', 'GUT_GENOME143712_1-1520.tsv')"
      ]
     },
     "execution_count": 51,
     "metadata": {},
     "output_type": "execute_result"
    }
   ],
   "source": [
    "UHGG_utils.sample_random_pair_of_genes(gene_files, core_genes, gene_df)"
   ]
  },
  {
   "cell_type": "code",
   "execution_count": 36,
   "metadata": {},
   "outputs": [
    {
     "data": {
      "text/plain": [
       "'GUT_GENOME000061'"
      ]
     },
     "execution_count": 36,
     "metadata": {},
     "output_type": "execute_result"
    }
   ],
   "source": [
    "header.split('\\t')[4]"
   ]
  },
  {
   "cell_type": "code",
   "execution_count": null,
   "metadata": {},
   "outputs": [],
   "source": []
  }
 ],
 "metadata": {
  "kernelspec": {
   "display_name": "microbiome",
   "language": "python",
   "name": "microbiome"
  },
  "language_info": {
   "codemirror_mode": {
    "name": "ipython",
    "version": 2
   },
   "file_extension": ".py",
   "mimetype": "text/x-python",
   "name": "python",
   "nbconvert_exporter": "python",
   "pygments_lexer": "ipython2",
   "version": "2.7.18"
  }
 },
 "nbformat": 4,
 "nbformat_minor": 2
}
