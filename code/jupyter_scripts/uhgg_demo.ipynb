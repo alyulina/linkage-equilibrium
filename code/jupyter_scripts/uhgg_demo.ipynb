{
 "cells": [
  {
   "cell_type": "code",
   "execution_count": 2,
   "metadata": {},
   "outputs": [],
   "source": [
    "import pandas as pd\n",
    "import numpy as np\n",
    "import os"
   ]
  },
  {
   "cell_type": "markdown",
   "metadata": {},
   "source": [
    "## Loading and dealing with the metadata table"
   ]
  },
  {
   "cell_type": "code",
   "execution_count": 2,
   "metadata": {},
   "outputs": [],
   "source": [
    "meta_data = pd.read_csv(\"41587_2020_603_MOESM3_ESM.csv\")"
   ]
  },
  {
   "cell_type": "code",
   "execution_count": 17,
   "metadata": {},
   "outputs": [
    {
     "data": {
      "text/html": [
       "<div>\n",
       "<style scoped>\n",
       "    .dataframe tbody tr th:only-of-type {\n",
       "        vertical-align: middle;\n",
       "    }\n",
       "\n",
       "    .dataframe tbody tr th {\n",
       "        vertical-align: top;\n",
       "    }\n",
       "\n",
       "    .dataframe thead th {\n",
       "        text-align: right;\n",
       "    }\n",
       "</style>\n",
       "<table border=\"1\" class=\"dataframe\">\n",
       "  <thead>\n",
       "    <tr style=\"text-align: right;\">\n",
       "      <th></th>\n",
       "      <th>Species representative</th>\n",
       "      <th>MGnify accession</th>\n",
       "      <th>ENA accession</th>\n",
       "      <th>Status</th>\n",
       "      <th>Reference genes</th>\n",
       "      <th>Core genes1</th>\n",
       "      <th>% Core genes1</th>\n",
       "      <th>Accessory genes1</th>\n",
       "      <th>Pan-genome size1</th>\n",
       "      <th>Number of SNVs</th>\n",
       "      <th>...</th>\n",
       "      <th>Unnamed: 16</th>\n",
       "      <th>Unnamed: 17</th>\n",
       "      <th>Number of 97% ANI clusters</th>\n",
       "      <th>Number of 99% ANI clusters</th>\n",
       "      <th>Number of genomes (total)</th>\n",
       "      <th>Number of genomes (non-redundant)</th>\n",
       "      <th>Number of genomes (near-complete)</th>\n",
       "      <th>Number of samples</th>\n",
       "      <th>Taxonomy lineage (GTDB)</th>\n",
       "      <th>Taxonomy lineage (NCBI)</th>\n",
       "    </tr>\n",
       "  </thead>\n",
       "  <tbody>\n",
       "    <tr>\n",
       "      <th>0</th>\n",
       "      <td>GUT_GENOME000001</td>\n",
       "      <td>MGYG-HGUT-00001</td>\n",
       "      <td>ERS3638031</td>\n",
       "      <td>Cultured (human gut)</td>\n",
       "      <td>3182</td>\n",
       "      <td>NaN</td>\n",
       "      <td>NaN</td>\n",
       "      <td>NaN</td>\n",
       "      <td>NaN</td>\n",
       "      <td>16351.0</td>\n",
       "      <td>...</td>\n",
       "      <td>0</td>\n",
       "      <td>1</td>\n",
       "      <td>2</td>\n",
       "      <td>4</td>\n",
       "      <td>4</td>\n",
       "      <td>3</td>\n",
       "      <td>1</td>\n",
       "      <td>3</td>\n",
       "      <td>d__Bacteria;p__Firmicutes_A;c__Clostridia;o__P...</td>\n",
       "      <td>d__Bacteria;p__Firmicutes;c__Clostridia;o__Clo...</td>\n",
       "    </tr>\n",
       "    <tr>\n",
       "      <th>1</th>\n",
       "      <td>GUT_GENOME000004</td>\n",
       "      <td>MGYG-HGUT-00002</td>\n",
       "      <td>ERS3638032</td>\n",
       "      <td>Cultured (human gut)</td>\n",
       "      <td>3920</td>\n",
       "      <td>1821.0</td>\n",
       "      <td>46.45</td>\n",
       "      <td>34621.0</td>\n",
       "      <td>36442.0</td>\n",
       "      <td>428560.0</td>\n",
       "      <td>...</td>\n",
       "      <td>49</td>\n",
       "      <td>162</td>\n",
       "      <td>134</td>\n",
       "      <td>327</td>\n",
       "      <td>358</td>\n",
       "      <td>308</td>\n",
       "      <td>120</td>\n",
       "      <td>308</td>\n",
       "      <td>d__Bacteria;p__Firmicutes_A;c__Clostridia;o__L...</td>\n",
       "      <td>d__Bacteria;p__Firmicutes;c__Clostridia;o__Clo...</td>\n",
       "    </tr>\n",
       "    <tr>\n",
       "      <th>2</th>\n",
       "      <td>GUT_GENOME000008</td>\n",
       "      <td>MGYG-HGUT-00003</td>\n",
       "      <td>ERS3638033</td>\n",
       "      <td>Cultured (human gut)</td>\n",
       "      <td>2690</td>\n",
       "      <td>1522.0</td>\n",
       "      <td>56.58</td>\n",
       "      <td>19714.0</td>\n",
       "      <td>21236.0</td>\n",
       "      <td>516967.0</td>\n",
       "      <td>...</td>\n",
       "      <td>244</td>\n",
       "      <td>676</td>\n",
       "      <td>42</td>\n",
       "      <td>561</td>\n",
       "      <td>1178</td>\n",
       "      <td>1000</td>\n",
       "      <td>593</td>\n",
       "      <td>1003</td>\n",
       "      <td>d__Bacteria;p__Bacteroidota;c__Bacteroidia;o__...</td>\n",
       "      <td>d__Bacteria;p__Bacteroidetes;c__Bacteroidia;o_...</td>\n",
       "    </tr>\n",
       "    <tr>\n",
       "      <th>3</th>\n",
       "      <td>GUT_GENOME000010</td>\n",
       "      <td>MGYG-HGUT-00004</td>\n",
       "      <td>ERS3638034</td>\n",
       "      <td>Cultured (human gut)</td>\n",
       "      <td>3634</td>\n",
       "      <td>NaN</td>\n",
       "      <td>NaN</td>\n",
       "      <td>NaN</td>\n",
       "      <td>NaN</td>\n",
       "      <td>58094.0</td>\n",
       "      <td>...</td>\n",
       "      <td>5</td>\n",
       "      <td>5</td>\n",
       "      <td>3</td>\n",
       "      <td>17</td>\n",
       "      <td>24</td>\n",
       "      <td>22</td>\n",
       "      <td>8</td>\n",
       "      <td>23</td>\n",
       "      <td>d__Bacteria;p__Firmicutes_A;c__Clostridia;o__O...</td>\n",
       "      <td>d__Bacteria;p__Firmicutes;c__Clostridia;o__Clo...</td>\n",
       "    </tr>\n",
       "    <tr>\n",
       "      <th>4</th>\n",
       "      <td>GUT_GENOME000017</td>\n",
       "      <td>MGYG-HGUT-00005</td>\n",
       "      <td>ERS3638035</td>\n",
       "      <td>Cultured (human gut)</td>\n",
       "      <td>3755</td>\n",
       "      <td>NaN</td>\n",
       "      <td>NaN</td>\n",
       "      <td>NaN</td>\n",
       "      <td>NaN</td>\n",
       "      <td>NaN</td>\n",
       "      <td>...</td>\n",
       "      <td>0</td>\n",
       "      <td>0</td>\n",
       "      <td>1</td>\n",
       "      <td>2</td>\n",
       "      <td>2</td>\n",
       "      <td>2</td>\n",
       "      <td>1</td>\n",
       "      <td>2</td>\n",
       "      <td>d__Bacteria;p__Firmicutes_A;c__Clostridia;o__P...</td>\n",
       "      <td>d__Bacteria;p__Firmicutes;c__Clostridia;o__Clo...</td>\n",
       "    </tr>\n",
       "  </tbody>\n",
       "</table>\n",
       "<p>5 rows × 26 columns</p>\n",
       "</div>"
      ],
      "text/plain": [
       "  Species representative MGnify accession ENA accession                Status  \\\n",
       "0       GUT_GENOME000001  MGYG-HGUT-00001    ERS3638031  Cultured (human gut)   \n",
       "1       GUT_GENOME000004  MGYG-HGUT-00002    ERS3638032  Cultured (human gut)   \n",
       "2       GUT_GENOME000008  MGYG-HGUT-00003    ERS3638033  Cultured (human gut)   \n",
       "3       GUT_GENOME000010  MGYG-HGUT-00004    ERS3638034  Cultured (human gut)   \n",
       "4       GUT_GENOME000017  MGYG-HGUT-00005    ERS3638035  Cultured (human gut)   \n",
       "\n",
       "   Reference genes  Core genes1  % Core genes1  Accessory genes1  \\\n",
       "0             3182          NaN            NaN               NaN   \n",
       "1             3920       1821.0          46.45           34621.0   \n",
       "2             2690       1522.0          56.58           19714.0   \n",
       "3             3634          NaN            NaN               NaN   \n",
       "4             3755          NaN            NaN               NaN   \n",
       "\n",
       "   Pan-genome size1  Number of SNVs  ...  Unnamed: 16  Unnamed: 17  \\\n",
       "0               NaN         16351.0  ...            0            1   \n",
       "1           36442.0        428560.0  ...           49          162   \n",
       "2           21236.0        516967.0  ...          244          676   \n",
       "3               NaN         58094.0  ...            5            5   \n",
       "4               NaN             NaN  ...            0            0   \n",
       "\n",
       "   Number of 97% ANI clusters  Number of 99% ANI clusters  \\\n",
       "0                           2                           4   \n",
       "1                         134                         327   \n",
       "2                          42                         561   \n",
       "3                           3                          17   \n",
       "4                           1                           2   \n",
       "\n",
       "   Number of genomes (total)  Number of genomes (non-redundant)  \\\n",
       "0                          4                                  3   \n",
       "1                        358                                308   \n",
       "2                       1178                               1000   \n",
       "3                         24                                 22   \n",
       "4                          2                                  2   \n",
       "\n",
       "   Number of genomes (near-complete)  Number of samples  \\\n",
       "0                                  1                  3   \n",
       "1                                120                308   \n",
       "2                                593               1003   \n",
       "3                                  8                 23   \n",
       "4                                  1                  2   \n",
       "\n",
       "                             Taxonomy lineage (GTDB)  \\\n",
       "0  d__Bacteria;p__Firmicutes_A;c__Clostridia;o__P...   \n",
       "1  d__Bacteria;p__Firmicutes_A;c__Clostridia;o__L...   \n",
       "2  d__Bacteria;p__Bacteroidota;c__Bacteroidia;o__...   \n",
       "3  d__Bacteria;p__Firmicutes_A;c__Clostridia;o__O...   \n",
       "4  d__Bacteria;p__Firmicutes_A;c__Clostridia;o__P...   \n",
       "\n",
       "                             Taxonomy lineage (NCBI)  \n",
       "0  d__Bacteria;p__Firmicutes;c__Clostridia;o__Clo...  \n",
       "1  d__Bacteria;p__Firmicutes;c__Clostridia;o__Clo...  \n",
       "2  d__Bacteria;p__Bacteroidetes;c__Bacteroidia;o_...  \n",
       "3  d__Bacteria;p__Firmicutes;c__Clostridia;o__Clo...  \n",
       "4  d__Bacteria;p__Firmicutes;c__Clostridia;o__Clo...  \n",
       "\n",
       "[5 rows x 26 columns]"
      ]
     },
     "execution_count": 17,
     "metadata": {},
     "output_type": "execute_result"
    }
   ],
   "source": [
    "meta_data.head()"
   ]
  },
  {
   "cell_type": "code",
   "execution_count": 18,
   "metadata": {},
   "outputs": [],
   "source": [
    "meta_data.sort_values('Number of genomes (near-complete)', ascending=False, inplace=True)"
   ]
  },
  {
   "cell_type": "code",
   "execution_count": 19,
   "metadata": {},
   "outputs": [],
   "source": [
    "top_species = meta_data.iloc[:100, -1].apply(lambda x: ' '.join(x.split(';')[-2:]))"
   ]
  },
  {
   "cell_type": "code",
   "execution_count": 20,
   "metadata": {},
   "outputs": [],
   "source": [
    "def find_species_row(meta_data, species_str):\n",
    "    mask = meta_data.iloc[:, -1].apply(lambda x: species_str in x)\n",
    "    return meta_data[mask]"
   ]
  },
  {
   "cell_type": "code",
   "execution_count": 21,
   "metadata": {},
   "outputs": [
    {
     "data": {
      "text/html": [
       "<div>\n",
       "<style scoped>\n",
       "    .dataframe tbody tr th:only-of-type {\n",
       "        vertical-align: middle;\n",
       "    }\n",
       "\n",
       "    .dataframe tbody tr th {\n",
       "        vertical-align: top;\n",
       "    }\n",
       "\n",
       "    .dataframe thead th {\n",
       "        text-align: right;\n",
       "    }\n",
       "</style>\n",
       "<table border=\"1\" class=\"dataframe\">\n",
       "  <thead>\n",
       "    <tr style=\"text-align: right;\">\n",
       "      <th></th>\n",
       "      <th>Species representative</th>\n",
       "      <th>MGnify accession</th>\n",
       "      <th>ENA accession</th>\n",
       "      <th>Status</th>\n",
       "      <th>Reference genes</th>\n",
       "      <th>Core genes1</th>\n",
       "      <th>% Core genes1</th>\n",
       "      <th>Accessory genes1</th>\n",
       "      <th>Pan-genome size1</th>\n",
       "      <th>Number of SNVs</th>\n",
       "      <th>...</th>\n",
       "      <th>Unnamed: 16</th>\n",
       "      <th>Unnamed: 17</th>\n",
       "      <th>Number of 97% ANI clusters</th>\n",
       "      <th>Number of 99% ANI clusters</th>\n",
       "      <th>Number of genomes (total)</th>\n",
       "      <th>Number of genomes (non-redundant)</th>\n",
       "      <th>Number of genomes (near-complete)</th>\n",
       "      <th>Number of samples</th>\n",
       "      <th>Taxonomy lineage (GTDB)</th>\n",
       "      <th>Taxonomy lineage (NCBI)</th>\n",
       "    </tr>\n",
       "  </thead>\n",
       "  <tbody>\n",
       "    <tr>\n",
       "      <th>2477</th>\n",
       "      <td>GUT_GENOME143505</td>\n",
       "      <td>MGYG-HGUT-02478</td>\n",
       "      <td>ERS3640508</td>\n",
       "      <td>Cultured (human gut)</td>\n",
       "      <td>4517</td>\n",
       "      <td>2259.0</td>\n",
       "      <td>50.01</td>\n",
       "      <td>192070.0</td>\n",
       "      <td>194329.0</td>\n",
       "      <td>842418.0</td>\n",
       "      <td>...</td>\n",
       "      <td>992</td>\n",
       "      <td>2343</td>\n",
       "      <td>276</td>\n",
       "      <td>2853</td>\n",
       "      <td>5750</td>\n",
       "      <td>3649</td>\n",
       "      <td>2090</td>\n",
       "      <td>3685</td>\n",
       "      <td>d__Bacteria;p__Bacteroidota;c__Bacteroidia;o__...</td>\n",
       "      <td>d__Bacteria;p__Bacteroidetes;c__Bacteroidia;o_...</td>\n",
       "    </tr>\n",
       "  </tbody>\n",
       "</table>\n",
       "<p>1 rows × 26 columns</p>\n",
       "</div>"
      ],
      "text/plain": [
       "     Species representative MGnify accession ENA accession  \\\n",
       "2477       GUT_GENOME143505  MGYG-HGUT-02478    ERS3640508   \n",
       "\n",
       "                    Status  Reference genes  Core genes1  % Core genes1  \\\n",
       "2477  Cultured (human gut)             4517       2259.0          50.01   \n",
       "\n",
       "      Accessory genes1  Pan-genome size1  Number of SNVs  ...  Unnamed: 16  \\\n",
       "2477          192070.0          194329.0        842418.0  ...          992   \n",
       "\n",
       "      Unnamed: 17  Number of 97% ANI clusters  Number of 99% ANI clusters  \\\n",
       "2477         2343                         276                        2853   \n",
       "\n",
       "      Number of genomes (total)  Number of genomes (non-redundant)  \\\n",
       "2477                       5750                               3649   \n",
       "\n",
       "      Number of genomes (near-complete)  Number of samples  \\\n",
       "2477                               2090               3685   \n",
       "\n",
       "                                Taxonomy lineage (GTDB)  \\\n",
       "2477  d__Bacteria;p__Bacteroidota;c__Bacteroidia;o__...   \n",
       "\n",
       "                                Taxonomy lineage (NCBI)  \n",
       "2477  d__Bacteria;p__Bacteroidetes;c__Bacteroidia;o_...  \n",
       "\n",
       "[1 rows x 26 columns]"
      ]
     },
     "execution_count": 21,
     "metadata": {},
     "output_type": "execute_result"
    }
   ],
   "source": [
    "# finding B. vulgatus (B. dorei)\n",
    "find_species_row(meta_data, 'dorei')"
   ]
  },
  {
   "cell_type": "code",
   "execution_count": 22,
   "metadata": {},
   "outputs": [
    {
     "name": "stdout",
     "output_type": "stream",
     "text": [
      "E. rectale's accession is MGYG-HGUT-02492\n"
     ]
    }
   ],
   "source": [
    "mgnify_accession = find_species_row(meta_data, 'rectale')['MGnify accession'].squeeze()\n",
    "print(\"E. rectale's accession is {}\".format(mgnify_accession))"
   ]
  },
  {
   "cell_type": "markdown",
   "metadata": {},
   "source": [
    "## Downloading ref genome data"
   ]
  },
  {
   "cell_type": "markdown",
   "metadata": {},
   "source": [
    "The '.faa' file is \"All predicted CDS\"\n",
    "\n",
    "'fna' file is the \"DNA sequence FASTA file of the genome assembly of the species representative\"\n",
    "\n",
    "A better way to download might be using the API, then we don't need to deal with the ftp address directly:\n",
    "\"https://www.ebi.ac.uk/metagenomics/api/v1/genomes/MGYG000000001/downloads/MGYG000000001.faa\"\n",
    "\n",
    "This is the same as using this website by hand:\n",
    "https://www.ebi.ac.uk/metagenomics/genomes/MGYG000000001#downloads\n",
    "\n",
    "However, these addresses are v2.0, so they have slightly different genome IDs: \"MGYG-HGUT-00001\" vs \"MGYG000000001\", for this reason I think we should download everything from the ftp address."
   ]
  },
  {
   "cell_type": "code",
   "execution_count": 12,
   "metadata": {},
   "outputs": [],
   "source": [
    "mgnify_accession = 'MGYG-HGUT-00001'"
   ]
  },
  {
   "cell_type": "markdown",
   "metadata": {},
   "source": [
    "### Download using API"
   ]
  },
  {
   "cell_type": "code",
   "execution_count": 13,
   "metadata": {},
   "outputs": [],
   "source": [
    "def accession_to_fileid(accession):\n",
    "    # reformatting the id\n",
    "    # my understanding is that we need to replace the HGUT part by 0000 and remove the -\n",
    "    items = accession.split('-')\n",
    "    return '0000'.join([items[0], items[-1]])\n",
    "\n",
    "fileid = accession_to_fileid(mgnify_accession)\n",
    "api_address = \"https://www.ebi.ac.uk/metagenomics/api/v1/genomes/{}/downloads/\".format(fileid)\n",
    "filename = \"{}.faa\".format(fileid)"
   ]
  },
  {
   "cell_type": "code",
   "execution_count": 14,
   "metadata": {},
   "outputs": [
    {
     "data": {
      "text/plain": [
       "'https://www.ebi.ac.uk/metagenomics/api/v1/genomes/MGYG000000001/downloads/MGYG000000001.faa'"
      ]
     },
     "execution_count": 14,
     "metadata": {},
     "output_type": "execute_result"
    }
   ],
   "source": [
    "api_address + filename"
   ]
  },
  {
   "cell_type": "code",
   "execution_count": 15,
   "metadata": {},
   "outputs": [],
   "source": [
    "import requests\n",
    "\n",
    "# download the sequence and the annotation\n",
    "filename = \"{}.faa\".format(fileid)\n",
    "r = requests.get(api_address + filename)\n",
    "open(filename, 'wb').write(r.content)\n",
    "\n",
    "filename = \"{}.fna\".format(fileid)\n",
    "r = requests.get(api_address + filename)\n",
    "open(filename, 'wb').write(r.content)"
   ]
  },
  {
   "cell_type": "markdown",
   "metadata": {},
   "source": [
    "### Download using ftp"
   ]
  },
  {
   "cell_type": "code",
   "execution_count": 16,
   "metadata": {},
   "outputs": [],
   "source": [
    "# the ftp address has an upper level folder that omits the last two number of the accession id\n",
    "ftp_base = \"http://ftp.ebi.ac.uk/pub/databases/metagenomics/mgnify_genomes/human-gut/v1.0/uhgg_catalogue/{}/{}/genome/\"\n",
    "ftp_address = ftp_base.format(mgnify_accession[:-2], mgnify_accession)"
   ]
  },
  {
   "cell_type": "code",
   "execution_count": 17,
   "metadata": {},
   "outputs": [
    {
     "name": "stdout",
     "output_type": "stream",
     "text": [
      "http://ftp.ebi.ac.uk/pub/databases/metagenomics/mgnify_genomes/human-gut/v1.0/uhgg_catalogue/MGYG-HGUT-000/MGYG-HGUT-00001/genome/\n"
     ]
    }
   ],
   "source": [
    "print(ftp_address)"
   ]
  },
  {
   "cell_type": "code",
   "execution_count": 18,
   "metadata": {},
   "outputs": [],
   "source": [
    "filename = \"{}.fna\".format(mgnify_accession)\n",
    "r = requests.get(ftp_address + filename)\n",
    "open(filename, 'wb').write(r.content)"
   ]
  },
  {
   "cell_type": "markdown",
   "metadata": {},
   "source": [
    "## Now let's check the SNV table\n",
    "Let's verify that the reference genome makes sense"
   ]
  },
  {
   "cell_type": "code",
   "execution_count": 19,
   "metadata": {},
   "outputs": [],
   "source": [
    "# download the SNV table\n",
    "ftp_address = \"http://ftp.ebi.ac.uk/pub/databases/metagenomics/mgnify_genomes/human-gut/v1.0/snv_catalogue/\"\n",
    "mgnify_accession = 'MGYG-HGUT-00001'\n",
    "\n",
    "filename = \"{}.tsv.tar.lz4\".format(mgnify_accession)\n",
    "r = requests.get(ftp_address + filename)\n",
    "open(filename, 'wb').write(r.content)"
   ]
  },
  {
   "cell_type": "markdown",
   "metadata": {},
   "source": [
    "Decompress in bash using: \n",
    "```\n",
    "lz4 -dc < MGYG-HGUT-00001.tsv.tar.lz4 | tar xvf -\n",
    "```"
   ]
  },
  {
   "cell_type": "code",
   "execution_count": 20,
   "metadata": {},
   "outputs": [],
   "source": [
    "import pandas as pd\n",
    "snv_df = pd.read_csv('MGYG-HGUT-00001_snvs.tsv', delimiter='\\t')  # using the file uploaded to github repo"
   ]
  },
  {
   "cell_type": "code",
   "execution_count": 21,
   "metadata": {},
   "outputs": [
    {
     "data": {
      "text/html": [
       "<div>\n",
       "<style scoped>\n",
       "    .dataframe tbody tr th:only-of-type {\n",
       "        vertical-align: middle;\n",
       "    }\n",
       "\n",
       "    .dataframe tbody tr th {\n",
       "        vertical-align: top;\n",
       "    }\n",
       "\n",
       "    .dataframe thead th {\n",
       "        text-align: right;\n",
       "    }\n",
       "</style>\n",
       "<table border=\"1\" class=\"dataframe\">\n",
       "  <thead>\n",
       "    <tr style=\"text-align: right;\">\n",
       "      <th></th>\n",
       "      <th>Contig</th>\n",
       "      <th>Pos</th>\n",
       "      <th>Ref</th>\n",
       "      <th>Alt</th>\n",
       "      <th>GUT_GENOME091053</th>\n",
       "      <th>GUT_GENOME178957</th>\n",
       "      <th>GUT_GENOME212267</th>\n",
       "    </tr>\n",
       "  </thead>\n",
       "  <tbody>\n",
       "    <tr>\n",
       "      <th>0</th>\n",
       "      <td>GUT_GENOME000001_106</td>\n",
       "      <td>1002</td>\n",
       "      <td>C</td>\n",
       "      <td>T</td>\n",
       "      <td>1</td>\n",
       "      <td>1</td>\n",
       "      <td>1</td>\n",
       "    </tr>\n",
       "    <tr>\n",
       "      <th>1</th>\n",
       "      <td>GUT_GENOME000001_106</td>\n",
       "      <td>1020</td>\n",
       "      <td>T</td>\n",
       "      <td>C</td>\n",
       "      <td>1</td>\n",
       "      <td>1</td>\n",
       "      <td>1</td>\n",
       "    </tr>\n",
       "    <tr>\n",
       "      <th>2</th>\n",
       "      <td>GUT_GENOME000001_106</td>\n",
       "      <td>1023</td>\n",
       "      <td>C</td>\n",
       "      <td>T</td>\n",
       "      <td>1</td>\n",
       "      <td>1</td>\n",
       "      <td>1</td>\n",
       "    </tr>\n",
       "    <tr>\n",
       "      <th>3</th>\n",
       "      <td>GUT_GENOME000001_106</td>\n",
       "      <td>1211</td>\n",
       "      <td>A</td>\n",
       "      <td>G</td>\n",
       "      <td>1</td>\n",
       "      <td>1</td>\n",
       "      <td>1</td>\n",
       "    </tr>\n",
       "    <tr>\n",
       "      <th>4</th>\n",
       "      <td>GUT_GENOME000001_106</td>\n",
       "      <td>1213</td>\n",
       "      <td>T</td>\n",
       "      <td>G</td>\n",
       "      <td>1</td>\n",
       "      <td>1</td>\n",
       "      <td>1</td>\n",
       "    </tr>\n",
       "    <tr>\n",
       "      <th>5</th>\n",
       "      <td>GUT_GENOME000001_106</td>\n",
       "      <td>1217</td>\n",
       "      <td>T</td>\n",
       "      <td>G</td>\n",
       "      <td>1</td>\n",
       "      <td>1</td>\n",
       "      <td>1</td>\n",
       "    </tr>\n",
       "    <tr>\n",
       "      <th>6</th>\n",
       "      <td>GUT_GENOME000001_106</td>\n",
       "      <td>1236</td>\n",
       "      <td>A</td>\n",
       "      <td>G</td>\n",
       "      <td>1</td>\n",
       "      <td>1</td>\n",
       "      <td>1</td>\n",
       "    </tr>\n",
       "    <tr>\n",
       "      <th>7</th>\n",
       "      <td>GUT_GENOME000001_106</td>\n",
       "      <td>1263</td>\n",
       "      <td>C</td>\n",
       "      <td>T</td>\n",
       "      <td>1</td>\n",
       "      <td>1</td>\n",
       "      <td>1</td>\n",
       "    </tr>\n",
       "    <tr>\n",
       "      <th>8</th>\n",
       "      <td>GUT_GENOME000001_106</td>\n",
       "      <td>1288</td>\n",
       "      <td>T</td>\n",
       "      <td>C</td>\n",
       "      <td>1</td>\n",
       "      <td>1</td>\n",
       "      <td>1</td>\n",
       "    </tr>\n",
       "    <tr>\n",
       "      <th>9</th>\n",
       "      <td>GUT_GENOME000001_106</td>\n",
       "      <td>1302</td>\n",
       "      <td>C</td>\n",
       "      <td>A</td>\n",
       "      <td>1</td>\n",
       "      <td>1</td>\n",
       "      <td>1</td>\n",
       "    </tr>\n",
       "  </tbody>\n",
       "</table>\n",
       "</div>"
      ],
      "text/plain": [
       "                 Contig   Pos Ref Alt  GUT_GENOME091053  GUT_GENOME178957  \\\n",
       "0  GUT_GENOME000001_106  1002   C   T                 1                 1   \n",
       "1  GUT_GENOME000001_106  1020   T   C                 1                 1   \n",
       "2  GUT_GENOME000001_106  1023   C   T                 1                 1   \n",
       "3  GUT_GENOME000001_106  1211   A   G                 1                 1   \n",
       "4  GUT_GENOME000001_106  1213   T   G                 1                 1   \n",
       "5  GUT_GENOME000001_106  1217   T   G                 1                 1   \n",
       "6  GUT_GENOME000001_106  1236   A   G                 1                 1   \n",
       "7  GUT_GENOME000001_106  1263   C   T                 1                 1   \n",
       "8  GUT_GENOME000001_106  1288   T   C                 1                 1   \n",
       "9  GUT_GENOME000001_106  1302   C   A                 1                 1   \n",
       "\n",
       "   GUT_GENOME212267  \n",
       "0                 1  \n",
       "1                 1  \n",
       "2                 1  \n",
       "3                 1  \n",
       "4                 1  \n",
       "5                 1  \n",
       "6                 1  \n",
       "7                 1  \n",
       "8                 1  \n",
       "9                 1  "
      ]
     },
     "execution_count": 21,
     "metadata": {},
     "output_type": "execute_result"
    }
   ],
   "source": [
    "snv_df.head(10)"
   ]
  },
  {
   "cell_type": "code",
   "execution_count": 22,
   "metadata": {},
   "outputs": [],
   "source": [
    "# let's check the first contig\n",
    "desired_contig = snv_df.iloc[0, 0]"
   ]
  },
  {
   "cell_type": "code",
   "execution_count": 23,
   "metadata": {},
   "outputs": [
    {
     "name": "stdout",
     "output_type": "stream",
     "text": [
      "129\n"
     ]
    }
   ],
   "source": [
    "from Bio import SeqIO\n",
    "\n",
    "# parsing the fasta file for ref seqeunce\n",
    "input_file = \"{}.fna\".format(mgnify_accession)\n",
    "fasta_sequences = SeqIO.parse(open(input_file),'fasta')\n",
    "\n",
    "all_records = []\n",
    "for record in fasta_sequences:\n",
    "    if record.id==desired_contig:\n",
    "        desired_record = record\n",
    "    all_records.append(record)\n",
    "print(len(all_records))"
   ]
  },
  {
   "cell_type": "code",
   "execution_count": 24,
   "metadata": {},
   "outputs": [
    {
     "name": "stdout",
     "output_type": "stream",
     "text": [
      "CCTAAAAATTTTATAATTTCGTTAGGCTTGTTTGCCATGCAAATTTTTAAAAATATGAAACTTAATTTAACCTATCGGTTTATTTATCAATTCGAGAATAATTCTCATCATATCTAATTAACAAAACCTAACTAAATATTTATTAATTCTAATCTTAAATCATTTAATATTGTCTTTGTTGCTCTTAATCTTATTTGCTGTCTATTTCCATTAAATACGTATCTCTTTACTATTATCTTTCCATTTATACAAATCCCAAAATATACCAAACCAACTGGTTTTTCTTCACTTCCACCTTCTGGTCCTGCTATTCCTGTTGTTGATAGCCCTATATTGGTATTATGCCTTTTAGCTATACCTTCTGCCATTTCTCTAGCTGTTTCCTCACTAACTGCTCCAAACTTATCTAGAGTTTCTTTTTTCACACCTAAAGATTTCATCTTAGCTTCATTGGAATAAGTTACACAACCTTCCATAAAAACAGATGAAATTCCTGGATAATTTATAAGGTGAGATGATACCATTCCTCCTGTACATGATTCTGCTACACTTATAGTTAAATTTTTATTAACTAAAATCTCAGCAACAGTATCTTCTAATGAAATATCACCCTCTGAATATATGTAACTTCCTACTCTATCTTGAATTTTATGTACAACTGGATTTATTAAATTAATAGCTTCTTCTTTACTAGTAGCTTTTGCTGTAATTCTTAAAGTTACTTCCGTGTCCTTTGCATATGGAGCTACAGTTGGATTTGATTGTTCTTTTATTATATCTATTATCTCTTCTTCTAAAGAAGATTCACCAATTCCATAGAATCTAAGAGTTTTAGAAACCAAAATTTCATTTGTTAAATTTTTTAAATATGGCTTAACATTTTCTTCGAACATTGGCTTCATTTCTCTTGGTGGGCCTGGTAATACTATTATTGTTTTTTTTCCTTTTCTTAAAATTGCTCCTGGTGCTGTACCATTGTTATTTTCAAGTATTATTGCATCCTTCGGAAAGTATGCTTGTTTCTTGTTATTCTCAGTTGGTACTCTTCCTAATTTATTAAAATATATTTCTATCTTATTCCATGATTTTTCATCAAGTACTAATTCTTGATTAAAAAACTTAGCTGCAGTTTCTTTCGTTAAATCATCTTTAGTTGGACCAAGTCCTCCTGTAGTTATTACCATATCACTTCTATTTAAACTTTCTTCAAAATACTTTAATAATCTTTCCTCATTATCTCCCACAGTTCCTTGATAATACACCTCGACTCCTAAATCAGCTAATTCTTTTGCCAAGTATTGCGAGTTTGTATTTACTATATCTCCTAAAAGAATTTCTGTTCCTACAGTTATAATTTCTGCTCTCATTGTCATTCACCCCTTCAATAATAATGTTTACCATATACATAATTTTGATGTATTTTTATATCTAAATATCTTTATATAAAACAAAAGGGCATATTTCGAATATATTTAGTTTATCTCAGAAGAAAGATAGAAAATATAAATTTTCTACCAGCTCCTCTAAATAAACTAACCTATCCGAAACAGCCCATTTTCATTGGAGGCGACACCCAGATTCGAACTGGGGATCAAAGAGTTGCAGTCCACTGCCTTACCACTTGGCTATGTCGCCTTATTGATTACAAGTAAATTATATATATCTTTGGTAATTTGTGCAACATAATTAATAAATATACTTAAAAATTTTATTTATAATCTCAACCACTCCACTCATAAACTTATAAAGTAGTGGTACTTTCAGTTCAAATATTAATTCAATATAATTAACTATATGAAAAAACATAGAAAATAAAATCGTCAATTTAATTTGAAGATTTAATAAATAGGTTTTGTTAATTAGATATGATGAGAATTATTCTCGAATTGATAAATAAACCGATAGGTTAAATTAAGTTTCATATTTTTAAAAATTTGCATGGCAAACAAGCCTAACGAAATTATAAAATTTTTAGG\n",
      "Contig length: 1976\n"
     ]
    }
   ],
   "source": [
    "print(desired_record.seq)\n",
    "print(\"Contig length: {}\".format(len(desired_record.seq)))"
   ]
  },
  {
   "cell_type": "code",
   "execution_count": 25,
   "metadata": {},
   "outputs": [
    {
     "name": "stdout",
     "output_type": "stream",
     "text": [
      "Downloaded ref, SNV table ref\n",
      "('C', 'C')\n",
      "('T', 'T')\n",
      "('C', 'C')\n",
      "('A', 'A')\n",
      "('T', 'T')\n",
      "('T', 'T')\n",
      "('A', 'A')\n",
      "('C', 'C')\n",
      "('T', 'T')\n",
      "('C', 'C')\n",
      "('A', 'A')\n",
      "('C', 'C')\n",
      "('C', 'C')\n",
      "('A', 'A')\n",
      "('T', 'T')\n",
      "('C', 'C')\n",
      "('A', 'A')\n",
      "('T', 'T')\n",
      "('A', 'A')\n",
      "('A', 'A')\n"
     ]
    }
   ],
   "source": [
    "print(\"Downloaded ref, SNV table ref\")\n",
    "for _, row in snv_df.head(20).iterrows():\n",
    "    # remember to change contig position to str index by subtracting 1 !!!\n",
    "    # took me a while to realize this !!!\n",
    "    print(desired_record.seq[int(row['Pos'])-1], row['Ref'])"
   ]
  },
  {
   "cell_type": "markdown",
   "metadata": {},
   "source": [
    "Now that we have checked that the reference sequence is indeed what's reported in the SNV table, the next step should be parsing the gene annotations."
   ]
  },
  {
   "cell_type": "markdown",
   "metadata": {},
   "source": [
    "## Processing the SNV tables\n",
    "First step: split the SNV table by gene"
   ]
  },
  {
   "cell_type": "code",
   "execution_count": 1,
   "metadata": {},
   "outputs": [],
   "source": [
    "import sys\n",
    "sys.path.append('..')\n",
    "import UHGG_utils"
   ]
  },
  {
   "cell_type": "code",
   "execution_count": 2,
   "metadata": {},
   "outputs": [
    {
     "name": "stdout",
     "output_type": "stream",
     "text": [
      "Finished 0 at 19:00:13\n"
     ]
    }
   ],
   "source": [
    "snvs_path = '/Volumes/Botein/uhgg/MGYG-HGUT-00001_snvs.tsv'\n",
    "grouped_snvs_base = '/Volumes/Botein/uhgg/MGYG-HGUT-00001/'  # make sure to start with an empty folder\n",
    "gene_df = UHGG_utils.gff_to_df('/Volumes/Botein/uhgg/MGYG-HGUT-00001.gff')\n",
    "\n",
    "UHGG_utils.process_SNVs_table(snvs_path, gene_df, grouped_snvs_base)"
   ]
  },
  {
   "cell_type": "markdown",
   "metadata": {},
   "source": [
    "Second step: process each individual genes and compute all pairwise counts\n",
    "I've done the above for the bigger table of E. rectale"
   ]
  },
  {
   "cell_type": "code",
   "execution_count": 24,
   "metadata": {},
   "outputs": [],
   "source": [
    "mgnify_accession = 'MGYG-HGUT-02492'"
   ]
  },
  {
   "cell_type": "code",
   "execution_count": 33,
   "metadata": {},
   "outputs": [],
   "source": [
    "snvs_path = '/Volumes/Botein/uhgg/MGYG-HGUT-02492_snvs.tsv'\n",
    "grouped_snvs_base = '/Volumes/Botein/uhgg/MGYG-HGUT-02492/'  # make sure to start with an empty folder\n",
    "gene_df = UHGG_utils.gff_to_df('/Volumes/Botein/uhgg/MGYG-HGUT-02492.gff')\n",
    "gene_df = gene_df.set_index('Gene ID')\n",
    "genomes_metadata = pd.read_csv('/Volumes/Botein/uhgg/genomes-nr_metadata.tsv', delimiter='\\t')"
   ]
  },
  {
   "cell_type": "code",
   "execution_count": 26,
   "metadata": {},
   "outputs": [],
   "source": [
    "header = UHGG_utils.get_SNVs_table_header(snvs_path)"
   ]
  },
  {
   "cell_type": "code",
   "execution_count": 68,
   "metadata": {},
   "outputs": [
    {
     "data": {
      "text/plain": [
       "<module 'UHGG_utils' from '../UHGG_utils.py'>"
      ]
     },
     "execution_count": 68,
     "metadata": {},
     "output_type": "execute_result"
    }
   ],
   "source": [
    "reload(UHGG_utils)"
   ]
  },
  {
   "cell_type": "code",
   "execution_count": 79,
   "metadata": {},
   "outputs": [
    {
     "name": "stdout",
     "output_type": "stream",
     "text": [
      "Finished 0 at 20:56:08\n",
      "Finished 100 at 21:07:28\n",
      "Finished 200 at 21:13:05\n",
      "Finished 300 at 21:18:50\n",
      "Finished 400 at 21:27:41\n",
      "Finished 500 at 21:37:07\n",
      "Finished 600 at 21:45:42\n",
      "Finished 700 at 21:52:53\n",
      "Finished 800 at 22:01:50\n",
      "Finished 900 at 22:09:52\n",
      "Finished 1000 at 22:15:21\n",
      "Finished 1100 at 22:19:42\n",
      "Finished 1200 at 22:27:56\n",
      "Finished 1300 at 22:37:18\n",
      "Finished 1400 at 22:44:55\n",
      "Finished 1500 at 22:53:02\n",
      "Finished 1600 at 22:58:25\n",
      "Finished 1700 at 23:03:11\n",
      "Finished 1800 at 23:09:45\n",
      "Finished 1900 at 23:17:35\n",
      "Finished 1900 at 23:17:35\n",
      "Finished 2000 at 23:23:23\n",
      "Finished 2100 at 23:29:20\n",
      "Finished 2200 at 23:34:38\n",
      "Finished 2300 at 23:38:57\n",
      "Finished 2400 at 23:43:09\n",
      "Finished 2500 at 23:49:06\n",
      "Finished 2600 at 23:54:12\n",
      "Finished 2700 at 00:01:51\n",
      "Finished 2800 at 00:07:59\n",
      "Finished 2800 at 00:07:59\n",
      "Finished 2900 at 00:14:46\n",
      "Finished 3000 at 00:19:10\n",
      "Finished 3100 at 00:24:53\n",
      "Finished 3200 at 00:31:40\n",
      "Finished 3241 at 00:35:24\n"
     ]
    }
   ],
   "source": [
    "from datetime import datetime\n",
    "gene_files = os.listdir(grouped_snvs_base)\n",
    "\n",
    "output_path = '/Volumes/Botein/uhgg/E_rectale_site_pairs.txt'\n",
    "with open(output_path, 'w') as f:\n",
    "    f.write(' '.join(('n11', 'n10', 'n01', 'n00', 'ell')) + '\\n')\n",
    "\n",
    "processed = 0\n",
    "\n",
    "for gene_file in gene_files:\n",
    "    gene_file_path = grouped_snvs_base + gene_file\n",
    "    items = gene_file.split('.')[0].split('-')\n",
    "    gene_id = int(items[-1])\n",
    "    contig = items[0]\n",
    "    if processed % 100 == 0:\n",
    "        now = datetime.now()\n",
    "        current_time = now.strftime(\"%H:%M:%S\")\n",
    "        print(\"Finished {} at {}\".format(processed, current_time))\n",
    "    if gene_df.loc[gene_id, 'Type'] != 'CDS':\n",
    "        continue\n",
    "    UHGG_utils.process_SNV_table_single_gene(mgnify_accession, header, genomes_metadata, gene_file_path, contig, gene_id, output_path)\n",
    "    processed += 1\n",
    "\n",
    "now = datetime.now()\n",
    "current_time = now.strftime(\"%H:%M:%S\")\n",
    "print(\"Finished {} at {}\".format(processed, current_time))"
   ]
  },
  {
   "cell_type": "code",
   "execution_count": 3,
   "metadata": {},
   "outputs": [],
   "source": [
    "output_path = '/Volumes/Botein/uhgg/E_rectale_site_pairs.txt'\n",
    "res = pd.read_csv(output_path, delimiter=' ')"
   ]
  },
  {
   "cell_type": "code",
   "execution_count": 11,
   "metadata": {},
   "outputs": [],
   "source": [
    "res = res.to_numpy()"
   ]
  },
  {
   "cell_type": "code",
   "execution_count": 15,
   "metadata": {},
   "outputs": [],
   "source": [
    "np.save('/Volumes/Botein/uhgg/E_rectale_site_pairs', res)"
   ]
  },
  {
   "cell_type": "code",
   "execution_count": 4,
   "metadata": {},
   "outputs": [
    {
     "name": "stdout",
     "output_type": "stream",
     "text": [
      "CPU times: user 2.32 ms, sys: 6.52 s, total: 6.52 s\n",
      "Wall time: 10.8 s\n"
     ]
    }
   ],
   "source": [
    "%%time\n",
    "res = np.load('/Volumes/Botein/uhgg/E_rectale_site_pairs.npy')"
   ]
  },
  {
   "cell_type": "code",
   "execution_count": 5,
   "metadata": {},
   "outputs": [],
   "source": [
    "n11s = res[:, 0].astype(float)"
   ]
  },
  {
   "cell_type": "code",
   "execution_count": 6,
   "metadata": {},
   "outputs": [
    {
     "data": {
      "text/plain": [
       "0.0"
      ]
     },
     "execution_count": 6,
     "metadata": {},
     "output_type": "execute_result"
    }
   ],
   "source": [
    "n11s[0]"
   ]
  },
  {
   "cell_type": "code",
   "execution_count": null,
   "metadata": {},
   "outputs": [],
   "source": []
  }
 ],
 "metadata": {
  "kernelspec": {
   "display_name": "microbiome",
   "language": "python",
   "name": "microbiome"
  },
  "language_info": {
   "codemirror_mode": {
    "name": "ipython",
    "version": 2
   },
   "file_extension": ".py",
   "mimetype": "text/x-python",
   "name": "python",
   "nbconvert_exporter": "python",
   "pygments_lexer": "ipython2",
   "version": "2.7.18"
  }
 },
 "nbformat": 4,
 "nbformat_minor": 2
}
