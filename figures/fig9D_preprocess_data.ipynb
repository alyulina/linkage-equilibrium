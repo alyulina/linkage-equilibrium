{
 "cells": [
  {
   "cell_type": "code",
   "execution_count": 1,
   "metadata": {
    "collapsed": true
   },
   "outputs": [],
   "source": [
    "import sys\n",
    "import os\n",
    "sys.path.append('/share/software/user/open/py-matplotlib/3.2.1_py36/lib/python3.6/site-packages')\n",
    "sys.path.append('/share/software/user/open/py-numpy/1.18.1_py36/lib/python3.6/site-packages')\n",
    "import numpy as np"
   ]
  },
  {
   "cell_type": "code",
   "execution_count": 2,
   "metadata": {},
   "outputs": [
    {
     "name": "stdout",
     "output_type": "stream",
     "text": [
      "Total data shape: (9697752, 4), 310328064 bytes\n"
     ]
    }
   ],
   "source": [
    "# load precomputed haplotype count table\n",
    "path = '/home/groups/bhgood/uhgg/site_pairs/MGYG-HGUT-02492/MGYG-HGUT-02492.npy'\n",
    "pairtype = 0 # syn\n",
    "\n",
    "ns = np.load(path).astype(float)\n",
    "n11s = ns[:, 0]\n",
    "n10s = ns[:, 1]\n",
    "n01s = ns[:, 2]\n",
    "n00s = ns[:, 3]\n",
    "ells = ns[:, 4]\n",
    "types = ns[:, 5]\n",
    "ntots = n11s+n10s+n01s+n00s\n",
    "\n",
    "max_ntot = ntots.max()\n",
    "\n",
    "# keeping only well covered sites\n",
    "good_idxs = (ntots>0.95*max_ntot)\n",
    "\n",
    "mask = (types==pairtype)\n",
    "good_idxs = good_idxs & mask\n",
    "\n",
    "n11s = n11s[good_idxs]\n",
    "n10s = n10s[good_idxs]\n",
    "n01s = n01s[good_idxs]\n",
    "n00s = n00s[good_idxs]\n",
    "n_obs = np.vstack([n10s, n01s, n11s, n00s]).T\n",
    "print(\"Total data shape: {}, {} bytes\".format(n_obs.shape, n_obs.nbytes))\n",
    "ntots = ntots[good_idxs]\n",
    "ells = ells[good_idxs]"
   ]
  },
  {
   "cell_type": "code",
   "execution_count": 3,
   "metadata": {
    "collapsed": true
   },
   "outputs": [],
   "source": [
    "f11s = n11s*1.0/ntots\n",
    "f10s = n10s*1.0/ntots\n",
    "f01s = n01s*1.0/ntots\n",
    "f00s = n00s*1.0/ntots\n",
    "\n",
    "fAs = f11s+f10s\n",
    "fBs = f11s+f01s\n",
    "\n",
    "nAs = n11s+n10s\n",
    "nBs = n11s+n01s"
   ]
  },
  {
   "cell_type": "code",
   "execution_count": 4,
   "metadata": {
    "collapsed": true
   },
   "outputs": [],
   "source": [
    "f0s = np.logspace(-3, -0.5, 100)\n",
    "fmins = f0s * 0.3\n",
    "fmaxs = f0s * 3\n",
    "\n",
    "mean_nonzero_LE = []\n",
    "LE_prob = []\n",
    "mean_LE = []\n",
    "num_pairs = []\n",
    "\n",
    "ellmin,ellmax = 1e6, 1e9\n",
    "for i in range(len(f0s)):\n",
    "    fmax = fmaxs[i]\n",
    "    fmin = fmins[i]\n",
    "    good_idxs = (ells>ellmin)*(ells<ellmax)*(fAs<=fmax)*(fBs<=fmax)*(fAs>=fmin)*(fBs>=fmin)\n",
    "    lambs = f11s[good_idxs] * f10s[good_idxs] * f01s[good_idxs] * f00s[good_idxs]\n",
    "    lambs /= fAs[good_idxs]**2 * fBs[good_idxs]**2 * (1-fAs[good_idxs])**2 * (1-fBs[good_idxs])**2\n",
    "    \n",
    "    mean_LE.append(np.mean(lambs))\n",
    "    LE_prob.append(np.mean(lambs>0))\n",
    "    mean_nonzero_LE.append(np.mean(lambs[lambs>0]))\n",
    "    num_pairs.append(len(lambs))"
   ]
  },
  {
   "cell_type": "code",
   "execution_count": 5,
   "metadata": {
    "collapsed": true
   },
   "outputs": [],
   "source": [
    "np.save(\"f0s_fig9d\", f0s)\n",
    "np.save(\"LE_prob_fig9d\", LE_prob)"
   ]
  },
  {
   "cell_type": "code",
   "execution_count": null,
   "metadata": {
    "collapsed": true
   },
   "outputs": [],
   "source": []
  }
 ],
 "metadata": {
  "kernelspec": {
   "display_name": "Python 3",
   "language": "python",
   "name": "python3"
  },
  "language_info": {
   "codemirror_mode": {
    "name": "ipython",
    "version": 3
   },
   "file_extension": ".py",
   "mimetype": "text/x-python",
   "name": "python",
   "nbconvert_exporter": "python",
   "pygments_lexer": "ipython3",
   "version": "3.6.1"
  }
 },
 "nbformat": 4,
 "nbformat_minor": 5
}
